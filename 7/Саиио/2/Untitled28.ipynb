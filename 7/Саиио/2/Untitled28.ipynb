{
  "nbformat": 4,
  "nbformat_minor": 0,
  "metadata": {
    "colab": {
      "name": "Untitled28.ipynb",
      "provenance": [],
      "collapsed_sections": []
    },
    "kernelspec": {
      "name": "python3",
      "display_name": "Python 3"
    },
    "language_info": {
      "name": "python"
    }
  },
  "cells": [
    {
      "cell_type": "code",
      "metadata": {
        "id": "RG4CsYb42wah"
      },
      "source": [
        "class simplex:\n",
        "  def solve(self, A_inv, x, k):\n",
        "    n = len(A_inv)\n",
        "    k -= 1 # для лучшей индексации\n",
        "    # ШАГ 1\n",
        "    l = np.dot(A_inv, x)\n",
        "    li = l[k] # находим i-ую компоненту вектора l\n",
        "    if (li == 0): # проверка компоненты на равенство нолю\n",
        "      return \"Матрица не может быть обратимой\"\n",
        "    # ШАГ 2\n",
        "    l1 = np.copy(l) # получаем вектор l с волной\n",
        "    l1[k] = -1 # заменяем i-ую компоненту вектора l с волной -1\n",
        "    # ШАГ 3\n",
        "    l2 = np.dot(-1/li, l1) # получаем вектор l с шапочкой\n",
        "    # ШАГ 4\n",
        "    E = np.eye(n) # создаем единичную матрицу\n",
        "    Q = np.copy(E)\n",
        "    #print(l2)\n",
        "    Q[:,k] = l2.transpose() # создаем матрицу Q\n",
        "    z = np.eye(n)\n",
        "    for i in range(n):\n",
        "      for j in range(n):\n",
        "        z[i][j] = Q[i][i]*A_inv[i][j]\n",
        "        if (i != k):\n",
        "          z[i][j] += Q[i][k]*A_inv[k][j]\n",
        "    return z\n",
        "\n",
        "  def get_matrix(self, av, Jb):\n",
        "    a = np.eye(len(Jb))\n",
        "    j = 0\n",
        "    for i in Jb:\n",
        "      a[:, j] = av[:, i - 1]\n",
        "      j += 1\n",
        "    a = np.linalg.inv(a)\n",
        "    return a\n",
        "    \n",
        "  def begin_simplex(self, A, b):\n",
        "    n = len(A[0])\n",
        "    m = len(b)\n",
        "    for i in range(m):\n",
        "      if b[i] < 0:\n",
        "        b[i] *= -1\n",
        "        A[i] *= -1\n",
        "    E = np.eye(m)\n",
        "    Av = np.empty([m, n + m])\n",
        "    for i in range(m):\n",
        "      Av[i] = np.append(A[i], E[i])\n",
        "  \n",
        "    x = np.append(np.zeros(n), b)\n",
        "  \n",
        "    Jb = np.array([n + i + 1 for i in range(m)])\n",
        "    c = [0 if i < n else -1 for i in range(n + m)]\n",
        "    x, jb = self.main_simplex(Av, c, x, Jb)\n",
        "    print(x,jb)\n",
        "    for i in x[n:]:\n",
        "      if abs(i) > 10 ** -6:\n",
        "        return 'Несовместна'\n",
        "    while True:\n",
        "      k = -1\n",
        "      for i in range(len(jb)):\n",
        "        if (jb[i] > n):\n",
        "          k = i\n",
        "      if k == -1:\n",
        "        return x[:n], jb\n",
        "        break\n",
        "      print(k)\n",
        "      jnb = []\n",
        "      for i in range(1, n + 1):\n",
        "        if not i in jb:\n",
        "          jnb.append(i)\n",
        "      print(jnb)\n",
        "      avb_inv = self.get_matrix(Av, jb)\n",
        "      flag = False\n",
        "      for i in jnb:\n",
        "        l = np.dot(avb_inv, Av[:,i - 1])\n",
        "        print(i, l)\n",
        "        if abs(l[k]) < 10 ** -6:\n",
        "          jb[k] = i\n",
        "          flag = True\n",
        "          break\n",
        "      print(jb)\n",
        "      if not flag:\n",
        "        c = c[:-1]\n",
        "        jb = jb[:-1]\n",
        "        A = A[:-1]\n",
        "        Av = Av[:-1]\n",
        "        b = b[:-1]\n",
        "\n",
        "  def main_simplex(self, A, c, x, jb):\n",
        "    iteration = 0\n",
        "    while True:\n",
        "      iteration += 1\n",
        "      if iteration == 1:\n",
        "        ab = np.array([np.copy(A[:,i-1]) for i in jb]).transpose()\n",
        "        A_i = np.linalg.inv(ab)\n",
        "      else:\n",
        "        ab[:,position_min_tetta] = A[:, jb[position_min_tetta] - 1]\n",
        "        A_i = self.solve(A_i, ab[:,position_min_tetta], position_min_tetta + 1)\n",
        "      cb = np.array([c[i - 1] for i in jb])\n",
        "      u = np.dot(cb, A_i)\n",
        "      delta = np.dot(u, A) -c\n",
        "      j0=0\n",
        "      if min(delta) >= 0:\n",
        "      \n",
        "        return (x, jb)\n",
        "      while delta[j0]>=0:\n",
        "        j0 += 1\n",
        "      z = np.dot(A_i, A[:,j0])\n",
        "      tetta = [float(x[jb[i] - 1])/float(z[i]) if z[i]> 0 else np.inf for i in range(len(jb))]\n",
        "      tetta0 = np.min(tetta)\n",
        "      if tetta0 is np.inf:\n",
        "        print(\"целевая функция неограничена на множестве допустимых планов\")\n",
        "      position_min_tetta = np.where(tetta == tetta0)[0][0]\n",
        "      jb_new = np.copy(jb)\n",
        "      jb_new[position_min_tetta] = j0 + 1\n",
        "      x_new = np.copy(x)\n",
        "      j = 0\n",
        "      x_new = x_new.astype(np.float64)\n",
        "      for i in jb:\n",
        "        x_new[i - 1] = float(x[i - 1]) - tetta0*float(z[j])\n",
        "        j+=1\n",
        "      x_new[j0] = tetta0\n",
        "      x = x_new\n",
        "      jb = jb_new\n",
        "        \n",
        "  \n"
      ],
      "execution_count": null,
      "outputs": []
    },
    {
      "cell_type": "code",
      "metadata": {
        "id": "6RO2AiKMoe8R"
      },
      "source": [
        "\n",
        "def solve(A_inv, x, k):\n",
        "  n = len(A_inv)\n",
        "  k -= 1 # для лучшей индексации\n",
        "  # ШАГ 1\n",
        "  l = np.dot(A_inv, x)\n",
        "  li = l[k] # находим i-ую компоненту вектора l\n",
        "  if (li == 0): # проверка компоненты на равенство нолю\n",
        "    return \"Матрица не может быть обратимой\"\n",
        "  # ШАГ 2\n",
        "  l1 = np.copy(l) # получаем вектор l с волной\n",
        "  l1[k] = -1 # заменяем i-ую компоненту вектора l с волной -1\n",
        "  # ШАГ 3\n",
        "  l2 = np.dot(-1/li, l1) # получаем вектор l с шапочкой\n",
        "  # ШАГ 4\n",
        "  E = np.eye(n) # создаем единичную матрицу\n",
        "  Q = np.copy(E)\n",
        "  #print(l2)\n",
        "  Q[:,k] = l2.transpose() # создаем матрицу Q\n",
        "  z = np.eye(n)\n",
        "  for i in range(n):\n",
        "    for j in range(n):\n",
        "      z[i][j] = Q[i][i]*A_inv[i][j]\n",
        "      if (i != k):\n",
        "        z[i][j] += Q[i][k]*A_inv[k][j]\n",
        "  return z"
      ],
      "execution_count": null,
      "outputs": []
    },
    {
      "cell_type": "code",
      "metadata": {
        "id": "As4RYRpCy3pQ"
      },
      "source": [
        "from math import ceil\n",
        "def get_f(a):\n",
        "  return 1 - (ceil(a) - a)\n",
        "  "
      ],
      "execution_count": null,
      "outputs": []
    },
    {
      "cell_type": "code",
      "metadata": {
        "id": "Ldh01b78So16"
      },
      "source": [
        "from scipy.optimize import linprog\n",
        "import numpy as np\n",
        "from math import trunc\n",
        "def gomori(c, A, b, bounds):\n",
        "  c *= -1\n",
        "  while True:\n",
        "    \n",
        "    res = linprog( c, A, b, bounds = bound, method = 'simplex')\n",
        "    \n",
        "    x = res.x\n",
        "    Jb = []\n",
        "    for i in range(len(x)):\n",
        "      if x[i] != 0:\n",
        "        Jb.append(i + 1)\n",
        "    \n",
        "    while len(Jb) < len(A):\n",
        "      for i in range(len(A[0])):\n",
        "        if i + 1 not in Jb:\n",
        "          Jb.append(i + 1)\n",
        "          break\n",
        "    k = None\n",
        "    fl = 0\n",
        "    for i in range(len(x)):\n",
        "      \n",
        "      if abs(round(x[i]) - x[i]) > 10 ** -6:\n",
        "        k = i\n",
        "        fl = 1\n",
        "        break\n",
        "    if fl == 0:\n",
        "      return x\n",
        "    \n",
        "    ab = np.array([np.copy(A[:,i-1]) for i in Jb]).transpose()\n",
        "    \n",
        "    ab_inv = np.linalg.inv(ab)\n",
        "    \n",
        "    l = [0 for i in range(len(Jb))]\n",
        "    l[k] = 1\n",
        "    y = np.dot(l, ab_inv)\n",
        "    small_a = []\n",
        "    for i in range(len(A[0])):\n",
        "      small_a.append(np.dot(y, A[:,i]))\n",
        "    \n",
        "    small_b = np.dot(y, b)\n",
        "    Jnb = [i for i in range(1, len(c) + 1) if i not in Jb]\n",
        "    new_a = [0 for _ in range(len(A[0]))]\n",
        "    for i in range(len(Jnb)):\n",
        "      new_a[Jnb[i] - 1] = -get_f(small_a[Jnb[i] - 1])\n",
        "    new_a += [1]\n",
        "    arr = A.tolist()\n",
        "    for i in arr:\n",
        "      i += [0]\n",
        "    arr.append(new_a)\n",
        "    A = np.array(arr)\n",
        "    arr = c.tolist()\n",
        "    arr += [0]\n",
        "    c = np.array(arr)\n",
        "    arr = b.tolist()\n",
        "    arr += [-get_f(small_b)]\n",
        "    b = np.array(arr)\n",
        "    bound.append([0, None])\n",
        "    \n"
      ],
      "execution_count": null,
      "outputs": []
    },
    {
      "cell_type": "code",
      "metadata": {
        "colab": {
          "base_uri": "https://localhost:8080/"
        },
        "id": "x4q3PNlxTxpV",
        "outputId": "7ce9b635-6245-4d4f-c9e1-fa20fc0b5526"
      },
      "source": [
        "c = np.array([21, 11,0])\n",
        "A = np.array([[7, 4,1]])\n",
        "b = np.array([13])\n",
        "bound = [[0, None], [0, None],[0,None]]\n",
        "\n",
        "print(gomori(c, A, b,bound))\n"
      ],
      "execution_count": null,
      "outputs": [
        {
          "output_type": "stream",
          "name": "stdout",
          "text": [
            "[0. 3. 1. 1. 0.]\n"
          ]
        }
      ]
    },
    {
      "cell_type": "code",
      "metadata": {
        "colab": {
          "base_uri": "https://localhost:8080/"
        },
        "id": "lPx1eH2D0JG1",
        "outputId": "a9ee40e8-a342-400c-f1d4-0bdc8701687b"
      },
      "source": [
        "\"\"\"\n",
        "Read-me:\n",
        "Call functions in this order:\n",
        "    problem = gen_matrix(v,c)\n",
        "    constrain(problem, string)\n",
        "    obj(problem, string)\n",
        "    maxz(problem)\n",
        "gen_matrix() produces a matrix to be given constraints and an objective function to maximize or minimize.\n",
        "    It takes var (variable number) and cons (constraint number) as parameters.\n",
        "    gen_matrix(2,3) will create a 4x7 matrix by design.\n",
        "constrain() constrains the problem. It takes the problem as the first argument and a string as the second. The string should be\n",
        "    entered in the form of 1,2,G,10 meaning 1(x1) + 2(x2) >= 10.\n",
        "    Use 'L' for <= instead of 'G'\n",
        "Use obj() only after entering all constraints, in the form of 1,2,0 meaning 1(x1) +2(x2) +0\n",
        "    The final term is always reserved for a constant and 0 cannot be omitted.\n",
        "Use maxz() to solve a maximization LP problem. Use minz() to solve a minimization problem.\n",
        "Disclosure -- pivot() function, subcomponent of maxz() and minz(), has a couple bugs. So far, these have only occurred when\n",
        "    minz() has been called.\n",
        "\"\"\"\n",
        "\n",
        "import numpy as np\n",
        "\n",
        "# generates an empty matrix with adequate size for variables and constraints.\n",
        "def gen_matrix(var,cons):\n",
        "    tab = np.zeros((cons+1, var+cons+2))\n",
        "    return tab\n",
        "\n",
        "# checks the furthest right column for negative values ABOVE the last row. If negative values exist, another pivot is required.\n",
        "def next_round_r(table):\n",
        "    m = min(table[:-1,-1])\n",
        "    if m>= 0:\n",
        "        return False\n",
        "    else:\n",
        "        return True\n",
        "\n",
        "# checks that the bottom row, excluding the final column, for negative values. If negative values exist, another pivot is required.\n",
        "def next_round(table):\n",
        "    lr = len(table[:,0])\n",
        "    m = min(table[lr-1,:-1])\n",
        "    if m>=0:\n",
        "        return False\n",
        "    else:\n",
        "        return True\n",
        "\n",
        "# Similar to next_round_r function, but returns row index of negative element in furthest right column\n",
        "def find_neg_r(table):\n",
        "    # lc = number of columns, lr = number of rows\n",
        "    lc = len(table[0,:])\n",
        "    # search every row (excluding last row) in final column for min value\n",
        "    m = min(table[:-1,lc-1])\n",
        "    if m<=0:\n",
        "        # n = row index of m location\n",
        "        n = np.where(table[:-1,lc-1] == m)[0][0]\n",
        "    else:\n",
        "        n = None\n",
        "    return n\n",
        "\n",
        "#returns column index of negative element in bottom row\n",
        "def find_neg(table):\n",
        "    lr = len(table[:,0])\n",
        "    m = min(table[lr-1,:-1])\n",
        "    if m<=0:\n",
        "        # n = row index for m\n",
        "        n = np.where(table[lr-1,:-1] == m)[0][0]\n",
        "    else:\n",
        "        n = None\n",
        "    return n\n",
        "\n",
        "# locates pivot element in tableu to remove the negative element from the furthest right column.\n",
        "def loc_piv_r(table):\n",
        "        total = []\n",
        "        # r = row index of negative entry\n",
        "        r = find_neg_r(table)\n",
        "        # finds all elements in row, r, excluding final column\n",
        "        row = table[r,:-1]\n",
        "        # finds minimum value in row (excluding the last column)\n",
        "        m = min(row)\n",
        "        # c = column index for minimum entry in row\n",
        "        c = np.where(row == m)[0][0]\n",
        "        # all elements in column\n",
        "        col = table[:-1,c]\n",
        "        # need to go through this column to find smallest positive ratio\n",
        "        for i, b in zip(col,table[:-1,-1]):\n",
        "            # i cannot equal 0 and b/i must be positive.\n",
        "            if i**2>0 and b/i>0:\n",
        "                total.append(b/i)\n",
        "            else:\n",
        "                # placeholder for elements that did not satisfy the above requirements. Otherwise, our index number would be faulty.\n",
        "                total.append(0)\n",
        "        element = max(total)\n",
        "        for t in total:\n",
        "            if t > 0 and t < element:\n",
        "                element = t\n",
        "            else:\n",
        "                continue\n",
        "\n",
        "        index = total.index(element)\n",
        "        return [index,c]\n",
        "# similar process, returns a specific array element to be pivoted on.\n",
        "def loc_piv(table):\n",
        "    if next_round(table):\n",
        "        total = []\n",
        "        n = find_neg(table)\n",
        "        for i,b in zip(table[:-1,n],table[:-1,-1]):\n",
        "            if i**2>0 and b/i>0:\n",
        "                total.append(b/i)\n",
        "            else:\n",
        "                # placeholder for elements that did not satisfy the above requirements. Otherwise, our index number would be faulty.\n",
        "                total.append(0)\n",
        "        element = max(total)\n",
        "        for t in total:\n",
        "            if t > 0 and t < element:\n",
        "                element = t\n",
        "            else:\n",
        "                continue\n",
        "\n",
        "        index = total.index(element)\n",
        "        return [index,n]\n",
        "\n",
        "# Takes string input and returns a list of numbers to be arranged in tableu\n",
        "def convert(eq):\n",
        "    eq = eq.split(',')\n",
        "    if 'G' in eq:\n",
        "        g = eq.index('G')\n",
        "        del eq[g]\n",
        "        eq = [float(i)*-1 for i in eq]\n",
        "        return eq\n",
        "    if 'L' in eq:\n",
        "        l = eq.index('L')\n",
        "        del eq[l]\n",
        "        eq = [float(i) for i in eq]\n",
        "        return eq\n",
        "\n",
        "# The final row of the tablue in a minimum problem is the opposite of a maximization problem so elements are multiplied by (-1)\n",
        "def convert_min(table):\n",
        "    table[-1,:-2] = [-1*i for i in table[-1,:-2]]\n",
        "    table[-1,-1] = -1*table[-1,-1]\n",
        "    return table\n",
        "\n",
        "# generates x1,x2,...xn for the varying number of variables.\n",
        "def gen_var(table):\n",
        "    lc = len(table[0,:])\n",
        "    lr = len(table[:,0])\n",
        "    var = lc - lr -1\n",
        "    v = []\n",
        "    for i in range(var):\n",
        "        v.append('x'+str(i+1))\n",
        "    return v\n",
        "\n",
        "# pivots the tableau such that negative elements are purged from the last row and last column\n",
        "def pivot(row,col,table):\n",
        "    # number of rows\n",
        "    lr = len(table[:,0])\n",
        "    # number of columns\n",
        "    lc = len(table[0,:])\n",
        "    t = np.zeros((lr,lc))\n",
        "    pr = table[row,:]\n",
        "    if table[row,col]**2>0: #new\n",
        "        e = 1/table[row,col]\n",
        "        r = pr*e\n",
        "        for i in range(len(table[:,col])):\n",
        "            k = table[i,:]\n",
        "            c = table[i,col]\n",
        "            if list(k) == list(pr):\n",
        "                continue\n",
        "            else:\n",
        "                t[i,:] = list(k-r*c)\n",
        "        t[row,:] = list(r)\n",
        "        return t\n",
        "    else:\n",
        "        print('Cannot pivot on this element.')\n",
        "\n",
        "# checks if there is room in the matrix to add another constraint\n",
        "def add_cons(table):\n",
        "    lr = len(table[:,0])\n",
        "    # want to know IF at least 2 rows of all zero elements exist\n",
        "    empty = []\n",
        "    # iterate through each row\n",
        "    for i in range(lr):\n",
        "        total = 0\n",
        "        for j in table[i,:]:\n",
        "            # use squared value so (-x) and (+x) don't cancel each other out\n",
        "            total += j**2\n",
        "        if total == 0:\n",
        "            # append zero to list ONLY if all elements in a row are zero\n",
        "            empty.append(total)\n",
        "    # There are at least 2 rows with all zero elements if the following is true\n",
        "    if len(empty)>1:\n",
        "        return True\n",
        "    else:\n",
        "        return False\n",
        "\n",
        "# adds a constraint to the matrix\n",
        "def constrain(table,eq):\n",
        "    if add_cons(table) == True:\n",
        "        lc = len(table[0,:])\n",
        "        lr = len(table[:,0])\n",
        "        var = lc - lr -1\n",
        "        # set up counter to iterate through the total length of rows\n",
        "        j = 0\n",
        "        while j < lr:\n",
        "            # Iterate by row\n",
        "            row_check = table[j,:]\n",
        "            # total will be sum of entries in row\n",
        "            total = 0\n",
        "            # Find first row with all 0 entries\n",
        "            for i in row_check:\n",
        "                total += float(i**2)\n",
        "            if total == 0:\n",
        "                # We've found the first row with all zero entries\n",
        "                row = row_check\n",
        "                break\n",
        "            j +=1\n",
        "\n",
        "        eq = convert(eq)\n",
        "        i = 0\n",
        "        # iterate through all terms in the constraint function, excluding the last\n",
        "        while i<len(eq)-1:\n",
        "            # assign row values according to the equation\n",
        "            row[i] = eq[i]\n",
        "            i +=1\n",
        "        #row[len(eq)-1] = 1\n",
        "        row[-1] = eq[-1]\n",
        "\n",
        "        # add slack variable according to location in tableau.\n",
        "        row[var+j] = 1\n",
        "    else:\n",
        "        print('Cannot add another constraint.')\n",
        "\n",
        "# checks to determine if an objective function can be added to the matrix\n",
        "def add_obj(table):\n",
        "    lr = len(table[:,0])\n",
        "    # want to know IF exactly one row of all zero elements exist\n",
        "    empty = []\n",
        "    # iterate through each row\n",
        "    for i in range(lr):\n",
        "        total = 0\n",
        "        for j in table[i,:]:\n",
        "            # use squared value so (-x) and (+x) don't cancel each other out\n",
        "            total += j**2\n",
        "        if total == 0:\n",
        "            # append zero to list ONLY if all elements in a row are zero\n",
        "            empty.append(total)\n",
        "    # There is exactly one row with all zero elements if the following is true\n",
        "    if len(empty)==1:\n",
        "        return True\n",
        "    else:\n",
        "        return False\n",
        "\n",
        "# adds the onjective functio nto the matrix.\n",
        "def obj(table,eq):\n",
        "    if add_obj(table)==True:\n",
        "        eq = [float(i) for i in eq.split(',')]\n",
        "        lr = len(table[:,0])\n",
        "        row = table[lr-1,:]\n",
        "        i = 0\n",
        "    # iterate through all terms in the constraint function, excluding the last\n",
        "        while i<len(eq)-1:\n",
        "            # assign row values according to the equation\n",
        "            row[i] = eq[i]*-1\n",
        "            i +=1\n",
        "        row[-2] = 1\n",
        "        row[-1] = eq[-1]\n",
        "    else:\n",
        "        print('You must finish adding constraints before the objective function can be added.')\n",
        "\n",
        "# solves maximization problem for optimal solution, returns dictionary w/ keys x1,x2...xn and max.\n",
        "def maxz(table, output='summary'):\n",
        "    while next_round_r(table)==True:\n",
        "        table = pivot(loc_piv_r(table)[0],loc_piv_r(table)[1],table)\n",
        "    while next_round(table)==True:\n",
        "        table = pivot(loc_piv(table)[0],loc_piv(table)[1],table)\n",
        "\n",
        "    lc = len(table[0,:])\n",
        "    lr = len(table[:,0])\n",
        "    var = lc - lr -1\n",
        "    i = 0\n",
        "    val = {}\n",
        "    for i in range(var):\n",
        "        col = table[:,i]\n",
        "        s = sum(col)\n",
        "        m = max(col)\n",
        "        if float(s) == float(m):\n",
        "            loc = np.where(col == m)[0][0]\n",
        "            val[gen_var(table)[i]] = table[loc,-1]\n",
        "        else:\n",
        "            val[gen_var(table)[i]] = 0\n",
        "    val['max'] = table[-1,-1]\n",
        "    for k,v in val.items():\n",
        "        val[k] = round(v,6)\n",
        "    if output == 'table':\n",
        "        return table\n",
        "    else:\n",
        "        return val\n",
        "\n",
        "# solves minimization problems for optimal solution, returns dictionary w/ keys x1,x2...xn and min.\n",
        "def minz(table, output='summary'):\n",
        "    table = convert_min(table)\n",
        "\n",
        "    while next_round_r(table)==True:\n",
        "        table = pivot(loc_piv_r(table)[0],loc_piv_r(table)[1],table)\n",
        "    while next_round(table)==True:\n",
        "        table = pivot(loc_piv(table)[0],loc_piv(table)[1],table)\n",
        "\n",
        "    lc = len(table[0,:])\n",
        "    lr = len(table[:,0])\n",
        "    var = lc - lr -1\n",
        "    i = 0\n",
        "    val = {}\n",
        "    for i in range(var):\n",
        "        col = table[:,i]\n",
        "        s = sum(col)\n",
        "        m = max(col)\n",
        "        if float(s) == float(m):\n",
        "            loc = np.where(col == m)[0][0]\n",
        "            val[gen_var(table)[i]] = table[loc,-1]\n",
        "        else:\n",
        "            val[gen_var(table)[i]] = 0\n",
        "    val['min'] = table[-1,-1]*-1\n",
        "    for k,v in val.items():\n",
        "        val[k] = round(v,6)\n",
        "    if output == 'table':\n",
        "        return table\n",
        "    else:\n",
        "        return val\n",
        "\n",
        "if __name__ == \"__main__\":\n",
        "\n",
        "    m = gen_matrix(2,2)\n",
        "    constrain(m,'2,-1,G,10')\n",
        "    constrain(m,'1,1,L,20')\n",
        "    obj(m,'5,10,0')\n",
        "    print(maxz(m))\n",
        "\n",
        "    m = gen_matrix(2,4)\n",
        "    constrain(m,'2,5,G,30')\n",
        "    constrain(m,'-3,5,G,5')\n",
        "    constrain(m,'8,3,L,85')\n",
        "    constrain(m,'-9,7,L,42')\n",
        "    obj(m,'2,7,0')\n",
        "    print(minz(m))"
      ],
      "execution_count": null,
      "outputs": [
        {
          "output_type": "stream",
          "name": "stdout",
          "text": [
            "{'x1': 10.0, 'x2': 10.0, 'max': 150.0}\n",
            "{'x1': 5.0, 'x2': 4.0, 'min': 38.0}\n"
          ]
        }
      ]
    },
    {
      "cell_type": "code",
      "metadata": {
        "id": "lPVNkuH7231F"
      },
      "source": [
        ""
      ],
      "execution_count": null,
      "outputs": []
    },
    {
      "cell_type": "code",
      "metadata": {
        "id": "wtYcHXYTwlaN"
      },
      "source": [
        "\"\"\"Simplex method for  linear programming\n",
        "The *simplex* method uses a traditional, full-tableau implementation of\n",
        "Dantzig's simplex algorithm [1]_, [2]_ (*not* the Nelder-Mead simplex).\n",
        "This algorithm is included for backwards compatibility and educational\n",
        "purposes.\n",
        "    .. versionadded:: 0.15.0\n",
        "Warnings\n",
        "--------\n",
        "The simplex method may encounter numerical difficulties when pivot\n",
        "values are close to the specified tolerance. If encountered try\n",
        "remove any redundant constraints, change the pivot strategy to Bland's\n",
        "rule or increase the tolerance value.\n",
        "Alternatively, more robust methods maybe be used. See\n",
        ":ref:`'interior-point' <optimize.linprog-interior-point>` and\n",
        ":ref:`'revised simplex' <optimize.linprog-revised_simplex>`.\n",
        "References\n",
        "----------\n",
        ".. [1] Dantzig, George B., Linear programming and extensions. Rand\n",
        "       Corporation Research Study Princeton Univ. Press, Princeton, NJ,\n",
        "       1963\n",
        ".. [2] Hillier, S.H. and Lieberman, G.J. (1995), \"Introduction to\n",
        "       Mathematical Programming\", McGraw-Hill, Chapter 4.\n",
        "\"\"\"\n",
        "\n",
        "import numpy as np\n",
        "from warnings import warn\n",
        "from scipy.optimize import OptimizeResult, OptimizeWarning\n",
        "from scipy.optimize.optimize import _check_unknown_options\n",
        "from scipy.optimize._linprog_util import _postsolve\n",
        "\n",
        "\n",
        "def _pivot_col(T, tol=1e-9, bland=False):\n",
        "    \"\"\"\n",
        "    Given a linear programming simplex tableau, determine the column\n",
        "    of the variable to enter the basis.\n",
        "    Parameters\n",
        "    ----------\n",
        "    T : 2-D array\n",
        "        A 2-D array representing the simplex tableau, T, corresponding to the\n",
        "        linear programming problem. It should have the form:\n",
        "        [[A[0, 0], A[0, 1], ..., A[0, n_total], b[0]],\n",
        "         [A[1, 0], A[1, 1], ..., A[1, n_total], b[1]],\n",
        "         .\n",
        "         .\n",
        "         .\n",
        "         [A[m, 0], A[m, 1], ..., A[m, n_total], b[m]],\n",
        "         [c[0],   c[1], ...,   c[n_total],    0]]\n",
        "        for a Phase 2 problem, or the form:\n",
        "        [[A[0, 0], A[0, 1], ..., A[0, n_total], b[0]],\n",
        "         [A[1, 0], A[1, 1], ..., A[1, n_total], b[1]],\n",
        "         .\n",
        "         .\n",
        "         .\n",
        "         [A[m, 0], A[m, 1], ..., A[m, n_total], b[m]],\n",
        "         [c[0],   c[1], ...,   c[n_total],   0],\n",
        "         [c'[0],  c'[1], ...,  c'[n_total],  0]]\n",
        "         for a Phase 1 problem (a problem in which a basic feasible solution is\n",
        "         sought prior to maximizing the actual objective. ``T`` is modified in\n",
        "         place by ``_solve_simplex``.\n",
        "    tol : float\n",
        "        Elements in the objective row larger than -tol will not be considered\n",
        "        for pivoting. Nominally this value is zero, but numerical issues\n",
        "        cause a tolerance about zero to be necessary.\n",
        "    bland : bool\n",
        "        If True, use Bland's rule for selection of the column (select the\n",
        "        first column with a negative coefficient in the objective row,\n",
        "        regardless of magnitude).\n",
        "    Returns\n",
        "    -------\n",
        "    status: bool\n",
        "        True if a suitable pivot column was found, otherwise False.\n",
        "        A return of False indicates that the linear programming simplex\n",
        "        algorithm is complete.\n",
        "    col: int\n",
        "        The index of the column of the pivot element.\n",
        "        If status is False, col will be returned as nan.\n",
        "    \"\"\"\n",
        "    ma = np.ma.masked_where(T[-1, :-1] >= -tol, T[-1, :-1], copy=False)\n",
        "    if ma.count() == 0:\n",
        "        return False, np.nan\n",
        "    if bland:\n",
        "        # ma.mask is sometimes 0d\n",
        "        return True, np.nonzero(np.logical_not(np.atleast_1d(ma.mask)))[0][0]\n",
        "    return True, np.ma.nonzero(ma == ma.min())[0][0]\n",
        "\n",
        "\n",
        "def _pivot_row(T, basis, pivcol, phase, tol=1e-9, bland=False):\n",
        "    \"\"\"\n",
        "    Given a linear programming simplex tableau, determine the row for the\n",
        "    pivot operation.\n",
        "    Parameters\n",
        "    ----------\n",
        "    T : 2-D array\n",
        "        A 2-D array representing the simplex tableau, T, corresponding to the\n",
        "        linear programming problem. It should have the form:\n",
        "        [[A[0, 0], A[0, 1], ..., A[0, n_total], b[0]],\n",
        "         [A[1, 0], A[1, 1], ..., A[1, n_total], b[1]],\n",
        "         .\n",
        "         .\n",
        "         .\n",
        "         [A[m, 0], A[m, 1], ..., A[m, n_total], b[m]],\n",
        "         [c[0],   c[1], ...,   c[n_total],    0]]\n",
        "        for a Phase 2 problem, or the form:\n",
        "        [[A[0, 0], A[0, 1], ..., A[0, n_total], b[0]],\n",
        "         [A[1, 0], A[1, 1], ..., A[1, n_total], b[1]],\n",
        "         .\n",
        "         .\n",
        "         .\n",
        "         [A[m, 0], A[m, 1], ..., A[m, n_total], b[m]],\n",
        "         [c[0],   c[1], ...,   c[n_total],   0],\n",
        "         [c'[0],  c'[1], ...,  c'[n_total],  0]]\n",
        "         for a Phase 1 problem (a Problem in which a basic feasible solution is\n",
        "         sought prior to maximizing the actual objective. ``T`` is modified in\n",
        "         place by ``_solve_simplex``.\n",
        "    basis : array\n",
        "        A list of the current basic variables.\n",
        "    pivcol : int\n",
        "        The index of the pivot column.\n",
        "    phase : int\n",
        "        The phase of the simplex algorithm (1 or 2).\n",
        "    tol : float\n",
        "        Elements in the pivot column smaller than tol will not be considered\n",
        "        for pivoting. Nominally this value is zero, but numerical issues\n",
        "        cause a tolerance about zero to be necessary.\n",
        "    bland : bool\n",
        "        If True, use Bland's rule for selection of the row (if more than one\n",
        "        row can be used, choose the one with the lowest variable index).\n",
        "    Returns\n",
        "    -------\n",
        "    status: bool\n",
        "        True if a suitable pivot row was found, otherwise False. A return\n",
        "        of False indicates that the linear programming problem is unbounded.\n",
        "    row: int\n",
        "        The index of the row of the pivot element. If status is False, row\n",
        "        will be returned as nan.\n",
        "    \"\"\"\n",
        "    if phase == 1:\n",
        "        k = 2\n",
        "    else:\n",
        "        k = 1\n",
        "    ma = np.ma.masked_where(T[:-k, pivcol] <= tol, T[:-k, pivcol], copy=False)\n",
        "    if ma.count() == 0:\n",
        "        return False, np.nan\n",
        "    mb = np.ma.masked_where(T[:-k, pivcol] <= tol, T[:-k, -1], copy=False)\n",
        "    q = mb / ma\n",
        "    min_rows = np.ma.nonzero(q == q.min())[0]\n",
        "    if bland:\n",
        "        return True, min_rows[np.argmin(np.take(basis, min_rows))]\n",
        "    return True, min_rows[0]\n",
        "\n",
        "\n",
        "def _apply_pivot(T, basis, pivrow, pivcol, tol=1e-9):\n",
        "    \"\"\"\n",
        "    Pivot the simplex tableau inplace on the element given by (pivrow, pivol).\n",
        "    The entering variable corresponds to the column given by pivcol forcing\n",
        "    the variable basis[pivrow] to leave the basis.\n",
        "    Parameters\n",
        "    ----------\n",
        "    T : 2-D array\n",
        "        A 2-D array representing the simplex tableau, T, corresponding to the\n",
        "        linear programming problem. It should have the form:\n",
        "        [[A[0, 0], A[0, 1], ..., A[0, n_total], b[0]],\n",
        "         [A[1, 0], A[1, 1], ..., A[1, n_total], b[1]],\n",
        "         .\n",
        "         .\n",
        "         .\n",
        "         [A[m, 0], A[m, 1], ..., A[m, n_total], b[m]],\n",
        "         [c[0],   c[1], ...,   c[n_total],    0]]\n",
        "        for a Phase 2 problem, or the form:\n",
        "        [[A[0, 0], A[0, 1], ..., A[0, n_total], b[0]],\n",
        "         [A[1, 0], A[1, 1], ..., A[1, n_total], b[1]],\n",
        "         .\n",
        "         .\n",
        "         .\n",
        "         [A[m, 0], A[m, 1], ..., A[m, n_total], b[m]],\n",
        "         [c[0],   c[1], ...,   c[n_total],   0],\n",
        "         [c'[0],  c'[1], ...,  c'[n_total],  0]]\n",
        "         for a Phase 1 problem (a problem in which a basic feasible solution is\n",
        "         sought prior to maximizing the actual objective. ``T`` is modified in\n",
        "         place by ``_solve_simplex``.\n",
        "    basis : 1-D array\n",
        "        An array of the indices of the basic variables, such that basis[i]\n",
        "        contains the column corresponding to the basic variable for row i.\n",
        "        Basis is modified in place by _apply_pivot.\n",
        "    pivrow : int\n",
        "        Row index of the pivot.\n",
        "    pivcol : int\n",
        "        Column index of the pivot.\n",
        "    \"\"\"\n",
        "    basis[pivrow] = pivcol\n",
        "    pivval = T[pivrow, pivcol]\n",
        "    T[pivrow] = T[pivrow] / pivval\n",
        "    for irow in range(T.shape[0]):\n",
        "        if irow != pivrow:\n",
        "            T[irow] = T[irow] - T[pivrow] * T[irow, pivcol]\n",
        "\n",
        "    # The selected pivot should never lead to a pivot value less than the tol.\n",
        "    if np.isclose(pivval, tol, atol=0, rtol=1e4):\n",
        "        message = (\n",
        "            \"The pivot operation produces a pivot value of:{0: .1e}, \"\n",
        "            \"which is only slightly greater than the specified \"\n",
        "            \"tolerance{1: .1e}. This may lead to issues regarding the \"\n",
        "            \"numerical stability of the simplex method. \"\n",
        "            \"Removing redundant constraints, changing the pivot strategy \"\n",
        "            \"via Bland's rule or increasing the tolerance may \"\n",
        "            \"help reduce the issue.\".format(pivval, tol))\n",
        "        warn(message, OptimizeWarning, stacklevel=5)\n",
        "\n",
        "\n",
        "def _solve_simplex(T, n, basis, callback, postsolve_args,\n",
        "                   maxiter=1000, tol=1e-9, phase=2, bland=False, nit0=0,\n",
        "                   ):\n",
        "    \"\"\"\n",
        "    Solve a linear programming problem in \"standard form\" using the Simplex\n",
        "    Method. Linear Programming is intended to solve the following problem form:\n",
        "    Minimize::\n",
        "        c @ x\n",
        "    Subject to::\n",
        "        A @ x == b\n",
        "            x >= 0\n",
        "    Parameters\n",
        "    ----------\n",
        "    T : 2-D array\n",
        "        A 2-D array representing the simplex tableau, T, corresponding to the\n",
        "        linear programming problem. It should have the form:\n",
        "        [[A[0, 0], A[0, 1], ..., A[0, n_total], b[0]],\n",
        "         [A[1, 0], A[1, 1], ..., A[1, n_total], b[1]],\n",
        "         .\n",
        "         .\n",
        "         .\n",
        "         [A[m, 0], A[m, 1], ..., A[m, n_total], b[m]],\n",
        "         [c[0],   c[1], ...,   c[n_total],    0]]\n",
        "        for a Phase 2 problem, or the form:\n",
        "        [[A[0, 0], A[0, 1], ..., A[0, n_total], b[0]],\n",
        "         [A[1, 0], A[1, 1], ..., A[1, n_total], b[1]],\n",
        "         .\n",
        "         .\n",
        "         .\n",
        "         [A[m, 0], A[m, 1], ..., A[m, n_total], b[m]],\n",
        "         [c[0],   c[1], ...,   c[n_total],   0],\n",
        "         [c'[0],  c'[1], ...,  c'[n_total],  0]]\n",
        "         for a Phase 1 problem (a problem in which a basic feasible solution is\n",
        "         sought prior to maximizing the actual objective. ``T`` is modified in\n",
        "         place by ``_solve_simplex``.\n",
        "    n : int\n",
        "        The number of true variables in the problem.\n",
        "    basis : 1-D array\n",
        "        An array of the indices of the basic variables, such that basis[i]\n",
        "        contains the column corresponding to the basic variable for row i.\n",
        "        Basis is modified in place by _solve_simplex\n",
        "    callback : callable, optional\n",
        "        If a callback function is provided, it will be called within each\n",
        "        iteration of the algorithm. The callback must accept a\n",
        "        `scipy.optimize.OptimizeResult` consisting of the following fields:\n",
        "            x : 1-D array\n",
        "                Current solution vector\n",
        "            fun : float\n",
        "                Current value of the objective function\n",
        "            success : bool\n",
        "                True only when a phase has completed successfully. This\n",
        "                will be False for most iterations.\n",
        "            slack : 1-D array\n",
        "                The values of the slack variables. Each slack variable\n",
        "                corresponds to an inequality constraint. If the slack is zero,\n",
        "                the corresponding constraint is active.\n",
        "            con : 1-D array\n",
        "                The (nominally zero) residuals of the equality constraints,\n",
        "                that is, ``b - A_eq @ x``\n",
        "            phase : int\n",
        "                The phase of the optimization being executed. In phase 1 a basic\n",
        "                feasible solution is sought and the T has an additional row\n",
        "                representing an alternate objective function.\n",
        "            status : int\n",
        "                An integer representing the exit status of the optimization::\n",
        "                     0 : Optimization terminated successfully\n",
        "                     1 : Iteration limit reached\n",
        "                     2 : Problem appears to be infeasible\n",
        "                     3 : Problem appears to be unbounded\n",
        "                     4 : Serious numerical difficulties encountered\n",
        "            nit : int\n",
        "                The number of iterations performed.\n",
        "            message : str\n",
        "                A string descriptor of the exit status of the optimization.\n",
        "    postsolve_args : tuple\n",
        "        Data needed by _postsolve to convert the solution to the standard-form\n",
        "        problem into the solution to the original problem.\n",
        "    maxiter : int\n",
        "        The maximum number of iterations to perform before aborting the\n",
        "        optimization.\n",
        "    tol : float\n",
        "        The tolerance which determines when a solution is \"close enough\" to\n",
        "        zero in Phase 1 to be considered a basic feasible solution or close\n",
        "        enough to positive to serve as an optimal solution.\n",
        "    phase : int\n",
        "        The phase of the optimization being executed. In phase 1 a basic\n",
        "        feasible solution is sought and the T has an additional row\n",
        "        representing an alternate objective function.\n",
        "    bland : bool\n",
        "        If True, choose pivots using Bland's rule [3]_. In problems which\n",
        "        fail to converge due to cycling, using Bland's rule can provide\n",
        "        convergence at the expense of a less optimal path about the simplex.\n",
        "    nit0 : int\n",
        "        The initial iteration number used to keep an accurate iteration total\n",
        "        in a two-phase problem.\n",
        "    Returns\n",
        "    -------\n",
        "    nit : int\n",
        "        The number of iterations. Used to keep an accurate iteration total\n",
        "        in the two-phase problem.\n",
        "    status : int\n",
        "        An integer representing the exit status of the optimization::\n",
        "         0 : Optimization terminated successfully\n",
        "         1 : Iteration limit reached\n",
        "         2 : Problem appears to be infeasible\n",
        "         3 : Problem appears to be unbounded\n",
        "         4 : Serious numerical difficulties encountered\n",
        "    \"\"\"\n",
        "    nit = nit0\n",
        "    status = 0\n",
        "    message = ''\n",
        "    complete = False\n",
        "\n",
        "    if phase == 1:\n",
        "        m = T.shape[1]-2\n",
        "    elif phase == 2:\n",
        "        m = T.shape[1]-1\n",
        "    else:\n",
        "        raise ValueError(\"Argument 'phase' to _solve_simplex must be 1 or 2\")\n",
        "\n",
        "    if phase == 2:\n",
        "        # Check if any artificial variables are still in the basis.\n",
        "        # If yes, check if any coefficients from this row and a column\n",
        "        # corresponding to one of the non-artificial variable is non-zero.\n",
        "        # If found, pivot at this term. If not, start phase 2.\n",
        "        # Do this for all artificial variables in the basis.\n",
        "        # Ref: \"An Introduction to Linear Programming and Game Theory\"\n",
        "        # by Paul R. Thie, Gerard E. Keough, 3rd Ed,\n",
        "        # Chapter 3.7 Redundant Systems (pag 102)\n",
        "        for pivrow in [row for row in range(basis.size)\n",
        "                       if basis[row] > T.shape[1] - 2]:\n",
        "            non_zero_row = [col for col in range(T.shape[1] - 1)\n",
        "                            if abs(T[pivrow, col]) > tol]\n",
        "            if len(non_zero_row) > 0:\n",
        "                pivcol = non_zero_row[0]\n",
        "                _apply_pivot(T, basis, pivrow, pivcol, tol)\n",
        "                nit += 1\n",
        "\n",
        "    if len(basis[:m]) == 0:\n",
        "        solution = np.empty(T.shape[1] - 1, dtype=np.float64)\n",
        "    else:\n",
        "        solution = np.empty(max(T.shape[1] - 1, max(basis[:m]) + 1),\n",
        "                            dtype=np.float64)\n",
        "\n",
        "    while not complete:\n",
        "        # Find the pivot column\n",
        "        pivcol_found, pivcol = _pivot_col(T, tol, bland)\n",
        "        if not pivcol_found:\n",
        "            pivcol = np.nan\n",
        "            pivrow = np.nan\n",
        "            status = 0\n",
        "            complete = True\n",
        "        else:\n",
        "            # Find the pivot row\n",
        "            pivrow_found, pivrow = _pivot_row(T, basis, pivcol, phase, tol, bland)\n",
        "            if not pivrow_found:\n",
        "                status = 3\n",
        "                complete = True\n",
        "\n",
        "        if callback is not None:\n",
        "            solution[:] = 0\n",
        "            solution[basis[:n]] = T[:n, -1]\n",
        "            x = solution[:m]\n",
        "            x, fun, slack, con = _postsolve(\n",
        "                x, postsolve_args\n",
        "            )\n",
        "            res = OptimizeResult({\n",
        "                'x': x,\n",
        "                'fun': fun,\n",
        "                'slack': slack,\n",
        "                'con': con,\n",
        "                'status': status,\n",
        "                'message': message,\n",
        "                'nit': nit,\n",
        "                'success': status == 0 and complete,\n",
        "                'phase': phase,\n",
        "                'complete': complete,\n",
        "                })\n",
        "            callback(res)\n",
        "\n",
        "        if not complete:\n",
        "            if nit >= maxiter:\n",
        "                # Iteration limit exceeded\n",
        "                status = 1\n",
        "                complete = True\n",
        "            else:\n",
        "                _apply_pivot(T, basis, pivrow, pivcol, tol)\n",
        "                nit += 1\n",
        "    return nit, status\n",
        "\n",
        "\n",
        "def _linprog_simplex(c, c0, A, b, callback, postsolve_args,\n",
        "                     maxiter=1000, tol=1e-9, disp=False, bland=False,\n",
        "                     **unknown_options):\n",
        "    \"\"\"\n",
        "    Minimize a linear objective function subject to linear equality and\n",
        "    non-negativity constraints using the two phase simplex method.\n",
        "    Linear programming is intended to solve problems of the following form:\n",
        "    Minimize::\n",
        "        c @ x\n",
        "    Subject to::\n",
        "        A @ x == b\n",
        "            x >= 0\n",
        "    User-facing documentation is in _linprog_doc.py.\n",
        "    Parameters\n",
        "    ----------\n",
        "    c : 1-D array\n",
        "        Coefficients of the linear objective function to be minimized.\n",
        "    c0 : float\n",
        "        Constant term in objective function due to fixed (and eliminated)\n",
        "        variables. (Purely for display.)\n",
        "    A : 2-D array\n",
        "        2-D array such that ``A @ x``, gives the values of the equality\n",
        "        constraints at ``x``.\n",
        "    b : 1-D array\n",
        "        1-D array of values representing the right hand side of each equality\n",
        "        constraint (row) in ``A``.\n",
        "    callback : callable, optional\n",
        "        If a callback function is provided, it will be called within each\n",
        "        iteration of the algorithm. The callback function must accept a single\n",
        "        `scipy.optimize.OptimizeResult` consisting of the following fields:\n",
        "            x : 1-D array\n",
        "                Current solution vector\n",
        "            fun : float\n",
        "                Current value of the objective function\n",
        "            success : bool\n",
        "                True when an algorithm has completed successfully.\n",
        "            slack : 1-D array\n",
        "                The values of the slack variables. Each slack variable\n",
        "                corresponds to an inequality constraint. If the slack is zero,\n",
        "                the corresponding constraint is active.\n",
        "            con : 1-D array\n",
        "                The (nominally zero) residuals of the equality constraints,\n",
        "                that is, ``b - A_eq @ x``\n",
        "            phase : int\n",
        "                The phase of the algorithm being executed.\n",
        "            status : int\n",
        "                An integer representing the status of the optimization::\n",
        "                     0 : Algorithm proceeding nominally\n",
        "                     1 : Iteration limit reached\n",
        "                     2 : Problem appears to be infeasible\n",
        "                     3 : Problem appears to be unbounded\n",
        "                     4 : Serious numerical difficulties encountered\n",
        "            nit : int\n",
        "                The number of iterations performed.\n",
        "            message : str\n",
        "                A string descriptor of the exit status of the optimization.\n",
        "    postsolve_args : tuple\n",
        "        Data needed by _postsolve to convert the solution to the standard-form\n",
        "        problem into the solution to the original problem.\n",
        "    Options\n",
        "    -------\n",
        "    maxiter : int\n",
        "       The maximum number of iterations to perform.\n",
        "    disp : bool\n",
        "        If True, print exit status message to sys.stdout\n",
        "    tol : float\n",
        "        The tolerance which determines when a solution is \"close enough\" to\n",
        "        zero in Phase 1 to be considered a basic feasible solution or close\n",
        "        enough to positive to serve as an optimal solution.\n",
        "    bland : bool\n",
        "        If True, use Bland's anti-cycling rule [3]_ to choose pivots to\n",
        "        prevent cycling. If False, choose pivots which should lead to a\n",
        "        converged solution more quickly. The latter method is subject to\n",
        "        cycling (non-convergence) in rare instances.\n",
        "    unknown_options : dict\n",
        "        Optional arguments not used by this particular solver. If\n",
        "        `unknown_options` is non-empty a warning is issued listing all\n",
        "        unused options.\n",
        "    Returns\n",
        "    -------\n",
        "    x : 1-D array\n",
        "        Solution vector.\n",
        "    status : int\n",
        "        An integer representing the exit status of the optimization::\n",
        "         0 : Optimization terminated successfully\n",
        "         1 : Iteration limit reached\n",
        "         2 : Problem appears to be infeasible\n",
        "         3 : Problem appears to be unbounded\n",
        "         4 : Serious numerical difficulties encountered\n",
        "    message : str\n",
        "        A string descriptor of the exit status of the optimization.\n",
        "    iteration : int\n",
        "        The number of iterations taken to solve the problem.\n",
        "    References\n",
        "    ----------\n",
        "    .. [1] Dantzig, George B., Linear programming and extensions. Rand\n",
        "           Corporation Research Study Princeton Univ. Press, Princeton, NJ,\n",
        "           1963\n",
        "    .. [2] Hillier, S.H. and Lieberman, G.J. (1995), \"Introduction to\n",
        "           Mathematical Programming\", McGraw-Hill, Chapter 4.\n",
        "    .. [3] Bland, Robert G. New finite pivoting rules for the simplex method.\n",
        "           Mathematics of Operations Research (2), 1977: pp. 103-107.\n",
        "    Notes\n",
        "    -----\n",
        "    The expected problem formulation differs between the top level ``linprog``\n",
        "    module and the method specific solvers. The method specific solvers expect a\n",
        "    problem in standard form:\n",
        "    Minimize::\n",
        "        c @ x\n",
        "    Subject to::\n",
        "        A @ x == b\n",
        "            x >= 0\n",
        "    Whereas the top level ``linprog`` module expects a problem of form:\n",
        "    Minimize::\n",
        "        c @ x\n",
        "    Subject to::\n",
        "        A_ub @ x <= b_ub\n",
        "        A_eq @ x == b_eq\n",
        "         lb <= x <= ub\n",
        "    where ``lb = 0`` and ``ub = None`` unless set in ``bounds``.\n",
        "    The original problem contains equality, upper-bound and variable constraints\n",
        "    whereas the method specific solver requires equality constraints and\n",
        "    variable non-negativity.\n",
        "    ``linprog`` module converts the original problem to standard form by\n",
        "    converting the simple bounds to upper bound constraints, introducing\n",
        "    non-negative slack variables for inequality constraints, and expressing\n",
        "    unbounded variables as the difference between two non-negative variables.\n",
        "    \"\"\"\n",
        "    _check_unknown_options(unknown_options)\n",
        "\n",
        "    status = 0\n",
        "    messages = {0: \"Optimization terminated successfully.\",\n",
        "                1: \"Iteration limit reached.\",\n",
        "                2: \"Optimization failed. Unable to find a feasible\"\n",
        "                   \" starting point.\",\n",
        "                3: \"Optimization failed. The problem appears to be unbounded.\",\n",
        "                4: \"Optimization failed. Singular matrix encountered.\"}\n",
        "\n",
        "    n, m = A.shape\n",
        "\n",
        "    # All constraints must have b >= 0.\n",
        "    is_negative_constraint = np.less(b, 0)\n",
        "    A[is_negative_constraint] *= -1\n",
        "    b[is_negative_constraint] *= -1\n",
        "\n",
        "    # As all constraints are equality constraints the artificial variables\n",
        "    # will also be basic variables.\n",
        "    av = np.arange(n) + m\n",
        "    basis = av.copy()\n",
        "\n",
        "    # Format the phase one tableau by adding artificial variables and stacking\n",
        "    # the constraints, the objective row and pseudo-objective row.\n",
        "    row_constraints = np.hstack((A, np.eye(n), b[:, np.newaxis]))\n",
        "    row_objective = np.hstack((c, np.zeros(n), c0))\n",
        "    row_pseudo_objective = -row_constraints.sum(axis=0)\n",
        "    row_pseudo_objective[av] = 0\n",
        "    T = np.vstack((row_constraints, row_objective, row_pseudo_objective))\n",
        "\n",
        "    nit1, status = _solve_simplex(T, n, basis, callback=callback,\n",
        "                                  postsolve_args=postsolve_args,\n",
        "                                  maxiter=maxiter, tol=tol, phase=1,\n",
        "                                  bland=bland\n",
        "                                  )\n",
        "    # if pseudo objective is zero, remove the last row from the tableau and\n",
        "    # proceed to phase 2\n",
        "    nit2 = nit1\n",
        "    if abs(T[-1, -1]) < tol:\n",
        "        # Remove the pseudo-objective row from the tableau\n",
        "        T = T[:-1, :]\n",
        "        # Remove the artificial variable columns from the tableau\n",
        "        T = np.delete(T, av, 1)\n",
        "    else:\n",
        "        # Failure to find a feasible starting point\n",
        "        status = 2\n",
        "        messages[status] = (\n",
        "            \"Phase 1 of the simplex method failed to find a feasible \"\n",
        "            \"solution. The pseudo-objective function evaluates to {0:.1e} \"\n",
        "            \"which exceeds the required tolerance of {1} for a solution to be \"\n",
        "            \"considered 'close enough' to zero to be a basic solution. \"\n",
        "            \"Consider increasing the tolerance to be greater than {0:.1e}. \"\n",
        "            \"If this tolerance is unacceptably  large the problem may be \"\n",
        "            \"infeasible.\".format(abs(T[-1, -1]), tol)\n",
        "        )\n",
        "\n",
        "    if status == 0:\n",
        "        # Phase 2\n",
        "        nit2, status = _solve_simplex(T, n, basis, callback=callback,\n",
        "                                      postsolve_args=postsolve_args,\n",
        "                                      maxiter=maxiter, tol=tol, phase=2,\n",
        "                                      bland=bland, nit0=nit1\n",
        "                                      )\n",
        "\n",
        "    solution = np.zeros(n + m)\n",
        "    solution[basis[:n]] = T[:n, -1]\n",
        "    x = solution[:m]\n",
        "\n",
        "    return x, status, messages[status], int(nit2)"
      ],
      "execution_count": null,
      "outputs": []
    },
    {
      "cell_type": "code",
      "metadata": {
        "colab": {
          "base_uri": "https://localhost:8080/"
        },
        "id": "vdr9H47WnYu1",
        "outputId": "3e34ca5e-f713-47b5-b4be-914697c60066"
      },
      "source": [
        "from scipy.optimize import linprog\n",
        "import numpy as np\n",
        "from math import trunc\n",
        "ans = {'global': -9999999999, 'x': [4]}\n",
        "def branch(c, A, b, x, mod):\n",
        "  global ans\n",
        "  res = linprog( c, A, b, bounds = x, method = 'simplex')\n",
        "  print(res)\n",
        "  if not res.success:\n",
        "    return\n",
        "  else:\n",
        "    flag = 0\n",
        "    for i in range(len(res.x)):\n",
        "      if flag == 1:\n",
        "        break\n",
        "      if abs(round(res.x[i]) - res.x[i]) > 10 ** -6:\n",
        "        flag = 1\n",
        "        x1 = x[:]\n",
        "        x1[i] = [0, trunc(res.x[i])]\n",
        "        branch(c, A, b, x1, mod)\n",
        "        x2 = x[:]\n",
        "        x2[i] = [trunc(res.x[i]) + 1, None]\n",
        "        branch(c, A, b, x2, mod)\n",
        "    if flag == 0 and abs(round(res.fun) - res.fun) < 10 ** -6:\n",
        "      print('asdasdasdsad', abs(round(res.fun) - res.fun))\n",
        "      if mod == 'min':\n",
        "        if round(res.fun) > ans['global']:\n",
        "          ans['global'] = round(res.fun)\n",
        "          ans['x'] = res.x\n",
        "      else:\n",
        "        if round(res.fun) < ans['global']:\n",
        "          ans['global'] = round(res.fun)\n",
        "          ans['x'] = res.x\n",
        "        \n",
        "      \n",
        "\n",
        "\n",
        "mod = 'max'\n",
        "    \n",
        "c = np.array([0, 2, 0, 0])\n",
        "\n",
        "\n",
        "\n",
        "if mod == 'max':\n",
        "  c *= -1\n",
        "  ans['global'] *= -1\n",
        "A = [[3, 2, 1, 0], [3, 2, 0, 1]]\n",
        "b = [6, 0]\n",
        "x = [[0, None], [0, None],[0,None], [0,None]]\n",
        "res = linprog( c, A, b, bounds = x, method = 'simplex')\n",
        "\n",
        "print(res)"
      ],
      "execution_count": null,
      "outputs": [
        {
          "output_type": "stream",
          "name": "stdout",
          "text": [
            "     con: array([], dtype=float64)\n",
            "     fun: 0.0\n",
            " message: 'Optimization terminated successfully.'\n",
            "     nit: 3\n",
            "   slack: array([0., 0.])\n",
            "  status: 0\n",
            " success: True\n",
            "       x: array([0., 0., 6., 0.])\n"
          ]
        }
      ]
    },
    {
      "cell_type": "code",
      "metadata": {
        "id": "U0Y-LkTPojGL"
      },
      "source": [
        "def get_matrix(av, Jb):\n",
        "  a = np.eye(len(Jb))\n",
        "  j = 0\n",
        "  for i in Jb:\n",
        "    a[:, j] = av[:, i - 1]\n",
        "    j += 1\n",
        "  a = np.linalg.inv(a)\n",
        "  return a"
      ],
      "execution_count": null,
      "outputs": []
    },
    {
      "cell_type": "code",
      "metadata": {
        "id": "HScMQinzokwu"
      },
      "source": [
        "def main_simplex(A, c, x, jb):\n",
        "  iteration = 0\n",
        "  while True:\n",
        "    iteration += 1\n",
        "    if iteration == 1:\n",
        "      ab = np.array([np.copy(A[:,i-1]) for i in jb]).transpose()\n",
        "      A_i = np.linalg.inv(ab)\n",
        "    else:\n",
        "      ab[:,position_min_tetta] = A[:, jb[position_min_tetta] - 1]\n",
        "      A_i = solve(A_i, ab[:,position_min_tetta], position_min_tetta + 1)\n",
        "    cb = np.array([c[i - 1] for i in jb])\n",
        "    u = np.dot(cb, A_i)\n",
        "    delta = np.dot(u, A) -c\n",
        "    j0=0\n",
        "    if min(delta) >= 0:\n",
        "      \n",
        "      return (x, jb)\n",
        "    while delta[j0]>=0:\n",
        "      j0 += 1\n",
        "    z = np.dot(A_i, A[:,j0])\n",
        "    tetta = [float(x[jb[i] - 1])/float(z[i]) if z[i]> 0 else np.inf for i in range(len(jb))]\n",
        "    tetta0 = np.min(tetta)\n",
        "    if tetta0 is np.inf:\n",
        "      print(\"целевая функция неограничена на множестве допустимых планов\")\n",
        "    position_min_tetta = np.where(tetta == tetta0)[0][0]\n",
        "    jb_new = np.copy(jb)\n",
        "    jb_new[position_min_tetta] = j0 + 1\n",
        "    x_new = np.copy(x)\n",
        "    j = 0\n",
        "    x_new = x_new.astype(np.float64)\n",
        "    for i in jb:\n",
        "      x_new[i - 1] = float(x[i - 1]) - tetta0*float(z[j])\n",
        "      j+=1\n",
        "    x_new[j0] = tetta0\n",
        "    x = x_new\n",
        "    jb = jb_new"
      ],
      "execution_count": null,
      "outputs": []
    },
    {
      "cell_type": "code",
      "metadata": {
        "id": "mes8Xw7wonBs"
      },
      "source": [
        "import numpy as np\n",
        "\n",
        "def begin_simplex(A, b):\n",
        "  n = len(A[0])\n",
        "  m = len(b)\n",
        "  for i in range(m):\n",
        "    if b[i] < 0:\n",
        "      b[i] *= -1\n",
        "      A[i] *= -1\n",
        "  E = np.eye(m)\n",
        "  Av = np.empty([m, n + m])\n",
        "  for i in range(m):\n",
        "    Av[i] = np.append(A[i], E[i])\n",
        "  \n",
        "  x = np.append(np.zeros(n), b)\n",
        "  \n",
        "  Jb = np.array([n + i + 1 for i in range(m)])\n",
        "  c = [0 if i < n else -1 for i in range(n + m)]\n",
        "  x, jb = main_simplex(Av, c, x, Jb)\n",
        "  \n",
        "  for i in x[n:]:\n",
        "    if abs(i) > 10 ** -6:\n",
        "      return 'Несовместна'\n",
        "  while True:\n",
        "    k = -1\n",
        "    for i in range(len(jb)):\n",
        "      if (jb[i] > n):\n",
        "        k = i\n",
        "    if k == -1:\n",
        "      return x[:n], jb\n",
        "      break\n",
        "    \n",
        "    jnb = []\n",
        "    for i in range(1, n + 1):\n",
        "      if not i in jb:\n",
        "        jnb.append(i)\n",
        "   \n",
        "    avb_inv = get_matrix(Av, jb)\n",
        "    flag = False\n",
        "    for i in jnb:\n",
        "      l = np.dot(avb_inv, Av[:,i - 1])\n",
        "      \n",
        "      if abs(l[k]) < 10 ** -6:\n",
        "        jb[k] = i\n",
        "        flag = True\n",
        "        break\n",
        "    \n",
        "    if not flag:\n",
        "      c = c[:-1]\n",
        "      jb = jb[:-1]\n",
        "      A = A[:-1]\n",
        "      Av = Av[:-1]\n",
        "      b = b[:-1]"
      ],
      "execution_count": null,
      "outputs": []
    },
    {
      "cell_type": "code",
      "metadata": {
        "colab": {
          "base_uri": "https://localhost:8080/"
        },
        "id": "w0pVESaUosMW",
        "outputId": "da5b2778-a76f-40ce-b8df-234fa60a23c1"
      },
      "source": [
        "c = np.array([1, 2, 0, 0])\n",
        "A = np.array([[3, 1, 0, 0], [1, 3, 0, 0]])\n",
        "b = np.array([7, 7])\n",
        "\n",
        "A_copy = np.copy(A)\n",
        "B_copy = np.copy(b)\n",
        "e = begin_simplex(A, b)\n",
        "A = A_copy\n",
        "b = B_copy\n",
        "\n",
        "x = e[0]\n",
        "Jb = e[1]\n",
        "print(x, Jb)\n",
        "Jb = sorted(Jb)\n",
        "print(x, Jb)"
      ],
      "execution_count": null,
      "outputs": [
        {
          "output_type": "stream",
          "name": "stdout",
          "text": [
            "[1.75 1.75 0.   0.   0.   0.  ] [1 2]\n",
            "[1.75 1.75 0.   0.  ] [1 2]\n",
            "[1.75 1.75 0.   0.  ] [1, 2]\n"
          ]
        }
      ]
    },
    {
      "cell_type": "code",
      "metadata": {
        "colab": {
          "base_uri": "https://localhost:8080/"
        },
        "id": "eR5W8iSADhg4",
        "outputId": "4275cde1-ccea-4f0f-f270-97ed46f9ed8b"
      },
      "source": [
        "#c = np.array([21, 11,0])\n",
        "#A = np.array([[7, 4, 1]])\n",
        "#b = np.array([13])\n",
        "#c *= -1\n",
        "#bound = [[0, None], [0, None], [0, None]]\n",
        "res = linprog( c, A, b, bounds = bound, method = 'simplex')\n",
        "print(res)\n",
        "x = res.x\n",
        "Jb = []\n",
        "for i in range(len(x)):\n",
        "  if x[i] != 0:\n",
        "    Jb.append(i + 1)\n"
      ],
      "execution_count": null,
      "outputs": [
        {
          "output_type": "stream",
          "name": "stdout",
          "text": [
            "     con: array([], dtype=float64)\n",
            "     fun: -33.00000000000001\n",
            " message: 'Optimization terminated successfully.'\n",
            "     nit: 4\n",
            "   slack: array([-1.77635684e-15, -1.11022302e-16,  0.00000000e+00])\n",
            "  status: 0\n",
            " success: True\n",
            "       x: array([0., 3., 1., 1., 0.])\n"
          ]
        }
      ]
    },
    {
      "cell_type": "code",
      "metadata": {
        "colab": {
          "base_uri": "https://localhost:8080/"
        },
        "id": "Rff_JHODDrqM",
        "outputId": "a18e6aab-6430-4695-dea8-7861183f09fe"
      },
      "source": [
        "ab = np.array([np.copy(A[:,i-1]) for i in Jb]).transpose()\n",
        "print(ab)"
      ],
      "execution_count": null,
      "outputs": [
        {
          "output_type": "stream",
          "name": "stdout",
          "text": [
            "[[ 4.          1.          0.        ]\n",
            " [-0.57142857 -0.14285714  1.        ]\n",
            " [ 0.         -0.25       -0.25      ]]\n"
          ]
        }
      ]
    },
    {
      "cell_type": "code",
      "metadata": {
        "colab": {
          "base_uri": "https://localhost:8080/"
        },
        "id": "II4tLTUlD3RR",
        "outputId": "1662cd68-27b2-4304-f9dc-8562e05d795d"
      },
      "source": [
        "ab_inv = np.linalg.inv(ab)\n",
        "print(ab_inv)"
      ],
      "execution_count": null,
      "outputs": [
        {
          "output_type": "stream",
          "name": "stdout",
          "text": [
            "[[ 2.85714286e-01  2.50000000e-01  1.00000000e+00]\n",
            " [-1.42857143e-01 -1.00000000e+00 -4.00000000e+00]\n",
            " [ 1.42857143e-01  1.00000000e+00  2.22044605e-16]]\n"
          ]
        }
      ]
    },
    {
      "cell_type": "code",
      "metadata": {
        "colab": {
          "base_uri": "https://localhost:8080/"
        },
        "id": "RILRHbv_D-_e",
        "outputId": "fcbb6370-0bce-4550-bc82-6803c96ef2bb"
      },
      "source": [
        "k = None\n",
        "fl = 0\n",
        "for i in range(len(x)):\n",
        "  if abs(round(x[i]) - x[i]) > 10 ** -6:\n",
        "    k = i\n",
        "    fl = 1\n",
        "    \n",
        "    break\n",
        "\n",
        "if fl == 0:\n",
        "  \n",
        "  print(x)\n"
      ],
      "execution_count": null,
      "outputs": [
        {
          "output_type": "stream",
          "name": "stdout",
          "text": [
            "[0. 3. 1. 1. 0.]\n"
          ]
        }
      ]
    },
    {
      "cell_type": "code",
      "metadata": {
        "colab": {
          "base_uri": "https://localhost:8080/"
        },
        "id": "NtSz0_Z3EBca",
        "outputId": "e16394aa-84c8-4645-8bfb-9105f5ce0917"
      },
      "source": [
        "l = [0 for i in range(len(Jb))]\n",
        "l[k] = 1\n",
        "print(l)"
      ],
      "execution_count": null,
      "outputs": [
        {
          "output_type": "stream",
          "name": "stdout",
          "text": [
            "[0, 1]\n"
          ]
        }
      ]
    },
    {
      "cell_type": "code",
      "metadata": {
        "colab": {
          "base_uri": "https://localhost:8080/"
        },
        "id": "BVnlStpXEOKq",
        "outputId": "229e0bcc-3fd1-4a70-8bef-352e53472d5a"
      },
      "source": [
        "y = np.dot(l, ab_inv)\n",
        "print(y)"
      ],
      "execution_count": null,
      "outputs": [
        {
          "output_type": "stream",
          "name": "stdout",
          "text": [
            "[ 0.   -1.75]\n"
          ]
        }
      ]
    },
    {
      "cell_type": "code",
      "metadata": {
        "colab": {
          "base_uri": "https://localhost:8080/"
        },
        "id": "GEO7BFRUE3vZ",
        "outputId": "39e848f5-18d9-4209-8881-0bdef734ed32"
      },
      "source": [
        "small_a = []\n",
        "for i in range(len(A[0])):\n",
        "  small_a.append(np.dot(y, A[:,i]))\n",
        "print(small_a)\n"
      ],
      "execution_count": null,
      "outputs": [
        {
          "output_type": "stream",
          "name": "stdout",
          "text": [
            "[0.0, 1.0, 0.2499999999999999, -1.75]\n"
          ]
        }
      ]
    },
    {
      "cell_type": "code",
      "metadata": {
        "colab": {
          "base_uri": "https://localhost:8080/"
        },
        "id": "HjCo1JmBFs2F",
        "outputId": "c88b6277-411b-41ab-fcbe-1945f40924bf"
      },
      "source": [
        "small_b = np.dot(y, b)\n",
        "print(small_b)"
      ],
      "execution_count": null,
      "outputs": [
        {
          "output_type": "stream",
          "name": "stdout",
          "text": [
            "1.4999999999999998\n"
          ]
        }
      ]
    },
    {
      "cell_type": "code",
      "metadata": {
        "colab": {
          "base_uri": "https://localhost:8080/"
        },
        "id": "tQmoDDcAGKvD",
        "outputId": "f4f18bbc-2eb1-4b84-d45c-ec6d59912e72"
      },
      "source": [
        "Jnb = [i for i in range(1, len(c) + 1) if i not in Jb]\n",
        "print(Jnb)"
      ],
      "execution_count": null,
      "outputs": [
        {
          "output_type": "stream",
          "name": "stdout",
          "text": [
            "[3, 4]\n"
          ]
        }
      ]
    },
    {
      "cell_type": "code",
      "metadata": {
        "colab": {
          "base_uri": "https://localhost:8080/"
        },
        "id": "BCvDQXe_H6Tq",
        "outputId": "3894a2a5-adbb-4e63-c399-d9dcb0813af6"
      },
      "source": [
        "new_a = [0 for _ in range(len(A[0]))]\n",
        "for i in range(len(Jnb)):\n",
        "  new_a[Jnb[i] - 1] = -get_f(small_a[Jnb[i] - 1])\n",
        "new_a += [1]\n",
        "print(new_a)\n"
      ],
      "execution_count": null,
      "outputs": [
        {
          "output_type": "stream",
          "name": "stdout",
          "text": [
            "[0, 0, -0.2499999999999999, -0.25, 1]\n"
          ]
        }
      ]
    },
    {
      "cell_type": "code",
      "metadata": {
        "colab": {
          "base_uri": "https://localhost:8080/"
        },
        "id": "4pkrBMiwJL9O",
        "outputId": "f7c27087-dda0-47dc-eaa8-89e2addb3d46"
      },
      "source": [
        "arr = A.tolist()\n",
        "for i in arr:\n",
        "  i += [0]\n",
        "arr.append(new_a)\n",
        "A = np.array(arr)\n",
        "print(A)"
      ],
      "execution_count": null,
      "outputs": [
        {
          "output_type": "stream",
          "name": "stdout",
          "text": [
            "[[ 7.          4.          1.          0.          0.        ]\n",
            " [ 0.         -0.57142857 -0.14285714  1.          0.        ]\n",
            " [ 0.          0.         -0.25       -0.25        1.        ]]\n"
          ]
        }
      ]
    },
    {
      "cell_type": "code",
      "metadata": {
        "colab": {
          "base_uri": "https://localhost:8080/"
        },
        "id": "lW9VneoNJe2-",
        "outputId": "838081b7-74e6-4bae-d2c8-ff22a2950a09"
      },
      "source": [
        "arr = c.tolist()\n",
        "arr += [0]\n",
        "c = np.array(arr)\n",
        "print(arr)"
      ],
      "execution_count": null,
      "outputs": [
        {
          "output_type": "stream",
          "name": "stdout",
          "text": [
            "[-21, -11, 0, 0, 0]\n"
          ]
        }
      ]
    },
    {
      "cell_type": "code",
      "metadata": {
        "colab": {
          "base_uri": "https://localhost:8080/"
        },
        "id": "i5UYGAm0J4C0",
        "outputId": "9432cdd4-4495-4e7e-96b2-d0bec30eaa3a"
      },
      "source": [
        "arr = b.tolist()\n",
        "arr += [-get_f(small_b)]\n",
        "b = np.array(arr)\n",
        "bound.append([0, None])\n",
        "print(b)"
      ],
      "execution_count": null,
      "outputs": [
        {
          "output_type": "stream",
          "name": "stdout",
          "text": [
            "[13.         -0.85714286 -0.5       ]\n"
          ]
        }
      ]
    },
    {
      "cell_type": "code",
      "metadata": {
        "colab": {
          "base_uri": "https://localhost:8080/"
        },
        "id": "5DD4fQM3g9Qz",
        "outputId": "7143a2e1-8a1b-45e1-a1d0-bba3c373a7ca"
      },
      "source": [
        "xk = 'None'\n",
        "k = 'None'\n",
        "ram = 546556\n",
        "for i in range(len(x)):\n",
        "  if x[i] != round(x[i]):\n",
        "    xk = i + 1\n",
        "    ram = x[i]\n",
        "    break\n",
        "if xk != 'None':\n",
        "  for i in range(len(Jb)):\n",
        "    if Jb[i] == xk:\n",
        "      k = i\n",
        "      break\n",
        "print(k)\n",
        "  "
      ],
      "execution_count": null,
      "outputs": [
        {
          "output_type": "stream",
          "name": "stdout",
          "text": [
            "0\n"
          ]
        }
      ]
    },
    {
      "cell_type": "code",
      "metadata": {
        "colab": {
          "base_uri": "https://localhost:8080/"
        },
        "id": "gj4QcDeYpcUk",
        "outputId": "9eb212be-28c1-4ed7-ab21-2ff01a6ef625"
      },
      "source": [
        "ab = np.array([np.copy(A[:,i-1]) for i in Jb]).transpose()\n",
        "print(ab)\n"
      ],
      "execution_count": null,
      "outputs": [
        {
          "output_type": "stream",
          "name": "stdout",
          "text": [
            "[[7]]\n"
          ]
        }
      ]
    },
    {
      "cell_type": "code",
      "metadata": {
        "colab": {
          "base_uri": "https://localhost:8080/"
        },
        "id": "5UTNC3AaiMec",
        "outputId": "25bf06dd-3f36-4611-f00b-d6a593da51ed"
      },
      "source": [
        "Jnb = [i for i in range(1, len(c) + 1) if i not in Jb]\n",
        "print(Jnb)"
      ],
      "execution_count": null,
      "outputs": [
        {
          "output_type": "stream",
          "name": "stdout",
          "text": [
            "[2, 3]\n"
          ]
        }
      ]
    },
    {
      "cell_type": "code",
      "metadata": {
        "colab": {
          "base_uri": "https://localhost:8080/"
        },
        "id": "_AKTu6N3ivaX",
        "outputId": "156e4bcf-0d8c-49b0-f372-75bd4835eef7"
      },
      "source": [
        "anb = np.array([np.copy(A[:,i-1]) for i in Jnb]).transpose()\n",
        "print(anb)"
      ],
      "execution_count": null,
      "outputs": [
        {
          "output_type": "stream",
          "name": "stdout",
          "text": [
            "[[4 1]]\n"
          ]
        }
      ]
    },
    {
      "cell_type": "code",
      "metadata": {
        "id": "3oLWD0Iqi_4-",
        "colab": {
          "base_uri": "https://localhost:8080/",
          "height": 164
        },
        "outputId": "0abe173d-3969-4565-8cc2-55c71c93261b"
      },
      "source": [
        "xb"
      ],
      "execution_count": null,
      "outputs": [
        {
          "output_type": "error",
          "ename": "NameError",
          "evalue": "ignored",
          "traceback": [
            "\u001b[0;31m---------------------------------------------------------------------------\u001b[0m",
            "\u001b[0;31mNameError\u001b[0m                                 Traceback (most recent call last)",
            "\u001b[0;32m<ipython-input-17-e6aa958d3d7e>\u001b[0m in \u001b[0;36m<module>\u001b[0;34m()\u001b[0m\n\u001b[0;32m----> 1\u001b[0;31m \u001b[0mxb\u001b[0m\u001b[0;34m\u001b[0m\u001b[0;34m\u001b[0m\u001b[0m\n\u001b[0m",
            "\u001b[0;31mNameError\u001b[0m: name 'xb' is not defined"
          ]
        }
      ]
    },
    {
      "cell_type": "code",
      "metadata": {
        "colab": {
          "base_uri": "https://localhost:8080/"
        },
        "id": "GAaIEQtJpmiv",
        "outputId": "7adcf2fa-f769-4fc3-ee4c-7f0295bbaac7"
      },
      "source": [
        "ab_inv = np.linalg.inv(ab)\n",
        "print(ab_inv)"
      ],
      "execution_count": null,
      "outputs": [
        {
          "output_type": "stream",
          "name": "stdout",
          "text": [
            "[[ 0.375 -0.125]\n",
            " [-0.125  0.375]]\n"
          ]
        }
      ]
    },
    {
      "cell_type": "code",
      "metadata": {
        "id": "l5c6yqMYm19x",
        "colab": {
          "base_uri": "https://localhost:8080/"
        },
        "outputId": "28fe25f7-de38-40f5-fceb-937bc536036b"
      },
      "source": [
        "e = np.dot(ab_inv, anb)\n",
        "print(e)"
      ],
      "execution_count": null,
      "outputs": [
        {
          "output_type": "stream",
          "name": "stdout",
          "text": [
            "[[0. 0.]\n",
            " [0. 0.]]\n"
          ]
        }
      ]
    },
    {
      "cell_type": "code",
      "metadata": {
        "colab": {
          "base_uri": "https://localhost:8080/"
        },
        "id": "pWEaG89snWSS",
        "outputId": "8494b9e1-6ab9-4962-8ecd-2615d25b109e"
      },
      "source": [
        "l = e[k]\n",
        "print(l)"
      ],
      "execution_count": null,
      "outputs": [
        {
          "output_type": "stream",
          "name": "stdout",
          "text": [
            "[0. 0.]\n"
          ]
        }
      ]
    },
    {
      "cell_type": "code",
      "metadata": {
        "colab": {
          "base_uri": "https://localhost:8080/"
        },
        "id": "oOt55Bl5nlum",
        "outputId": "211bb5c4-471c-406c-a92c-ffb92ccb15e0"
      },
      "source": [
        "kk = [0 for i in range(len(c))]\n",
        "for i in range(len(Jnb)):\n",
        "  kk[Jnb[i] - 1] = get_f(l[i])\n",
        "  \n",
        "arr = A.tolist()\n",
        "arr.append(kk)\n",
        "for i in range(len(arr) - 1):\n",
        "  arr[i].append(0)\n",
        "arr[-1].append(-1)\n",
        "\n",
        "A = np.array(arr)\n",
        "arr = c.tolist()\n",
        "arr.append(0)\n",
        "c = np.array(arr)\n",
        "print(A)\n",
        "  \n"
      ],
      "execution_count": null,
      "outputs": [
        {
          "output_type": "stream",
          "name": "stdout",
          "text": [
            "[[ 3.  1.  0.  0.  0.]\n",
            " [ 1.  3.  0.  0.  0.]\n",
            " [ 0.  0.  1.  1. -1.]]\n"
          ]
        }
      ]
    },
    {
      "cell_type": "code",
      "metadata": {
        "id": "jyKbok9RtQCJ"
      },
      "source": [
        ""
      ],
      "execution_count": null,
      "outputs": []
    },
    {
      "cell_type": "code",
      "metadata": {
        "colab": {
          "base_uri": "https://localhost:8080/"
        },
        "id": "MLb5xLm3qujW",
        "outputId": "fdc33613-7d7f-4de9-ec3c-179994f2388d"
      },
      "source": [
        "arr = b.tolist()\n",
        "arr.append(get_f(ram))\n",
        "b = np.array(arr)\n",
        "print(b)\n",
        "bound.append([0, None])"
      ],
      "execution_count": null,
      "outputs": [
        {
          "output_type": "stream",
          "name": "stdout",
          "text": [
            "[7.   7.   0.75]\n"
          ]
        }
      ]
    },
    {
      "cell_type": "code",
      "metadata": {
        "colab": {
          "base_uri": "https://localhost:8080/",
          "height": 317
        },
        "id": "SVRm47t5s0CF",
        "outputId": "2e97cecd-e647-4ab2-b105-d61b5e23f664"
      },
      "source": [
        "print(x, Jb)\n",
        "for i in Jb:\n",
        "  print(i, round(x[i - 1]) - x[i - 1])\n",
        "  if abs(round(x[i - 1]) - x[i - 1]) > 10 ** -6:\n",
        "    iz = i - 1\n",
        "    break\n",
        "  else:\n",
        "    print('Идеальное решение')\n",
        "print(iz)\n"
      ],
      "execution_count": null,
      "outputs": [
        {
          "output_type": "stream",
          "name": "stdout",
          "text": [
            "[1. 1. 2. 0. 0.] [1, 2, 3]\n",
            "1 1.1102230246251565e-16\n",
            "Идеальное решение\n",
            "2 0.0\n",
            "Идеальное решение\n",
            "3 -1.7763568394002505e-15\n",
            "Идеальное решение\n"
          ]
        },
        {
          "output_type": "error",
          "ename": "NameError",
          "evalue": "ignored",
          "traceback": [
            "\u001b[0;31m---------------------------------------------------------------------------\u001b[0m",
            "\u001b[0;31mNameError\u001b[0m                                 Traceback (most recent call last)",
            "\u001b[0;32m<ipython-input-42-98a96726790d>\u001b[0m in \u001b[0;36m<module>\u001b[0;34m()\u001b[0m\n\u001b[1;32m      7\u001b[0m   \u001b[0;32melse\u001b[0m\u001b[0;34m:\u001b[0m\u001b[0;34m\u001b[0m\u001b[0;34m\u001b[0m\u001b[0m\n\u001b[1;32m      8\u001b[0m     \u001b[0mprint\u001b[0m\u001b[0;34m(\u001b[0m\u001b[0;34m'Идеальное решение'\u001b[0m\u001b[0;34m)\u001b[0m\u001b[0;34m\u001b[0m\u001b[0;34m\u001b[0m\u001b[0m\n\u001b[0;32m----> 9\u001b[0;31m \u001b[0mprint\u001b[0m\u001b[0;34m(\u001b[0m\u001b[0miz\u001b[0m\u001b[0;34m)\u001b[0m\u001b[0;34m\u001b[0m\u001b[0;34m\u001b[0m\u001b[0m\n\u001b[0m",
            "\u001b[0;31mNameError\u001b[0m: name 'iz' is not defined"
          ]
        }
      ]
    },
    {
      "cell_type": "markdown",
      "metadata": {
        "id": "xK2w5Ljg-wRc"
      },
      "source": [
        "Выбираем Jk что не удовлетворяет плану"
      ]
    },
    {
      "cell_type": "markdown",
      "metadata": {
        "id": "rilHcY6r-6DX"
      },
      "source": [
        "Матрицу а разобьем на 2 части\n",
        "базисеые столбцы и не базисные столбцы\n",
        "так же разбивается вектор x\n",
        "так же х с крышкой\n",
        "xн = 0\n",
        "ab * xб = b\n",
        "xb = ab(inv) * b\n",
        "домножаем обе части на обратную базисную"
      ]
    },
    {
      "cell_type": "code",
      "metadata": {
        "colab": {
          "base_uri": "https://localhost:8080/"
        },
        "id": "8n7m1vhDtZjj",
        "outputId": "cae7880f-3abb-4cea-cc1b-47dba4cf0f62"
      },
      "source": [
        "e = [0 for i in range(len(Jb))]\n",
        "e[iz] = 1\n",
        "print(e)"
      ],
      "execution_count": null,
      "outputs": [
        {
          "output_type": "stream",
          "name": "stdout",
          "text": [
            "[1]\n"
          ]
        }
      ]
    },
    {
      "cell_type": "code",
      "metadata": {
        "colab": {
          "base_uri": "https://localhost:8080/"
        },
        "id": "XfwsbSDetsVr",
        "outputId": "b77dc99a-a110-4291-9c57-9629777d6e60"
      },
      "source": [
        "print(ab_inv[iz])\n",
        "y_mask = np.multiply(e, ab_inv[iz])\n",
        "y = [0 for i in range(len(A[0]))]\n",
        "for i in range(len(Jb)):\n",
        "  y[Jb[i] - 1] = y_mask[i]\n",
        "print(y)"
      ],
      "execution_count": null,
      "outputs": [
        {
          "output_type": "stream",
          "name": "stdout",
          "text": [
            "[0.14285714]\n",
            "[0.14285714285714285, 0, 0]\n"
          ]
        }
      ]
    },
    {
      "cell_type": "code",
      "metadata": {
        "colab": {
          "base_uri": "https://localhost:8080/",
          "height": 130
        },
        "id": "TSH_dDk1uRn7",
        "outputId": "2a81db20-df95-4e1d-9a27-11021003c469"
      },
      "source": [
        "print(A[:,iz])\n",
        "small_a = []\n",
        "for i in range(len(A[0])):\n",
        "  small_a.append(y[i] A[:,i]))\n",
        "print(small_a)\n",
        "small_b = np.dot(y, b)\n"
      ],
      "execution_count": null,
      "outputs": [
        {
          "output_type": "error",
          "ename": "SyntaxError",
          "evalue": "ignored",
          "traceback": [
            "\u001b[0;36m  File \u001b[0;32m\"<ipython-input-13-6f5394513442>\"\u001b[0;36m, line \u001b[0;32m4\u001b[0m\n\u001b[0;31m    small_a.append(y[i] A[:,i]))\u001b[0m\n\u001b[0m                        ^\u001b[0m\n\u001b[0;31mSyntaxError\u001b[0m\u001b[0;31m:\u001b[0m invalid syntax\n"
          ]
        }
      ]
    },
    {
      "cell_type": "code",
      "metadata": {
        "id": "yiPoZ6bb2US0"
      },
      "source": [
        "ee = []\n",
        "for i in range(0, len(A[0])):\n",
        "  if i + 1 not in Jb:\n",
        "    ee.append(-get_f(small_a[i]))\n",
        "print(ee)"
      ],
      "execution_count": null,
      "outputs": []
    },
    {
      "cell_type": "code",
      "metadata": {
        "id": "A9krQXrb3IjM"
      },
      "source": [
        "arr = A.tolist()\n",
        "for i in range(len(A)):\n",
        "\n",
        "  arr[i].append(0)\n",
        "A = np.array(arr)\n",
        "new_a = []\n",
        "for i in range(len(A[0]) - 1):\n",
        "  if i + 1 in Jb:\n",
        "    new_a.append(0)\n",
        "  else:\n",
        "    new_a.append(ee[0])\n",
        "    ee.pop(0)\n",
        "new_a.append(1)\n",
        "arr = A.tolist()\n",
        "arr.append(new_a)\n",
        "A = np.array(arr)\n",
        "arr = b.tolist()\n",
        "arr.append(-get_f(small_b[0]))\n",
        "b = np.array(arr)\n",
        "\n",
        "print(A, b)\n",
        "print(A[1][1])"
      ],
      "execution_count": null,
      "outputs": []
    }
  ]
}