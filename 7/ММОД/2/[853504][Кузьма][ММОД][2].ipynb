{
  "nbformat": 4,
  "nbformat_minor": 0,
  "metadata": {
    "colab": {
      "name": "[853504][Кузьма][ММОД][2].ipynb",
      "provenance": []
    },
    "kernelspec": {
      "name": "python3",
      "display_name": "Python 3"
    },
    "language_info": {
      "name": "python"
    }
  },
  "cells": [
    {
      "cell_type": "code",
      "metadata": {
        "id": "e8CZQzJFt33q"
      },
      "source": [
        "def next_number_kong(number):\n",
        "  k = 67\n",
        "  m = 10000000001\n",
        "  return (number * k) % m"
      ],
      "execution_count": null,
      "outputs": []
    },
    {
      "cell_type": "code",
      "metadata": {
        "colab": {
          "base_uri": "https://localhost:8080/"
        },
        "id": "_Tk5PjzcybEY",
        "outputId": "43645d7a-1c4d-4b44-e43f-39f6efbddbb7"
      },
      "source": [
        "number = 27644437\n",
        "print(next_number_kong(number))"
      ],
      "execution_count": null,
      "outputs": [
        {
          "output_type": "stream",
          "name": "stdout",
          "text": [
            "1852177279\n"
          ]
        }
      ]
    },
    {
      "cell_type": "markdown",
      "metadata": {
        "id": "hkPE9gglt85U"
      },
      "source": [
        "# ЗАДАНИЕ 1"
      ]
    },
    {
      "cell_type": "code",
      "metadata": {
        "id": "GZ3I0nCGureT"
      },
      "source": [
        "\n",
        "def generator_task1(p):\n",
        "  global number\n",
        "  number = next_number_kong(number)\n",
        "  \n",
        "  pp = number / 10000000000\n",
        "\n",
        "  return True if pp <= p else False"
      ],
      "execution_count": null,
      "outputs": []
    },
    {
      "cell_type": "code",
      "metadata": {
        "colab": {
          "base_uri": "https://localhost:8080/"
        },
        "id": "Nc-7vZG1t-PE",
        "outputId": "5d1f98f6-e961-416c-e93f-2bbaedd6a421"
      },
      "source": [
        "from random import random\n",
        "p = 0.7\n",
        "ans = 0\n",
        "for i in range(10 ** 6):\n",
        "  if generator_task1(p):\n",
        "    ans += 1\n",
        "print('Экспериментальная вероятность =', ans / 10 ** 6)\n",
        "print('Теоретическая вероятность = ', p)\n"
      ],
      "execution_count": null,
      "outputs": [
        {
          "output_type": "stream",
          "name": "stdout",
          "text": [
            "Экспериментальная вероятность = 0.700247\n",
            "Теоретическая вероятность =  0.7\n"
          ]
        }
      ]
    },
    {
      "cell_type": "markdown",
      "metadata": {
        "id": "eK_X2qVI1Oie"
      },
      "source": [
        "# ЗАДАНИЕ 2"
      ]
    },
    {
      "cell_type": "code",
      "metadata": {
        "id": "yMmLaFue1NGt"
      },
      "source": [
        "def generator_task2(p, count):\n",
        "  global number\n",
        "  pp = []\n",
        "  for i in range(count):\n",
        "    number = next_number_kong(number)\n",
        "    pp.append(number / 10000000000)\n",
        "  for i in range(count):\n",
        "    if pp[i] <= p[i]:\n",
        "      pp[i] = True\n",
        "    else:\n",
        "      pp[i] = False\n",
        "  return pp\n"
      ],
      "execution_count": null,
      "outputs": []
    },
    {
      "cell_type": "code",
      "metadata": {
        "colab": {
          "base_uri": "https://localhost:8080/"
        },
        "id": "swk2Oiko1zM-",
        "outputId": "6233090d-bd72-4ac3-ef6e-2fbedb333f43"
      },
      "source": [
        "p = [0.1, 0.2, 0.3, 0.4, 0.5, 0.6, 0.7, 0.8, 0.9, 1]\n",
        "ans = [0, 0, 0, 0, 0, 0, 0, 0, 0, 0]\n",
        "for i in range(10 ** 6):\n",
        "  k = generator_task2(p, len(p))\n",
        "  \n",
        "  for j in range(len(p)):\n",
        "    if k[j]:\n",
        "      ans[j] += 1\n",
        "for i in range(len(ans)):\n",
        "  ans[i] /= 1000000\n",
        "print('Экспериментальная вероятность =', ans)\n",
        "print('Теоретическая вероятность = ', p)"
      ],
      "execution_count": null,
      "outputs": [
        {
          "output_type": "stream",
          "name": "stdout",
          "text": [
            "Экспериментальная вероятность = [0.099479, 0.20042, 0.300324, 0.400302, 0.499262, 0.599984, 0.69936, 0.800532, 0.899958, 1.0]\n",
            "Теоретическая вероятность =  [0.1, 0.2, 0.3, 0.4, 0.5, 0.6, 0.7, 0.8, 0.9, 1]\n"
          ]
        }
      ]
    },
    {
      "cell_type": "code",
      "metadata": {
        "id": "GR0GbaUI80fe"
      },
      "source": [
        "# ЗАДАНИЕ 3"
      ],
      "execution_count": null,
      "outputs": []
    },
    {
      "cell_type": "markdown",
      "metadata": {
        "id": "dCjzMSon82wB"
      },
      "source": [
        "# ЗАДАНИЕ 3"
      ]
    },
    {
      "cell_type": "code",
      "metadata": {
        "colab": {
          "base_uri": "https://localhost:8080/"
        },
        "id": "yRVMcXHz82BL",
        "outputId": "6181cd5f-4ba0-44e9-f9f2-f7faedc588d3"
      },
      "source": [
        "pa = 0.09\n",
        "\n",
        "pba = 0.29\n",
        "pna = 1 - pa\n",
        "pab = pa * pba\n",
        "print(pab)\n",
        "pnba = 1 - pba\n",
        "panb = pna * pnba\n",
        "print(panb)\n",
        "pna = 1 - pa\n",
        "pnab = pnba * pa\n",
        "print(pnab)\n",
        "pnanb = pba * pna\n",
        "print(pnanb)\n",
        "print(pab+panb+pnab+pnanb)\n",
        "pb = pa * pba + pna* (1 - pba)\n",
        "\n"
      ],
      "execution_count": null,
      "outputs": [
        {
          "output_type": "stream",
          "name": "stdout",
          "text": [
            "0.026099999999999998\n",
            "0.6461\n",
            "0.0639\n",
            "0.26389999999999997\n",
            "1.0\n"
          ]
        }
      ]
    },
    {
      "cell_type": "code",
      "metadata": {
        "id": "eBXb5VOLWX4C"
      },
      "source": [
        "def generator_task3():\n",
        "  global number\n",
        "  pp = []\n",
        "  for i in range(2):\n",
        "    number = next_number_kong(number)\n",
        "    pp.append(number / 10000000000)\n",
        "  if pp[0] <= pa and pp[1] <= pba:\n",
        "    return 0\n",
        "  if pp[0] > pa and pp[1] <= 1-pba:\n",
        "    return 1\n",
        "  if pp[0] <= pa and pp[1] > pba:\n",
        "    return 2\n",
        "  if pp[0] > pa and pp[1] > 1 - pba:\n",
        "    return 3\n",
        "  return 4\n",
        "\n",
        "  \n"
      ],
      "execution_count": null,
      "outputs": []
    },
    {
      "cell_type": "code",
      "metadata": {
        "id": "r6J0W_uvA40I",
        "colab": {
          "base_uri": "https://localhost:8080/"
        },
        "outputId": "01ca6530-eb3c-421a-f5b2-fe4f952e2822"
      },
      "source": [
        "ans = [0, 0, 0, 0, 0]\n",
        "for i in range(1000000):\n",
        "  ans[generator_task3()] += 1 / 1000000\n",
        "print(f'AB: теоретическая {pab}, практическая {ans[0]}')\n",
        "print(f'AnB: теоретическая {panb}, практическая {ans[1]}')\n",
        "print(f'nAB: теоретическая {pnab}, практическая {ans[2]}')\n",
        "print(f'nAnB: теоретическая {pnanb}, практическая {ans[3]}')\n"
      ],
      "execution_count": null,
      "outputs": [
        {
          "output_type": "stream",
          "name": "stdout",
          "text": [
            "AB: теоретическая 0.026099999999999998, практическая 0.02640000000000575\n",
            "AnB: теоретическая 0.6461, практическая 0.6467469999977602\n",
            "nAB: теоретическая 0.0639, практическая 0.06359900000004294\n",
            "nAnB: теоретическая 0.26389999999999997, практическая 0.2632539999998747\n"
          ]
        }
      ]
    },
    {
      "cell_type": "markdown",
      "metadata": {
        "id": "13edc7LQhhmu"
      },
      "source": [
        "# ЗАДАНИЕ 4"
      ]
    },
    {
      "cell_type": "code",
      "metadata": {
        "id": "KaO0NFcOiYLw"
      },
      "source": [
        "def generator_task4(p):\n",
        "  global number\n",
        "  number = next_number_kong(number)\n",
        "  e = number / 10000000000\n",
        "  pp = p[:] + [12]\n",
        "  q = 0\n",
        "  for i in range(len(pp) - 1):\n",
        "    if q + pp[i] > e:\n",
        "      return i\n",
        "    q += pp[i]\n",
        "    \n",
        "\n"
      ],
      "execution_count": null,
      "outputs": []
    },
    {
      "cell_type": "code",
      "metadata": {
        "colab": {
          "base_uri": "https://localhost:8080/"
        },
        "id": "e4pSxJvqhj1Y",
        "outputId": "04a667ff-3e57-4b95-daa3-df07325f20f1"
      },
      "source": [
        "ans = [0, 0, 0, 0, 0]\n",
        "pp = [0.2, 0.2, 0.2, 0.2, 0.2]\n",
        "for i in range(1000000):\n",
        "  ans[generator_task4(pp)] += 1 / 1000000\n",
        "print(f'Практика: {ans}')\n",
        "print(f'Теория: {pp}')"
      ],
      "execution_count": null,
      "outputs": [
        {
          "output_type": "stream",
          "name": "stdout",
          "text": [
            "Практика: [0.19997900000017932, 0.1997680000001791, 0.20000700000017935, 0.19969300000017903, 0.2005530000001799]\n",
            "Теория: [0.2, 0.2, 0.2, 0.2, 0.2]\n"
          ]
        }
      ]
    },
    {
      "cell_type": "markdown",
      "metadata": {
        "id": "tFd_L3H3mK23"
      },
      "source": [
        "# СИМУЛЯТОР ЛЧ"
      ]
    },
    {
      "cell_type": "code",
      "metadata": {
        "id": "VNisG-LVmKMt"
      },
      "source": [
        "teams = [\n",
        "         ['Manchester city', 87],\n",
        "         ['PSG', 88],\n",
        "         ['Brugge', 78],\n",
        "         ['Leipzig', 82],\n",
        "         ['Liverpool', 87],\n",
        "         ['Atletico Madrid', 85],\n",
        "         ['Porto', 80],\n",
        "         ['Milan', 82],\n",
        "         ['Ajax', 80],\n",
        "         ['Borussia DOrtmund', 83],\n",
        "         ['Besiktas', 77],\n",
        "         ['Sporting', 80],\n",
        "         ['Serif', 70],\n",
        "         ['Real madrid', 86],\n",
        "         ['Inter', 84],\n",
        "         ['Shaxter donetsk', 77],\n",
        "         ['Bayern', 86],\n",
        "         ['Benfica', 80],\n",
        "         ['Dinamo kiev', 74],\n",
        "         ['Barcelona', 85],\n",
        "         ['Young Boyz', 74],\n",
        "         ['atalanta', 80],\n",
        "         ['villareal', 82],\n",
        "         ['Manchester United', 86],\n",
        "         ['salzburg', 73],\n",
        "         ['Sevillia', 83],\n",
        "         ['Lille', 79],\n",
        "         ['wolfsburg', 80],\n",
        "         ['juventus', 84],\n",
        "         ['Chelsea', 85],\n",
        "         ['zenit', 80],\n",
        "         ['malmo', 70]\n",
        "]\n"
      ],
      "execution_count": null,
      "outputs": []
    },
    {
      "cell_type": "code",
      "metadata": {
        "colab": {
          "base_uri": "https://localhost:8080/"
        },
        "id": "hdDiktCtdpcI",
        "outputId": "70ccba84-c7dc-4261-fd42-71017d6a36d6"
      },
      "source": [
        "tours = ['1/16', '1/8', '1/4', '1/2', 'Final']\n",
        "teams_tournament = teams[:]\n",
        "for tour in tours:\n",
        "  print('++++++++++++++++++++++++++')\n",
        "\n",
        "  print('Tour:', tour)\n",
        "  team_mathches = []\n",
        "  \n",
        "  while len(teams_tournament) > 0:\n",
        "    p = [1 / len(teams_tournament) for i in range(len(teams_tournament))]\n",
        "    team_number = generator_task4(p)\n",
        "    \n",
        "    team_mathches.append(teams_tournament[team_number])\n",
        "    teams_tournament.pop(team_number)\n",
        "  match = 1\n",
        "  while len(team_mathches) > 0:\n",
        "    print(f'Match №{match}')\n",
        "    match += 1\n",
        "    print(f'{team_mathches[0][0]} vs. {team_mathches[1][0]}')\n",
        "    print('Rating home', team_mathches[0][1], 'Rating guests', team_mathches[1][1])\n",
        "    probability = team_mathches[0][1] / (team_mathches[0][1] + team_mathches[1][1])\n",
        "    win = generator_task1(probability)\n",
        "    if win:\n",
        "      print(f'{team_mathches[0][0]} win')\n",
        "      print(f'{team_mathches[1][0]} lose')\n",
        "      teams_tournament.append(team_mathches[0])\n",
        "    else:\n",
        "      print(f'{team_mathches[1][0]} win')\n",
        "      print(f'{team_mathches[0][0]} lose')\n",
        "      teams_tournament.append(team_mathches[1])\n",
        "    team_mathches.pop(0)\n",
        "    team_mathches.pop(0)\n",
        "\n",
        "\n",
        "  \n",
        "                                  \n",
        "  "
      ],
      "execution_count": null,
      "outputs": [
        {
          "output_type": "stream",
          "name": "stdout",
          "text": [
            "++++++++++++++++++++++++++\n",
            "Tour: 1/16\n",
            "Match №1\n",
            "villareal vs. Borussia DOrtmund\n",
            "Rating home 82 Rating guests 83\n",
            "villareal win\n",
            "Borussia DOrtmund lose\n",
            "Match №2\n",
            "Porto vs. Chelsea\n",
            "Rating home 80 Rating guests 85\n",
            "Porto win\n",
            "Chelsea lose\n",
            "Match №3\n",
            "Leipzig vs. juventus\n",
            "Rating home 82 Rating guests 84\n",
            "juventus win\n",
            "Leipzig lose\n",
            "Match №4\n",
            "Manchester city vs. PSG\n",
            "Rating home 87 Rating guests 88\n",
            "Manchester city win\n",
            "PSG lose\n",
            "Match №5\n",
            "Young Boyz vs. atalanta\n",
            "Rating home 74 Rating guests 80\n",
            "Young Boyz win\n",
            "atalanta lose\n",
            "Match №6\n",
            "Liverpool vs. Atletico Madrid\n",
            "Rating home 87 Rating guests 85\n",
            "Atletico Madrid win\n",
            "Liverpool lose\n",
            "Match №7\n",
            "Real madrid vs. Ajax\n",
            "Rating home 86 Rating guests 80\n",
            "Ajax win\n",
            "Real madrid lose\n",
            "Match №8\n",
            "Bayern vs. zenit\n",
            "Rating home 86 Rating guests 80\n",
            "Bayern win\n",
            "zenit lose\n",
            "Match №9\n",
            "Lille vs. Barcelona\n",
            "Rating home 79 Rating guests 85\n",
            "Lille win\n",
            "Barcelona lose\n",
            "Match №10\n",
            "Shaxter donetsk vs. salzburg\n",
            "Rating home 77 Rating guests 73\n",
            "Shaxter donetsk win\n",
            "salzburg lose\n",
            "Match №11\n",
            "Milan vs. Inter\n",
            "Rating home 82 Rating guests 84\n",
            "Milan win\n",
            "Inter lose\n",
            "Match №12\n",
            "Sevillia vs. Dinamo kiev\n",
            "Rating home 83 Rating guests 74\n",
            "Dinamo kiev win\n",
            "Sevillia lose\n",
            "Match №13\n",
            "wolfsburg vs. Serif\n",
            "Rating home 80 Rating guests 70\n",
            "wolfsburg win\n",
            "Serif lose\n",
            "Match №14\n",
            "Benfica vs. Besiktas\n",
            "Rating home 80 Rating guests 77\n",
            "Benfica win\n",
            "Besiktas lose\n",
            "Match №15\n",
            "Manchester United vs. Sporting\n",
            "Rating home 86 Rating guests 80\n",
            "Sporting win\n",
            "Manchester United lose\n",
            "Match №16\n",
            "Brugge vs. malmo\n",
            "Rating home 78 Rating guests 70\n",
            "malmo win\n",
            "Brugge lose\n",
            "++++++++++++++++++++++++++\n",
            "Tour: 1/8\n",
            "Match №1\n",
            "Shaxter donetsk vs. Young Boyz\n",
            "Rating home 77 Rating guests 74\n",
            "Young Boyz win\n",
            "Shaxter donetsk lose\n",
            "Match №2\n",
            "Benfica vs. Milan\n",
            "Rating home 80 Rating guests 82\n",
            "Benfica win\n",
            "Milan lose\n",
            "Match №3\n",
            "wolfsburg vs. villareal\n",
            "Rating home 80 Rating guests 82\n",
            "wolfsburg win\n",
            "villareal lose\n",
            "Match №4\n",
            "Porto vs. Lille\n",
            "Rating home 80 Rating guests 79\n",
            "Porto win\n",
            "Lille lose\n",
            "Match №5\n",
            "Ajax vs. Sporting\n",
            "Rating home 80 Rating guests 80\n",
            "Ajax win\n",
            "Sporting lose\n",
            "Match №6\n",
            "Bayern vs. Dinamo kiev\n",
            "Rating home 86 Rating guests 74\n",
            "Bayern win\n",
            "Dinamo kiev lose\n",
            "Match №7\n",
            "juventus vs. Atletico Madrid\n",
            "Rating home 84 Rating guests 85\n",
            "Atletico Madrid win\n",
            "juventus lose\n",
            "Match №8\n",
            "malmo vs. Manchester city\n",
            "Rating home 70 Rating guests 87\n",
            "Manchester city win\n",
            "malmo lose\n",
            "++++++++++++++++++++++++++\n",
            "Tour: 1/4\n",
            "Match №1\n",
            "Ajax vs. Atletico Madrid\n",
            "Rating home 80 Rating guests 85\n",
            "Ajax win\n",
            "Atletico Madrid lose\n",
            "Match №2\n",
            "Bayern vs. Manchester city\n",
            "Rating home 86 Rating guests 87\n",
            "Manchester city win\n",
            "Bayern lose\n",
            "Match №3\n",
            "Young Boyz vs. Benfica\n",
            "Rating home 74 Rating guests 80\n",
            "Young Boyz win\n",
            "Benfica lose\n",
            "Match №4\n",
            "wolfsburg vs. Porto\n",
            "Rating home 80 Rating guests 80\n",
            "Porto win\n",
            "wolfsburg lose\n",
            "++++++++++++++++++++++++++\n",
            "Tour: 1/2\n",
            "Match №1\n",
            "Young Boyz vs. Ajax\n",
            "Rating home 74 Rating guests 80\n",
            "Ajax win\n",
            "Young Boyz lose\n",
            "Match №2\n",
            "Manchester city vs. Porto\n",
            "Rating home 87 Rating guests 80\n",
            "Porto win\n",
            "Manchester city lose\n",
            "++++++++++++++++++++++++++\n",
            "Tour: Final\n",
            "Match №1\n",
            "Porto vs. Ajax\n",
            "Rating home 80 Rating guests 80\n",
            "Porto win\n",
            "Ajax lose\n"
          ]
        }
      ]
    }
  ]
}