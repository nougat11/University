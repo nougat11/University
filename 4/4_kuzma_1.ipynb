{
 "cells": [
  {
   "cell_type": "markdown",
   "metadata": {},
   "source": [
    "<h1><center>Лабораторная работа 1. Решение нелинейных уравнений</center></h1>"
   ]
  },
  {
   "cell_type": "markdown",
   "metadata": {},
   "source": [
    "# Задание I"
   ]
  },
  {
   "cell_type": "markdown",
   "metadata": {},
   "source": [
    "Задано уравнение $$ f(x)=x-2e^{-x}, x \\in R $$"
   ]
  },
  {
   "cell_type": "markdown",
   "metadata": {},
   "source": [
    "Инициализируем уравнение функцией"
   ]
  },
  {
   "cell_type": "code",
   "execution_count": 2,
   "metadata": {},
   "outputs": [],
   "source": [
    "import math\n",
    "import numpy as np\n",
    "def f(x):\n",
    "    return(x-2*math.exp(-x))"
   ]
  },
  {
   "cell_type": "markdown",
   "metadata": {},
   "source": [
    "## Задание IA. "
   ]
  },
  {
   "cell_type": "markdown",
   "metadata": {},
   "source": [
    "## Метод бисекции"
   ]
  },
  {
   "cell_type": "markdown",
   "metadata": {},
   "source": [
    "### Описание метода\n",
    "Метод бисекции или метод деления отрезка пополам — простейший численный метод для решения нелинейных уравнений вида f(x)=0. Предполагается только непрерывность функции f(x). Поиск основывается на теореме о промежуточных значениях."
   ]
  },
  {
   "cell_type": "markdown",
   "metadata": {},
   "source": [
    "### Алгоритм метода\n",
    "1. Выбирается середина отрезка [a,b].\n",
    "2. Находится значение функции в середине отрезка.\n",
    "3. Если функция /F(x)/ < ɛ прерываем алгоритм, иначе переходим к шагу 4.\n",
    "4. Если F(a)*F(x)<0. Отрезок сдвигается до [a,x], иначе [b,x].\n",
    "5. Возвращаемся к шагу 1."
   ]
  },
  {
   "cell_type": "code",
   "execution_count": 3,
   "metadata": {},
   "outputs": [
    {
     "name": "stdout",
     "output_type": "stream",
     "text": [
      "0.875\n"
     ]
    }
   ],
   "source": [
    "def bisection(a,b,f,max_iterations):\n",
    "    x=(a+b)/2\n",
    "    i=0\n",
    "    while (abs(f(x))>=10**-6 and i<max_iterations):\n",
    "        x=(a+b)/2\n",
    "        a,b =(a,x) if f(a)*f(x)<0 else (x,b)\n",
    "        i+=1\n",
    "    return x\n",
    "print(bisection(0,1,f,3))"
   ]
  },
  {
   "cell_type": "markdown",
   "metadata": {},
   "source": [
    "Результат метода бисекции: 0.875"
   ]
  },
  {
   "cell_type": "markdown",
   "metadata": {},
   "source": [
    "## Метод хорд"
   ]
  },
  {
   "cell_type": "markdown",
   "metadata": {},
   "source": [
    "Метод хорд — итерационный численный метод приближённого нахождения корня уравнения.\n",
    "\n",
    "В отличие от метода половинного бисекции, метод хорд предлагает, что деление рассматриваемого интервала будет выполняться не в его середине, а в точке пересечения хорды с осью абсцисс (ось - Х). Следует отметить, что под хордой понимается отрезок, который проведен через точки рассматриваемой функции по концам рассматриваемого интервала. Рассматриваемый метод обеспечивает более быстрое нахождение корня, чем метод половинного деления, при условии задания одинакового рассматриваемого интервала., "
   ]
  },
  {
   "cell_type": "markdown",
   "metadata": {},
   "source": [
    "### Алгоритм метода"
   ]
  },
  {
   "cell_type": "markdown",
   "metadata": {},
   "source": [
    "1. Вычислить i-1 член\n",
    "2. Вычислить i член\n",
    "3. Проверить условие сходимости"
   ]
  },
  {
   "cell_type": "code",
   "execution_count": 4,
   "metadata": {},
   "outputs": [
    {
     "name": "stdout",
     "output_type": "stream",
     "text": [
      "0.8526055020137255\n"
     ]
    }
   ],
   "source": [
    "def chord(a,b,f,max_iterations):\n",
    "    i=0\n",
    "    while (abs(f(a)-f(b))>=10**-6 and i<max_iterations):\n",
    "        a=b-(f(b)*(b-a)/(f(b)-f(a)))\n",
    "        b=a-(f(a)*(a-b)/(f(a)-f(b)))\n",
    "        i+=1\n",
    "    return b\n",
    "print(chord(0,1,f,3))"
   ]
  },
  {
   "cell_type": "markdown",
   "metadata": {},
   "source": [
    "Результат метода хорд: 0.8526055020137255"
   ]
  },
  {
   "cell_type": "markdown",
   "metadata": {},
   "source": [
    "## Метод Ньютона"
   ]
  },
  {
   "cell_type": "markdown",
   "metadata": {},
   "source": [
    "Метод Ньютона, алгоритм Ньютона (также известный как метод касательных) — это итерационный численный метод нахождения корня (нуля) заданной функции. Метод был впервые предложен английским физиком, математиком и астрономом Исааком Ньютоном (1643—1727). Поиск решения осуществляется путём построения последовательных приближений и основан на принципах простой итерации. Метод обладает квадратичной сходимостью. Модификацией метода является метод хорд и касательных. Также метод Ньютона может быть использован для решения задач оптимизации, в которых требуется определить ноль первой производной либо градиента в случае многомерного пространства."
   ]
  },
  {
   "cell_type": "markdown",
   "metadata": {},
   "source": [
    "Получается на основе разложения Тейлора."
   ]
  },
  {
   "cell_type": "code",
   "execution_count": 5,
   "metadata": {},
   "outputs": [
    {
     "ename": "NameError",
     "evalue": "name 'dx' is not defined",
     "output_type": "error",
     "traceback": [
      "\u001b[1;31m---------------------------------------------------------------------------\u001b[0m",
      "\u001b[1;31mNameError\u001b[0m                                 Traceback (most recent call last)",
      "\u001b[1;32m<ipython-input-5-1031087c75aa>\u001b[0m in \u001b[0;36m<module>\u001b[1;34m\u001b[0m\n\u001b[0;32m      5\u001b[0m         \u001b[0mi\u001b[0m\u001b[1;33m+=\u001b[0m\u001b[1;36m1\u001b[0m\u001b[1;33m\u001b[0m\u001b[1;33m\u001b[0m\u001b[0m\n\u001b[0;32m      6\u001b[0m     \u001b[1;32mreturn\u001b[0m \u001b[0mx\u001b[0m\u001b[1;33m\u001b[0m\u001b[1;33m\u001b[0m\u001b[0m\n\u001b[1;32m----> 7\u001b[1;33m \u001b[0mprint\u001b[0m\u001b[1;33m(\u001b[0m\u001b[0mNewton\u001b[0m\u001b[1;33m(\u001b[0m\u001b[0mf\u001b[0m\u001b[1;33m,\u001b[0m\u001b[1;36m1\u001b[0m\u001b[1;33m,\u001b[0m\u001b[1;36m3\u001b[0m\u001b[1;33m)\u001b[0m\u001b[1;33m)\u001b[0m\u001b[1;33m\u001b[0m\u001b[1;33m\u001b[0m\u001b[0m\n\u001b[0m",
      "\u001b[1;32m<ipython-input-5-1031087c75aa>\u001b[0m in \u001b[0;36mNewton\u001b[1;34m(f, x, max_iterations)\u001b[0m\n\u001b[0;32m      2\u001b[0m     \u001b[0mi\u001b[0m\u001b[1;33m=\u001b[0m\u001b[1;36m0\u001b[0m\u001b[1;33m\u001b[0m\u001b[1;33m\u001b[0m\u001b[0m\n\u001b[0;32m      3\u001b[0m     \u001b[1;32mwhile\u001b[0m \u001b[1;33m(\u001b[0m\u001b[0mabs\u001b[0m\u001b[1;33m(\u001b[0m\u001b[0mf\u001b[0m\u001b[1;33m(\u001b[0m\u001b[0mx\u001b[0m\u001b[1;33m)\u001b[0m\u001b[1;33m)\u001b[0m\u001b[1;33m>=\u001b[0m\u001b[1;36m10\u001b[0m\u001b[1;33m**\u001b[0m\u001b[1;33m-\u001b[0m\u001b[1;36m6\u001b[0m \u001b[1;32mand\u001b[0m \u001b[0mi\u001b[0m\u001b[1;33m<\u001b[0m\u001b[0mmax_iterations\u001b[0m\u001b[1;33m)\u001b[0m\u001b[1;33m:\u001b[0m\u001b[1;33m\u001b[0m\u001b[1;33m\u001b[0m\u001b[0m\n\u001b[1;32m----> 4\u001b[1;33m         \u001b[0mx\u001b[0m\u001b[1;33m=\u001b[0m\u001b[0mx\u001b[0m\u001b[1;33m-\u001b[0m\u001b[0mf\u001b[0m\u001b[1;33m(\u001b[0m\u001b[0mx\u001b[0m\u001b[1;33m)\u001b[0m\u001b[1;33m/\u001b[0m\u001b[0mdx\u001b[0m\u001b[1;33m(\u001b[0m\u001b[0mx\u001b[0m\u001b[1;33m)\u001b[0m\u001b[1;33m\u001b[0m\u001b[1;33m\u001b[0m\u001b[0m\n\u001b[0m\u001b[0;32m      5\u001b[0m         \u001b[0mi\u001b[0m\u001b[1;33m+=\u001b[0m\u001b[1;36m1\u001b[0m\u001b[1;33m\u001b[0m\u001b[1;33m\u001b[0m\u001b[0m\n\u001b[0;32m      6\u001b[0m     \u001b[1;32mreturn\u001b[0m \u001b[0mx\u001b[0m\u001b[1;33m\u001b[0m\u001b[1;33m\u001b[0m\u001b[0m\n",
      "\u001b[1;31mNameError\u001b[0m: name 'dx' is not defined"
     ]
    }
   ],
   "source": [
    "def Newton(f,x,max_iterations):\n",
    "    i=0\n",
    "    while (abs(f(x))>=10**-6 and i<max_iterations):\n",
    "        x=x-f(x)/dx(x)\n",
    "        i+=1\n",
    "    return x\n",
    "print(Newton(f,1,3))"
   ]
  },
  {
   "cell_type": "markdown",
   "metadata": {},
   "source": [
    "Результат метода хорд: 0.8526055020070299"
   ]
  },
  {
   "cell_type": "markdown",
   "metadata": {},
   "source": [
    "## Задание IB"
   ]
  },
  {
   "cell_type": "raw",
   "metadata": {},
   "source": [
    "function Xs=SteffensenRoot(Fun,Xest)\n",
    "format compact\n",
    "format long\n",
    "for i=1:100\n",
    "    Xest=Xest-((Fun(Xest)*Fun(Xest))/(Fun(Xest+Fun(Xest))-Fun(Xest)));\n",
    "    Xs=Xest;\n",
    "    if abs(Fun(Xest))<10^-6 break \n",
    "    end\n",
    "end\n"
   ]
  },
  {
   "cell_type": "markdown",
   "metadata": {},
   "source": [
    "## Задание IC"
   ]
  },
  {
   "cell_type": "markdown",
   "metadata": {},
   "source": [
    "![Mathlab Roots](https://i.imgur.com/teBoF69.png)"
   ]
  },
  {
   "cell_type": "markdown",
   "metadata": {},
   "source": [
    "## Задание ID"
   ]
  },
  {
   "cell_type": "code",
   "execution_count": 6,
   "metadata": {},
   "outputs": [],
   "source": [
    "def SteffensenRoot(f,x):\n",
    "    i=0\n",
    "    while (abs(f(x))>=10**-6 and i<100):\n",
    "        x=x-((f(x)*f(x))/(f(x+f(x))-f(x)))\n",
    "        i+=1\n",
    "    if (i==100 and abs(f(x))>=10**-6):\n",
    "        print(\"Метод не работает. Попробуйте подобрать наилучшее приближение.\")\n",
    "        exit(0)\n",
    "    print(i)\n",
    "    return x"
   ]
  },
  {
   "cell_type": "markdown",
   "metadata": {},
   "source": [
    "Результат 0.8526053627857594"
   ]
  },
  {
   "cell_type": "markdown",
   "metadata": {},
   "source": [
    "| Бисекция     | Хорды       | Ньютон     | Стеффенсен (Matlab) | Стеффенсен (Python) |\n",
    "|:------------:|:-----------:|:----------:|:-------------------:|:-------------------:|\n",
    "| 0.875        | 0.8526055   | 0.8526055  | 0.8526055           | 0.8526053627857594  |"
   ]
  },
  {
   "cell_type": "markdown",
   "metadata": {},
   "source": [
    "## Задание II"
   ]
  },
  {
   "cell_type": "code",
   "execution_count": 7,
   "metadata": {},
   "outputs": [],
   "source": [
    "import matplotlib.pyplot as plt\n",
    "def Task2(th,tc,jc,jh):\n",
    "    thplt=[th]\n",
    "    tcplt=[tc]\n",
    "    jcplt=[jc]\n",
    "    jhplt=[jh]\n",
    "    for i in range(100):\n",
    "        tc=((jc-17.41*tc+5188.18)/(5.67*10**-8))**(1/4)\n",
    "        th=((2250+jh-1.865*th)/(5.67*10**-8))**(1/4)\n",
    "        jc=2352.71+0.71*jh-7.46*tc\n",
    "        jh=11093+0.71*jc-7.46*th\n",
    "        tcplt.append(abs(tc-481))\n",
    "        thplt.append(abs(th-671))\n",
    "        jcplt.append(abs(jc-6222))\n",
    "        jhplt.append(abs(jc-10504))\n",
    "    print(tc, th, jc, jh)\n",
    "    plt.plot(tcplt)\n",
    "    plt.show()\n",
    "    plt.plot(thplt)\n",
    "    plt.show()\n",
    "    plt.plot(jcplt)\n",
    "    plt.show()\n",
    "    plt.plot(jhplt)\n",
    "    plt.show()"
   ]
  },
  {
   "cell_type": "code",
   "execution_count": 8,
   "metadata": {},
   "outputs": [
    {
     "name": "stdout",
     "output_type": "stream",
     "text": [
      "(481.027179475961+0.00016172243351774635j) (671.1239731714975+1.0248911156310274e-05j) (6222.225418866012-0.0007232352923087433j) (10504.195207535497-0.0005899539347652824j)\n"
     ]
    },
    {
     "data": {
      "image/png": "[encoded data removed]",
      "text/plain": [
       "<Figure size 432x288 with 1 Axes>"
      ]
     },
     "metadata": {
      "needs_background": "light"
     },
     "output_type": "display_data"
    },
    {
     "data": {
      "image/png": "[encoded data removed]",
      "text/plain": [
       "<Figure size 432x288 with 1 Axes>"
      ]
     },
     "metadata": {
      "needs_background": "light"
     },
     "output_type": "display_data"
    },
    {
     "data": {
      "image/png": "[encoded data removed]",
      "text/plain": [
       "<Figure size 432x288 with 1 Axes>"
      ]
     },
     "metadata": {
      "needs_background": "light"
     },
     "output_type": "display_data"
    },
    {
     "data": {
      "image/png": "[encoded data removed]",
      "text/plain": [
       "<Figure size 432x288 with 1 Axes>"
      ]
     },
     "metadata": {
      "needs_background": "light"
     },
     "output_type": "display_data"
    }
   ],
   "source": [
    "Task2(298,298,3000,5000)"
   ]
  },
  {
   "cell_type": "markdown",
   "metadata": {},
   "source": [
    "Как видим графики сходятся, из чего можно сделать вывод о том, что данные функции могут быть использованы для решения системы методом фиксированной точки"
   ]
  },
  {
   "cell_type": "markdown",
   "metadata": {},
   "source": [
    "## Задание III"
   ]
  },
  {
   "cell_type": "raw",
   "metadata": {},
   "source": [
    "function Xs=BiRegRoot(Fun, a,b,ErrMax)\n",
    "    i=0;\n",
    "    x=0;\n",
    "    newx=0;\n",
    "    iteration_x=[];\n",
    "    iteration_y=[];\n",
    "    iteration=[]\n",
    "    while i<100\n",
    "        if i==0 \n",
    "            [newx,BiFRoot,a,b]=Bissection(Fun,a,b);\n",
    "        else\n",
    "            [RegRoot,RegFRoot,Rega,Regb]=RegulaFalsi(Fun,a,b);\n",
    "            [BiRoot,BiFRoot,Bia,Bib]=Bissection(Fun,a,b);\n",
    "            if abs(BiFRoot)<abs(RegFRoot)\n",
    "                a=Bia;\n",
    "                b=Bib;\n",
    "                newx=BiRoot;\n",
    "            else\n",
    "                a=Rega;\n",
    "                b=Regb;\n",
    "                newx=RegRoot;\n",
    "            end\n",
    "        end\n",
    "        iteration_x=[iteration_x newx];\n",
    "        iteration_y=[iteration_y abs(Fun(newx))];\n",
    "        iteration=[iteration i];\n",
    "        \n",
    "        if abs((newx-x)/x)<ErrMax\n",
    "            plot(iteration,iteration_x,iteration,iteration_y)\n",
    "            Xs=newx;\n",
    "            return;\n",
    "            \n",
    "        end\n",
    "        if (i==99) \n",
    "            print(\"Не работает\") \n",
    "        end\n",
    "        i=i+1;\n",
    "        x=newx;\n",
    "    end\n",
    "end\n",
    "\n",
    "function [root,froot,newa,newb]=Bissection(Fun,a,b)\n",
    "    root=(a+b)/2;\n",
    "    froot=Fun(root);\n",
    "    if Fun(a)*froot<0 \n",
    "        newa=a;\n",
    "        newb=root;\n",
    "    else\n",
    "        newa=root;\n",
    "        newb=b;\n",
    "    end\n",
    "end\n",
    "\n",
    "function [root,froot,newa,newb]=RegulaFalsi(Fun,a,b)\n",
    "    root=(a*Fun(b)-b*Fun(a))/(Fun(b)-Fun(a));\n",
    "    froot=Fun(root);\n",
    "    if Fun(a)*Fun(root)<0 \n",
    "        newa=a;\n",
    "        newb=root;\n",
    "    else\n",
    "        newa=root;\n",
    "        newb=b;\n",
    "    end\n",
    "end"
   ]
  },
  {
   "cell_type": "code",
   "execution_count": 9,
   "metadata": {},
   "outputs": [],
   "source": [
    "def BiRegRoot(Fun,a,b,ErrMax):\n",
    "    i=0\n",
    "    x=0\n",
    "    newx=0\n",
    "    iteration_x=[]\n",
    "    iteration_y=[]\n",
    "    iteration=[]\n",
    "    while i<100:\n",
    "        if i==0:\n",
    "            newx, BiFRoot,a,b=Bissection(Fun,a,b)\n",
    "        else:\n",
    "            RegRoot, RegFRoot, Rega, Regb = RegulaFalsi(Fun, a, b)\n",
    "            BiRoot, BiFRoot, Bia, Bib = Bissection(Fun, a, b)\n",
    "            if abs(BiFRoot) < abs(RegFRoot):\n",
    "                a = Bia\n",
    "                b = Bib\n",
    "                newx = BiRoot\n",
    "            else:\n",
    "                a = Rega\n",
    "                b = Regb\n",
    "                newx = RegRoot\n",
    "        iteration_x.append(newx)\n",
    "        iteration_y.append(abs(Fun(newx)))\n",
    "        iteration.append(i)\n",
    "        if abs(Fun(newx)) < ErrMax:\n",
    "            plt.plot(iteration, iteration_x)\n",
    "            plt.show()\n",
    "            plt.plot( iteration, iteration_y)\n",
    "            plt.show()\n",
    "            Xs = newx\n",
    "            return Xs\n",
    "        if (i == 99):\n",
    "            print(\"Не работает\")\n",
    "        i = i + 1\n",
    "        x = newx\n",
    "        \n",
    "        \n",
    "def Bissection(Fun,a,b):\n",
    "    root=(a+b)/2\n",
    "    froot=Fun(root)\n",
    "    if Fun(a)*froot<0:\n",
    "        newa=a\n",
    "        newb=root\n",
    "    else:\n",
    "        newa=root\n",
    "        newb=b\n",
    "    return root, froot, newa, newb\n",
    "\n",
    "def RegulaFalsi(Fun,a,b):\n",
    "    root=(a*Fun(b)-b*Fun(a))/(Fun(b)-Fun(a))\n",
    "    froot=Fun(root)\n",
    "    if Fun(a)*Fun(root)<0 :\n",
    "        newa=a\n",
    "        newb=root\n",
    "    else:\n",
    "        newa=root\n",
    "        newb=b\n",
    "    return root,froot,newa,newb"
   ]
  },
  {
   "cell_type": "code",
   "execution_count": 10,
   "metadata": {},
   "outputs": [
    {
     "data": {
      "image/png": "[encoded data removed]",
      "text/plain": [
       "<Figure size 432x288 with 1 Axes>"
      ]
     },
     "metadata": {
      "needs_background": "light"
     },
     "output_type": "display_data"
    },
    {
     "data": {
      "image/png": "[encoded data removed]",
      "text/plain": [
       "<Figure size 432x288 with 1 Axes>"
      ]
     },
     "metadata": {
      "needs_background": "light"
     },
     "output_type": "display_data"
    },
    {
     "data": {
      "text/plain": [
       "0.8526055522404338"
      ]
     },
     "execution_count": 10,
     "metadata": {},
     "output_type": "execute_result"
    }
   ],
   "source": [
    "BiRegRoot(f,0.001,1,0.0000001)"
   ]
  },
  {
   "cell_type": "markdown",
   "metadata": {},
   "source": [
    "### Part B"
   ]
  },
  {
   "cell_type": "markdown",
   "metadata": {},
   "source": [
    "Задача: Шар падает с высоты x метров за t секунд. Найдите с какой высоты он падает, если вам дано t секунд(например 5)"
   ]
  },
  {
   "cell_type": "markdown",
   "metadata": {},
   "source": [
    "Решим уравнение $$ m=gt^2/2, m,t \\in R, g=10 $$"
   ]
  },
  {
   "cell_type": "markdown",
   "metadata": {},
   "source": [
    "Инициализируем уравнение"
   ]
  },
  {
   "cell_type": "code",
   "execution_count": 11,
   "metadata": {},
   "outputs": [],
   "source": [
    "def f2(x):\n",
    "    return 10*5*5/2-x"
   ]
  },
  {
   "cell_type": "code",
   "execution_count": 12,
   "metadata": {},
   "outputs": [
    {
     "data": {
      "image/png": "[encoded data removed]",
      "text/plain": [
       "<Figure size 432x288 with 1 Axes>"
      ]
     },
     "metadata": {
      "needs_background": "light"
     },
     "output_type": "display_data"
    },
    {
     "data": {
      "image/png": "[encoded data removed]",
      "text/plain": [
       "<Figure size 432x288 with 1 Axes>"
      ]
     },
     "metadata": {
      "needs_background": "light"
     },
     "output_type": "display_data"
    },
    {
     "data": {
      "text/plain": [
       "125.0"
      ]
     },
     "execution_count": 12,
     "metadata": {},
     "output_type": "execute_result"
    }
   ],
   "source": [
    "BiRegRoot(f2,110,1000,0.0000001)"
   ]
  },
  {
   "cell_type": "markdown",
   "metadata": {},
   "source": [
    "## Задание IV"
   ]
  },
  {
   "cell_type": "markdown",
   "metadata": {},
   "source": [
    "Инициализируем уравнение"
   ]
  },
  {
   "cell_type": "code",
   "execution_count": 13,
   "metadata": {},
   "outputs": [],
   "source": [
    "def f3(x):\n",
    "    return 2*x**3-4*x**2-4*x-20"
   ]
  },
  {
   "cell_type": "markdown",
   "metadata": {},
   "source": [
    "Для данной задачи был выбран метод хорд, поскольку он решает данное уравнение всего за 3 итерации"
   ]
  },
  {
   "cell_type": "code",
   "execution_count": 14,
   "metadata": {},
   "outputs": [
    {
     "data": {
      "text/plain": [
       "3.431847522419904"
      ]
     },
     "execution_count": 14,
     "metadata": {},
     "output_type": "execute_result"
    }
   ],
   "source": [
    "chord(3,4,f3,1000)"
   ]
  },
  {
   "cell_type": "markdown",
   "metadata": {},
   "source": [
    "![Mathlab Roots](https://imgur.com/py2N2aF.png)"
   ]
  },
  {
   "cell_type": "markdown",
   "metadata": {},
   "source": [
    "Как видим результаты совпадают"
   ]
  },
  {
   "cell_type": "markdown",
   "metadata": {},
   "source": [
    "## Задание V"
   ]
  },
  {
   "cell_type": "markdown",
   "metadata": {},
   "source": [
    "Вариант 10. Решить нелинейное уравнение $5*ln(x)-x^{1/2}=0$"
   ]
  },
  {
   "cell_type": "markdown",
   "metadata": {},
   "source": [
    "Для метода простых итераций нужно, чтобы соблюдалось условие $|g(x)'<1|$ Под это условие подходит только 1 вариант $g(x)=e^{\\sqrt{x}/5}$"
   ]
  },
  {
   "cell_type": "code",
   "execution_count": 15,
   "metadata": {},
   "outputs": [
    {
     "data": {
      "image/png": "[encoded data removed]",
      "text/plain": [
       "<Figure size 432x288 with 1 Axes>"
      ]
     },
     "metadata": {
      "needs_background": "light"
     },
     "output_type": "display_data"
    },
    {
     "name": "stdout",
     "output_type": "stream",
     "text": [
      "1.2506475301636295\n"
     ]
    },
    {
     "data": {
      "image/png": "[encoded data removed]",
      "text/plain": [
       "<Figure size 432x288 with 1 Axes>"
      ]
     },
     "metadata": {
      "needs_background": "light"
     },
     "output_type": "display_data"
    },
    {
     "name": "stdout",
     "output_type": "stream",
     "text": [
      "1.250652144404092\n"
     ]
    }
   ],
   "source": [
    "MyDerivative=lambda x:(1/x)*(x**(1/2)/2+5)\n",
    "\n",
    "MyFunction= lambda x:5*math.log(x)-x**(1/2)\n",
    "SimpleFlex=lambda x:math.exp(math.sqrt(x)/5)\n",
    "def Newton(f,dx,x,max_iterations):\n",
    "    i=0\n",
    "    iterationx=[x]\n",
    "    iteration=[i]\n",
    "    while (abs(f(x))>=10**-7 and i<max_iterations):\n",
    "\n",
    "        x=x-f(x)/dx(x)\n",
    "        i+=1\n",
    "        iterationx.append(x)\n",
    "        iteration.append(i)\n",
    "    \n",
    "    plt.plot(iteration,iterationx)\n",
    "    plt.show()\n",
    "    return x\n",
    "\n",
    "\n",
    "def simple(f,dx,x,max_iterations):\n",
    "    i=0\n",
    "    newx=0\n",
    "    \n",
    "    iterationx=[x]\n",
    "    iteration=[i]\n",
    "\n",
    "    while (abs(f(x)-f(newx))>=10**-6 and i<max_iterations):\n",
    "       x=newx\n",
    "       newx=f(x)\n",
    "       i+=1\n",
    "       iterationx.append(x)\n",
    "       iteration.append(i)\n",
    "    plt.plot(iteration,iterationx)\n",
    "    plt.show()\n",
    "    return x\n",
    "print(simple(SimpleFlex,MyDerivative,10000,100))\n",
    "\n",
    "\n",
    "print(Newton(MyFunction,MyDerivative,2,100))\n",
    "\n"
   ]
  },
  {
   "cell_type": "markdown",
   "metadata": {},
   "source": [
    "## Задание VI"
   ]
  },
  {
   "cell_type": "markdown",
   "metadata": {},
   "source": [
    "*Вариант 10.* Решить систему нелинейных уравнений \n",
    "$$\n",
    "\\begin{align*}\n",
    "  & tg(xy +0.2) = x^2 \\\\\n",
    "  & 0.6x^2 + 2y^2 = 1\n",
    "\\end{align*}\n",
    "$$"
   ]
  },
  {
   "cell_type": "markdown",
   "metadata": {},
   "source": [
    "Приравняем 2 уравнения к 0 и инициализируем"
   ]
  },
  {
   "cell_type": "code",
   "execution_count": 16,
   "metadata": {},
   "outputs": [],
   "source": [
    "from numpy import tan\n",
    "import numpy as np\n",
    "import matplotlib.pyplot as plt\n",
    "def F(x):\n",
    "    return np.array([tan(x[0]*x[1]+0.2)-x[0]**2, 0.6*x[0]*x[0]+2*x[1]*x[1]-1])"
   ]
  },
  {
   "cell_type": "markdown",
   "metadata": {},
   "source": [
    "Так же перекфалифицируем переменные x,y в вектор [x1, x2, ..., xn](x[0], x[1])"
   ]
  },
  {
   "cell_type": "markdown",
   "metadata": {},
   "source": [
    "Подсчитаем матрицу Якоби для данной системы и инициализируем её"
   ]
  },
  {
   "cell_type": "code",
   "execution_count": 17,
   "metadata": {},
   "outputs": [],
   "source": [
    "def J(x):\n",
    "    return np.array([[(1+tan(x[0]*x[1])**2)*x[1]-2*x[0],(1+tan(x[0]*x[1])**2)*x[0]],[1.2*x[0],4*x[1]]])"
   ]
  },
  {
   "cell_type": "markdown",
   "metadata": {},
   "source": [
    "Все части инициализированы, перейдём к методу Ньютона."
   ]
  },
  {
   "cell_type": "code",
   "execution_count": 18,
   "metadata": {},
   "outputs": [
    {
     "name": "stdout",
     "output_type": "stream",
     "text": [
      "[0.87646185 0.51917664]\n"
     ]
    },
    {
     "data": {
      "image/png": "[encoded data removed]",
      "text/plain": [
       "<Figure size 432x288 with 1 Axes>"
      ]
     },
     "metadata": {
      "needs_background": "light"
     },
     "output_type": "display_data"
    }
   ],
   "source": [
    "def Newton_system(F,J,x):\n",
    "    F_value=F(x)\n",
    "    F_norm=np.linalg.norm(F_value,ord=2)\n",
    "    i=0\n",
    "    ix=[x[0]]\n",
    "    iy=[x[1]]\n",
    "    ii=[0]\n",
    "    while (abs(np.linalg.norm(F_value,ord=2))>=10**-6 and i<100):\n",
    "        delta=np.linalg.solve(J(x),-F(x))\n",
    "        x=x+delta\n",
    "        i+=1\n",
    "        ix.append(x[0])\n",
    "        iy.append(x[1])\n",
    "        ii.append(i)\n",
    "    print(x)\n",
    "    plt.plot(ii, ix)\n",
    "    plt.plot(ii, iy)\n",
    "    plt.show()\n",
    "    return x\n",
    "    print(x)\n",
    "x=Newton_system(F,J,x=np.array([1,1]))"
   ]
  },
  {
   "cell_type": "code",
   "execution_count": 19,
   "metadata": {},
   "outputs": [],
   "source": [
    "def power_iteration(A, num_simulations: int):\n",
    "    # Ideally choose a random vector\n",
    "    # To decrease the chance that our vector\n",
    "    # Is orthogonal to the eigenvector\n",
    "    b_k = np.random.rand(A.shape[1])\n",
    "    print(222)\n",
    "    for _ in range(num_simulations):\n",
    "        # calculate the matrix-by-vector product Ab\n",
    "        b_k1 = np.dot(A, b_k)\n",
    "\n",
    "        # calculate the norm\n",
    "        b_k1_norm = np.linalg.norm(b_k1)\n",
    "        print(b_k1_norm)\n",
    "\n",
    "        # re normalize the vector\n",
    "        b_k = b_k1 / b_k1_norm\n",
    "        k=np.dot(b_k,A*b_k)/np.dot(b_k,b_k)\n",
    "        \n",
    "    return b_k"
   ]
  },
  {
   "cell_type": "code",
   "execution_count": 20,
   "metadata": {},
   "outputs": [
    {
     "name": "stdout",
     "output_type": "stream",
     "text": [
      "222\n",
      "160.57536353456427\n",
      "159.6729566487391\n",
      "162.5294148263285\n",
      "163.65562350439063\n",
      "164.25670666185374\n",
      "164.59781854955696\n",
      "164.79275775513128\n",
      "164.90391123817298\n",
      "164.9671267880543\n",
      "165.0030165184534\n",
      "165.0233712004809\n",
      "165.0349083130573\n",
      "165.04144534811027\n",
      "165.04514857049008\n",
      "165.04724620945666\n",
      "165.04843431350886\n",
      "165.0491072325165\n",
      "165.04948835308056\n",
      "165.04970420555105\n",
      "165.04982645554992\n",
      "165.0498956926895\n",
      "165.0499349055453\n",
      "165.04995711394776\n",
      "165.04996969178228\n",
      "165.04997681529613\n",
      "165.04998084972976\n",
      "165.0499831346488\n",
      "165.04998442872264\n",
      "165.0499851616269\n",
      "165.04998557671038\n",
      "165.0499858117947\n",
      "165.04998594493566\n",
      "165.04998602034067\n",
      "165.0499860630466\n",
      "165.04998608723326\n",
      "165.04998610093153\n",
      "165.04998610868955\n",
      "165.04998611308335\n",
      "165.0499861155718\n",
      "165.04998611698116\n",
      "165.04998611777935\n",
      "165.0499861182314\n",
      "165.04998611848745\n",
      "165.04998611863243\n",
      "165.04998611871454\n",
      "165.04998611876107\n",
      "165.0499861187874\n",
      "165.04998611880234\n",
      "165.04998611881075\n",
      "165.04998611881555\n"
     ]
    },
    {
     "data": {
      "text/plain": [
       "array([0.18290306, 0.68304212, 0.68304192, 0.18290346])"
      ]
     },
     "execution_count": 20,
     "metadata": {},
     "output_type": "execute_result"
    }
   ],
   "source": [
    "power_iteration(np.array([[42,-14,59,-45],[-14,67,86,59],[59,86,67,-14],[-45,59,-14,42]]), 50)"
   ]
  },
  {
   "cell_type": "code",
   "execution_count": null,
   "metadata": {},
   "outputs": [],
   "source": []
  }
 ],
 "metadata": {
  "kernelspec": {
   "display_name": "Python 3",
   "language": "python",
   "name": "python3"
  },
  "language_info": {
   "codemirror_mode": {
    "name": "ipython",
    "version": 3
   },
   "file_extension": ".py",
   "mimetype": "text/x-python",
   "name": "python",
   "nbconvert_exporter": "python",
   "pygments_lexer": "ipython3",
   "version": "3.8.2"
  }
 },
 "nbformat": 4,
 "nbformat_minor": 4
}
