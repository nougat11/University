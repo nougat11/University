{
 "cells": [
  {
   "cell_type": "markdown",
   "metadata": {},
   "source": [
    "# Лабораторная работа 4"
   ]
  },
  {
   "cell_type": "markdown",
   "metadata": {},
   "source": [
    "# Задание I"
   ]
  },
  {
   "cell_type": "code",
   "execution_count": 111,
   "metadata": {},
   "outputs": [],
   "source": [
    "import numpy as np\n",
    "import sympy as sm"
   ]
  },
  {
   "cell_type": "markdown",
   "metadata": {},
   "source": [
    "инициализируем функции"
   ]
  },
  {
   "cell_type": "code",
   "execution_count": 112,
   "metadata": {},
   "outputs": [],
   "source": [
    "fun1=lambda x: np.exp(2*x)*np.cos(3*x)\n",
    "fun2=lambda x: np.sin(np.log(x))\n",
    "fun3=lambda x: np.log(x)\n",
    "fun4=lambda x: np.cos(x)+np.sin(x)\n"
   ]
  },
  {
   "cell_type": "markdown",
   "metadata": {},
   "source": [
    "### Полином Лагранжа"
   ]
  },
  {
   "cell_type": "code",
   "execution_count": 113,
   "metadata": {},
   "outputs": [],
   "source": [
    "def Lagrange(X,func,x):\n",
    "    ans=0\n",
    "    Y=[func(x) for x in X]\n",
    "    for i in range(len(X)):\n",
    "        ram=1\n",
    "        for j in range(len(X)):\n",
    "            if (i!=j):\n",
    "                ram*=(x-X[j])/(X[i]-X[j])\n",
    "                \n",
    "        ans+=Y[i]*ram\n",
    "        \n",
    "    return ans\n",
    "            \n",
    "        \n",
    "    "
   ]
  },
  {
   "cell_type": "markdown",
   "metadata": {},
   "source": [
    "### Полином Ньютона"
   ]
  },
  {
   "cell_type": "code",
   "execution_count": 114,
   "metadata": {},
   "outputs": [],
   "source": [
    "def Newton(X,func,x):\n",
    "    Y=np.array([func(x) for x in X])\n",
    "    #X=np.array([-1,0,1,2])\n",
    "    #Y=np.array([1,1,2,0])\n",
    "    n=len(Y)\n",
    "    coeff_matrix=np.zeros([n,n])\n",
    "    coeff_matrix[::,0]=Y\n",
    "    for j in range(1,n):\n",
    "        for i in range(n-j):\n",
    "            coeff_matrix[i][j]=(coeff_matrix[i+1][j-1]-coeff_matrix[i][j-1])/(X[i+j]-X[i])\n",
    "    coeff_vector=coeff_matrix[0]\n",
    "    result=0\n",
    "    for i in range(n):\n",
    "        kk=1\n",
    "        for j in range(i):\n",
    "            kk*=(x-(X[j]))\n",
    "        result+=coeff_vector[i]*kk\n",
    "    return result\n",
    "    \n",
    "   \n",
    "        \n",
    "    \n",
    "    \n",
    "    "
   ]
  },
  {
   "cell_type": "markdown",
   "metadata": {},
   "source": [
    "### Метод наименьших квадратов"
   ]
  },
  {
   "cell_type": "code",
   "execution_count": 115,
   "metadata": {},
   "outputs": [],
   "source": [
    "def least_square(X,fun,x):\n",
    "    Y=[fun(x) for x in X]\n",
    "    s1=s2=0\n",
    "    for i in range(len(X)):\n",
    "        s1+=X[i]*Y[i]\n",
    "        s2+=X[i]**2\n",
    "    a=(s1*len(X)-sum(X)*sum(Y))/(s2*len(X)-sum(X)**2)\n",
    "    b=(np.sum(Y)-a*sum(X))/len(X)\n",
    "    return a*x+b\n",
    "        "
   ]
  },
  {
   "cell_type": "markdown",
   "metadata": {},
   "source": [
    "### Пункт А"
   ]
  },
  {
   "cell_type": "code",
   "execution_count": 116,
   "metadata": {},
   "outputs": [
    {
     "name": "stdout",
     "output_type": "stream",
     "text": [
      "0.25 1.2507915593901018 1.2507915593901018 0.6056313566974476 1.2063510016467855\n",
      "0.51 0.023819252859356876 0.02381925285935682 -0.1545815684069598 0.11310477962340527\n",
      "0.99 -6.2267674159915165 -6.226767415991515 -1.5580515839843272 -7.136376555330972\n",
      "1.09 -8.179743263413837 -8.179743263413835 -1.8504411705629458 -8.773475489233858\n",
      "1.89 -31.88207779824823 -31.882077798248226 -4.189557863191891 35.83359599091905\n",
      "2.39 -53.989152217306255 -53.989152217306255 -5.651505796084983 75.26013807164033\n"
     ]
    }
   ],
   "source": [
    "keys=[0.25,0.51,0.99,1.09,1.89,2.39]\n",
    "X=[0,0.3,0.6]\n",
    "for elem in keys:\n",
    "    print(elem,Lagrange(X,fun1,elem),Newton(X,fun1,elem),least_square(X,fun1,elem),fun1(elem))\n"
   ]
  },
  {
   "cell_type": "markdown",
   "metadata": {},
   "source": [
    "### Пункт Б"
   ]
  },
  {
   "cell_type": "code",
   "execution_count": 117,
   "metadata": {},
   "outputs": [
    {
     "name": "stdout",
     "output_type": "stream",
     "text": [
      "0.25 -0.41641205275364257 -0.4164120527536359 0.116529666583495 -0.9830277404112437\n",
      "0.51 -0.2090059608832462 -0.20900596088324352 0.19448079500478282 -0.623604042277235\n",
      "0.99 0.127496252501766 0.1274962525017669 0.3383905705517757 -0.010050166658206879\n",
      "1.09 0.1900240847707133 0.19002408477071442 0.36837177379073255 0.0860710680302494\n",
      "1.89 0.5961899709548901 0.5961899709548899 0.6082213997023873 0.5944462368502892\n",
      "2.39 0.7651312862383158 0.7651312862383157 0.7581274158971717 0.7651622942057001\n"
     ]
    }
   ],
   "source": [
    "X=[2,2.4,2.6]\n",
    "for elem in keys:\n",
    "    print(elem,Lagrange(X,fun2,elem),Newton(X,fun2,elem),least_square(X,fun2,elem),fun2(elem))"
   ]
  },
  {
   "cell_type": "markdown",
   "metadata": {},
   "source": [
    "### Пункт В"
   ]
  },
  {
   "cell_type": "code",
   "execution_count": 118,
   "metadata": {},
   "outputs": [
    {
     "name": "stdout",
     "output_type": "stream",
     "text": [
      "0.25 -1.0970886486207583 -1.0970886486207583 -0.6244619597870635 -1.3862943611198906\n",
      "0.51 -0.625563962937723 -0.6255639629377207 -0.4060623347316073 -0.6733445532637656\n",
      "0.99 -0.010030245266729217 -0.010030245266729217 -0.0028630269369189776 -0.01005033585350145\n",
      "1.09 0.08616989000796907 0.08616989000796905 0.08113682885364115 0.08617769624105241\n",
      "1.89 0.6538267743446688 0.6538267743446692 0.7531356751781215 0.636576829071551\n",
      "2.39 1.00557669607025 1.0055766960702543 1.1731349541309222 0.8712933659434193\n"
     ]
    }
   ],
   "source": [
    "X=[1,1.1,1.3,1.4]\n",
    "for elem in keys:\n",
    "    print(elem,Lagrange(X,fun3,elem),Newton(X,fun3,elem),least_square(X,fun3,elem),fun3(elem))"
   ]
  },
  {
   "cell_type": "markdown",
   "metadata": {},
   "source": [
    "### Пункт Г"
   ]
  },
  {
   "cell_type": "code",
   "execution_count": 119,
   "metadata": {},
   "outputs": [
    {
     "name": "stdout",
     "output_type": "stream",
     "text": [
      "0.25 1.2163163809651676 1.2163163809651676 1.1714026164550149 1.2163163809651676\n",
      "0.51 1.3609576005983683 1.3609576005983683 1.2648248826444646 1.3609217545286587\n",
      "0.99 1.384918739199954 1.3849187391999542 1.4372967586865255 1.3847158391821082\n",
      "1.09 1.3463559790626423 1.346355979062642 1.4732283995286215 1.349112281324788\n",
      "1.89 0.41836490681612126 0.4183649068161258 1.7606815262653899 0.6356750555057482\n",
      "2.39 -0.7930698234810905 -0.7930698234810782 1.9403397304758703 -0.047799105003197506\n"
     ]
    }
   ],
   "source": [
    "X=[0,0.25,0.5,1]\n",
    "for elem in keys:\n",
    "    print(elem,Lagrange(X,fun4,elem),Newton(X,fun4,elem),least_square(X,fun4,elem),fun4(elem))"
   ]
  },
  {
   "cell_type": "markdown",
   "metadata": {},
   "source": [
    "# Задание 2"
   ]
  },
  {
   "cell_type": "code",
   "execution_count": 120,
   "metadata": {},
   "outputs": [],
   "source": [
    "def least_square(X,Y):\n",
    "    s1=s2=0\n",
    "    for i in range(len(X)):\n",
    "        s1+=X[i]*Y[i]\n",
    "        s2+=X[i]**2\n",
    "    a=(s1*len(X)-sum(X)*sum(Y))/(s2*len(X)-sum(X)**2)\n",
    "    b=(np.sum(Y)-a*sum(X))/len(X)\n",
    "    return a,b"
   ]
  },
  {
   "cell_type": "code",
   "execution_count": 121,
   "metadata": {},
   "outputs": [
    {
     "name": "stdout",
     "output_type": "stream",
     "text": [
      "      iso_code       location        date  total_cases  new_cases  \\\n",
      "0          ABW          Aruba  2020-03-13            2          2   \n",
      "1          ABW          Aruba  2020-03-20            4          2   \n",
      "2          ABW          Aruba  2020-03-24           12          8   \n",
      "3          ABW          Aruba  2020-03-25           17          5   \n",
      "4          ABW          Aruba  2020-03-26           19          2   \n",
      "...        ...            ...         ...          ...        ...   \n",
      "21601      NaN  International  2020-02-28          705          0   \n",
      "21602      NaN  International  2020-02-29          705          0   \n",
      "21603      NaN  International  2020-03-01          705          0   \n",
      "21604      NaN  International  2020-03-02          705          0   \n",
      "21605      NaN  International  2020-03-10          696         -9   \n",
      "\n",
      "       total_deaths  new_deaths  total_cases_per_million  \\\n",
      "0                 0           0                   18.733   \n",
      "1                 0           0                   37.465   \n",
      "2                 0           0                  112.395   \n",
      "3                 0           0                  159.227   \n",
      "4                 0           0                  177.959   \n",
      "...             ...         ...                      ...   \n",
      "21601             4           0                      NaN   \n",
      "21602             6           2                      NaN   \n",
      "21603             6           0                      NaN   \n",
      "21604             6           0                      NaN   \n",
      "21605             7           1                      NaN   \n",
      "\n",
      "       new_cases_per_million  total_deaths_per_million  ...  aged_65_older  \\\n",
      "0                     18.733                       0.0  ...         13.085   \n",
      "1                     18.733                       0.0  ...         13.085   \n",
      "2                     74.930                       0.0  ...         13.085   \n",
      "3                     46.831                       0.0  ...         13.085   \n",
      "4                     18.733                       0.0  ...         13.085   \n",
      "...                      ...                       ...  ...            ...   \n",
      "21601                    NaN                       NaN  ...            NaN   \n",
      "21602                    NaN                       NaN  ...            NaN   \n",
      "21603                    NaN                       NaN  ...            NaN   \n",
      "21604                    NaN                       NaN  ...            NaN   \n",
      "21605                    NaN                       NaN  ...            NaN   \n",
      "\n",
      "       aged_70_older  gdp_per_capita  extreme_poverty  cvd_death_rate  \\\n",
      "0              7.452       35973.781              NaN             NaN   \n",
      "1              7.452       35973.781              NaN             NaN   \n",
      "2              7.452       35973.781              NaN             NaN   \n",
      "3              7.452       35973.781              NaN             NaN   \n",
      "4              7.452       35973.781              NaN             NaN   \n",
      "...              ...             ...              ...             ...   \n",
      "21601            NaN             NaN              NaN             NaN   \n",
      "21602            NaN             NaN              NaN             NaN   \n",
      "21603            NaN             NaN              NaN             NaN   \n",
      "21604            NaN             NaN              NaN             NaN   \n",
      "21605            NaN             NaN              NaN             NaN   \n",
      "\n",
      "       diabetes_prevalence  female_smokers male_smokers  \\\n",
      "0                    11.62             NaN          NaN   \n",
      "1                    11.62             NaN          NaN   \n",
      "2                    11.62             NaN          NaN   \n",
      "3                    11.62             NaN          NaN   \n",
      "4                    11.62             NaN          NaN   \n",
      "...                    ...             ...          ...   \n",
      "21601                  NaN             NaN          NaN   \n",
      "21602                  NaN             NaN          NaN   \n",
      "21603                  NaN             NaN          NaN   \n",
      "21604                  NaN             NaN          NaN   \n",
      "21605                  NaN             NaN          NaN   \n",
      "\n",
      "       handwashing_facilities  hospital_beds_per_100k  \n",
      "0                         NaN                     NaN  \n",
      "1                         NaN                     NaN  \n",
      "2                         NaN                     NaN  \n",
      "3                         NaN                     NaN  \n",
      "4                         NaN                     NaN  \n",
      "...                       ...                     ...  \n",
      "21601                     NaN                     NaN  \n",
      "21602                     NaN                     NaN  \n",
      "21603                     NaN                     NaN  \n",
      "21604                     NaN                     NaN  \n",
      "21605                     NaN                     NaN  \n",
      "\n",
      "[21606 rows x 32 columns]\n"
     ]
    }
   ],
   "source": [
    "import pandas as pd\n",
    "data=pd.read_csv('owid-covid-data.csv')\n",
    "print(data)\n",
    "cc=data.iloc[21386:21542]\n",
    "Y=cc['new_cases']\n",
    "Y=Y.values.tolist()\n",
    "X=[i for i in range(len(Y))]\n",
    "\n"
   ]
  },
  {
   "cell_type": "code",
   "execution_count": 122,
   "metadata": {},
   "outputs": [
    {
     "data": {
      "image/png": "[encoded data removed]",
      "text/plain": [
       "<Figure size 432x288 with 1 Axes>"
      ]
     },
     "metadata": {
      "needs_background": "light"
     },
     "output_type": "display_data"
    }
   ],
   "source": [
    "import matplotlib.pyplot as plt\n",
    "k,b=least_square(X,Y)\n",
    "Y_new=[k*x+b for x in X]\n",
    "plt.step(X,Y)\n",
    "plt.plot(X,Y_new)\n",
    "plt.show()"
   ]
  },
  {
   "cell_type": "markdown",
   "metadata": {},
   "source": [
    "# Кубический сплайн"
   ]
  },
  {
   "cell_type": "code",
   "execution_count": 123,
   "metadata": {},
   "outputs": [],
   "source": [
    "def cubic_spline(x, y):\n",
    "    x = np.array(x)\n",
    "    y = np.array(y)\n",
    "    n = len(x)\n",
    "    delta_x = np.diff(x)\n",
    "    delta_y = np.diff(y)\n",
    "    A = np.zeros(shape = (n,n))\n",
    "    b = np.zeros(shape=(n,1))\n",
    "    A[0][0] = 1\n",
    "    A[-1][-1] = 1\n",
    "    for i in range(1,n-1):\n",
    "        A[i][i-1] = delta_x[i-1]\n",
    "        A[i][i+1] = delta_x[i]\n",
    "        A[i][i] = 2*(delta_x[i-1]+delta_x[i])\n",
    "        b[i][0] = 3*(delta_y[i]/delta_x[i] - delta_y[i-1]/delta_x[i-1])\n",
    "    c = jacobi(A,b)\n",
    "    c=np.array(c)\n",
    "    d = np.zeros(shape = (n-1,1))\n",
    "    b = np.zeros(shape = (n-1,1))\n",
    "    for i in range(0,len(d)):\n",
    "        d[i] = (c[i+1] - c[i]) / (3*delta_x[i])\n",
    "        b[i] = (delta_y[i]/delta_x[i]) - (delta_x[i]/3)*(2*c[i] + c[i+1])    \n",
    "    \n",
    "    return b.squeeze(), c.squeeze(), d.squeeze()"
   ]
  },
  {
   "cell_type": "code",
   "execution_count": 124,
   "metadata": {},
   "outputs": [],
   "source": [
    "def jacobi(A, b):\n",
    "    n = A.shape[0]\n",
    "    x = np.zeros(n)\n",
    "    x_prev = x\n",
    "    counter = 0\n",
    "    error=999999\n",
    "    \n",
    "    while (error > 1e-5): \n",
    "        for i in range(0, n): \n",
    "            s = 0\n",
    "            for j in range(0,n): \n",
    "                if i != j:\n",
    "                    s += A[i][j] * x_prev[j] \n",
    "            x[i] = (b[i] - s) / A[i][i]\n",
    "        error = (np.sum((x-x_prev)**2))**0.5 \n",
    "        x_prev = x.copy() \n",
    "    return x"
   ]
  },
  {
   "cell_type": "code",
   "execution_count": 125,
   "metadata": {},
   "outputs": [
    {
     "data": {
      "image/png": "[encoded data removed]",
      "text/plain": [
       "<Figure size 432x288 with 1 Axes>"
      ]
     },
     "metadata": {
      "needs_background": "light"
     },
     "output_type": "display_data"
    }
   ],
   "source": [
    "b,c,d=cubic_spline(X,Y)\n",
    "new_y=[]\n",
    "new_x=[i for i in range(160)]\n",
    "for i in range(len(new_x)):\n",
    "    pos=min(i,154)\n",
    "    if (i>154):\n",
    "        pos1=pos+1\n",
    "    else:\n",
    "        pos1=pos\n",
    "    new_y.append(Y[pos]+b[pos]*(new_x[i]-X[pos1])+c[pos]*(new_x[i]-X[pos1])**2+d[pos]*(new_x[i]-X[pos1])**3)\n",
    "plt.plot(new_x,new_y)\n",
    "plt.plot(X,Y)\n",
    "plt.show()\n",
    "    \n",
    "\n"
   ]
  },
  {
   "cell_type": "markdown",
   "metadata": {},
   "source": [
    "# Задание 3"
   ]
  },
  {
   "cell_type": "code",
   "execution_count": 126,
   "metadata": {},
   "outputs": [
    {
     "data": {
      "image/png": "[encoded data removed]",
      "text/plain": [
       "<Figure size 432x288 with 1 Axes>"
      ]
     },
     "metadata": {
      "needs_background": "light"
     },
     "output_type": "display_data"
    }
   ],
   "source": [
    "import matplotlib.pyplot as plt\n",
    "import numpy as np\n",
    "binom=lambda n,i:np.math.factorial(n)/np.math.factorial(i)/np.math.factorial(n-i)\n",
    "B=lambda n,p,t:sum([binom(n,i)*((1-t)**(n-i))*(t**i)*p[i] for i in range(4)])\n",
    "n=3\n",
    "x=[3,3.3,3.5,2]\n",
    "y=[6,6.5,3.5,2]\n",
    "bx=[B(n,x,t) for t in np.arange(0,1,0.01)]\n",
    "by=[B(n,y,t) for t in np.arange(0,1,0.01)]\n",
    "plt.plot(bx, by)\n",
    "x = [2,2.8,5,6] \n",
    "y = [2,3,5.8,6]\n",
    "bx=[B(n,x,t) for t in np.arange(0,1,0.01)]\n",
    "by=[B(n,y,t) for t in np.arange(0,1,0.01)]\n",
    "plt.plot(bx, by)\n",
    "x = [6,5.8,4.5,5] \n",
    "y = [6,5,2.5,2]\n",
    "bx=[B(n,x,t) for t in np.arange(0,1,0.01)]\n",
    "by=[B(n,y,t) for t in np.arange(0,1,0.01)]\n",
    "plt.plot(bx,by)\n",
    "x = [5,5.5,6.4,6.5] \n",
    "y = [2,2.2,2.8,3]\n",
    "bx=[B(n,x,t) for t in np.arange(0,1,0.01)]\n",
    "by=[B(n,y,t) for t in np.arange(0,1,0.01)]\n",
    "plt.plot(bx, by)\n",
    "plt.show()"
   ]
  },
  {
   "cell_type": "markdown",
   "metadata": {},
   "source": [
    "### Буква 'В'"
   ]
  },
  {
   "cell_type": "code",
   "execution_count": 127,
   "metadata": {},
   "outputs": [
    {
     "data": {
      "image/png": "[encoded data removed]",
      "text/plain": [
       "<Figure size 432x288 with 1 Axes>"
      ]
     },
     "metadata": {
      "needs_background": "light"
     },
     "output_type": "display_data"
    }
   ],
   "source": [
    "x=[3,3.5,2.8,2]\n",
    "y=[6,6.1,5.3,2]\n",
    "bx=[B(n,x,t) for t in np.arange(0,1.,0.01)]\n",
    "by=[B(n,y,t) for t in np.arange(0,1.,0.01)]\n",
    "plt.plot(bx, by)\n",
    "x = [2,2.5,3,3.8] \n",
    "y = [2,2.25,3,4]\n",
    "bx=[B(n,x,t) for t in np.arange(0,1,0.01)]\n",
    "by=[B(n,y,t) for t in np.arange(0,1,0.01)]\n",
    "plt.plot(bx, by)\n",
    "x = [3.8,3.9,4.5,2] \n",
    "y = [4,4.2,4.5,4]\n",
    "bx=[B(n,x,t) for t in np.arange(0,1,0.01)]\n",
    "by=[B(n,y,t) for t in np.arange(0,1,0.01)]\n",
    "plt.plot(bx,by)\n",
    "x = [2,3,3.25,4] \n",
    "y = [4,4.5,4.75,5]\n",
    "bx=[B(n,x,t) for t in np.arange(0,1,0.01)]\n",
    "by=[B(n,y,t) for t in np.arange(0,1,0.01)]\n",
    "plt.plot(bx, by)\n",
    "x = [4,3.75,3.5,3] \n",
    "y = [5,6,6.5,6]\n",
    "bx=[B(n,x,t) for t in np.arange(0,1,0.01)]\n",
    "by=[B(n,y,t) for t in np.arange(0,1,0.01)]\n",
    "plt.plot(bx, by)\n",
    "plt.show()"
   ]
  },
  {
   "cell_type": "code",
   "execution_count": null,
   "metadata": {},
   "outputs": [],
   "source": []
  }
 ],
 "metadata": {
  "kernelspec": {
   "display_name": "Python 3",
   "language": "python",
   "name": "python3"
  },
  "language_info": {
   "codemirror_mode": {
    "name": "ipython",
    "version": 3
   },
   "file_extension": ".py",
   "mimetype": "text/x-python",
   "name": "python",
   "nbconvert_exporter": "python",
   "pygments_lexer": "ipython3",
   "version": "3.8.2"
  }
 },
 "nbformat": 4,
 "nbformat_minor": 4
}
