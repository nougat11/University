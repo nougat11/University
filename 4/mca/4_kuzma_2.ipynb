{
 "cells": [
  {
   "cell_type": "markdown",
   "metadata": {},
   "source": [
    "<h1><center>Лабораторная работа 2. Решение нелинейных уравнений</center></h1>"
   ]
  },
  {
   "cell_type": "markdown",
   "metadata": {},
   "source": [
    "# Задание I"
   ]
  },
  {
   "cell_type": "markdown",
   "metadata": {},
   "source": [
    "Разработать алгоритмы численного решения системы линейных уравнений\n",
    "(метод Гаусса, метод Гаусса-Жордана, метод Якоби, метод Гаусса-Зейделя).\n",
    "Представить их реализацию в выбранном языке высшего уровня, оформляя каждый\n",
    "метод численного решения в виде функций. Проилюстрировать работу функций на\n",
    "примере решения системы линейных уравнений (выбрать согласно варианту задания).\n",
    "Найти оценку абсолютной и относительной погрешности решения, принимая\n",
    "абсолютную погрешность свободных членов исходной системы $e=10^{-3}$. Оценить сходимость полученного численного решения."
   ]
  },
  {
   "cell_type": "markdown",
   "metadata": {},
   "source": [
    "### Инициализируем уравнение(вариант 10)"
   ]
  },
  {
   "cell_type": "markdown",
   "metadata": {},
   "source": [
    "![Initialization System](https://i.imgur.com/YrI1BBp.png)"
   ]
  },
  {
   "cell_type": "code",
   "execution_count": 48,
   "metadata": {},
   "outputs": [],
   "source": [
    "import numpy as np\n",
    "import matplotlib.pyplot as plt\n",
    "a=np.array([[2.958,0.147,0.354,0.238],\n",
    "            [0.127,2.395,0.256,0.273],\n",
    "            [0.403,0.184,3.815,0.416],\n",
    "            [0.259,0.361,0.281,3.736]])\n",
    "b=np.array([0.651,0.898,0.595,0.389])\n"
   ]
  },
  {
   "cell_type": "markdown",
   "metadata": {},
   "source": [
    "# Метод Гаусса"
   ]
  },
  {
   "cell_type": "code",
   "execution_count": 43,
   "metadata": {},
   "outputs": [],
   "source": [
    "import numpy as np\n",
    "\n",
    "x=np.zeros(len(b),float)\n",
    "def Gauss(a,b):\n",
    "    \n",
    "    n=len(b)\n",
    "    for k in range(n):\n",
    "        submax=-999999\n",
    "        for i in range(k, n):\n",
    "            if (a[i][k]>submax):\n",
    "                submax=a[i][k]\n",
    "                posmax=i\n",
    "        a[k],a[posmax]=a[posmax],a[k]\n",
    "        b[k],b[posmax]=b[posmax],b[k]\n",
    "        for i in range(k+1,n):\n",
    "            factor=a[i][k]/a[k][k]\n",
    "            for j in range(k,n):\n",
    "                a[i][j]-=factor*a[k][j]\n",
    "            b[i]-=factor*b[k]\n",
    "    x[n-1]=b[n-1]/a[n-1][n-1]\n",
    "    for k in range(n-2,-1,-1):\n",
    "        sum_ax=0\n",
    "        for j in range(k+1,n):\n",
    "            sum_ax+=a[k][j]*x[j]\n",
    "        x[k]=(b[k]-sum_ax)/a[k][k]\n",
    "    return x\n",
    "       \n",
    "    \n",
    "        \n",
    "\n"
   ]
  },
  {
   "cell_type": "code",
   "execution_count": 44,
   "metadata": {},
   "outputs": [
    {
     "data": {
      "text/plain": [
       "array([0.18519046, 0.34731112, 0.11429252, 0.04912745])"
      ]
     },
     "execution_count": 44,
     "metadata": {},
     "output_type": "execute_result"
    }
   ],
   "source": [
    "Gauss(a,b)"
   ]
  },
  {
   "cell_type": "markdown",
   "metadata": {},
   "source": [
    "# Метод Жордана-Гаусса"
   ]
  },
  {
   "cell_type": "code",
   "execution_count": 45,
   "metadata": {},
   "outputs": [],
   "source": [
    "import numpy as np\n",
    "\n",
    "x=np.zeros(len(b),float)\n",
    "def GaussJordan(a,b):\n",
    "    n=len(b)\n",
    "    for i in range(n):\n",
    "        if (a[i][i]==0):\n",
    "            k=i\n",
    "            while (a[k][i]==0):\n",
    "                k+=1\n",
    "            a[i],a[k]=a[k],a[i]\n",
    "            b[i],b[k]=b[k],b[i]\n",
    "        pivot=a[i][i]\n",
    "        a[i]/=a[i][i]\n",
    "        b[i]/=pivot\n",
    "       \n",
    "        for j in range(i+1,n):\n",
    "            factor=a[j][i]\n",
    "            a[j]=a[j]-factor*a[i]\n",
    "            b[j]=b[j]-factor*b[i]\n",
    "    for i in range(n-1, -1, -1):\n",
    "        for j in range(i-1,-1,-1):\n",
    "            print(a,factor,j,i)\n",
    "            factor=a[j][i]\n",
    "            a[j]-=factor*a[i]\n",
    "            b[j]-=factor*b[i]\n",
    "    \n",
    "        \n",
    "    return b\n",
    "       \n",
    "            \n",
    "            \n",
    "    "
   ]
  },
  {
   "cell_type": "code",
   "execution_count": 46,
   "metadata": {},
   "outputs": [
    {
     "name": "stdout",
     "output_type": "stream",
     "text": [
      "[[1.         0.04969574 0.11967546 0.08045977]\n",
      " [0.         1.         0.10080896 0.11001083]\n",
      " [0.         0.         1.         0.09746999]\n",
      " [0.         0.         0.         1.        ]] 0.0 2 3\n",
      "[[1.         0.04969574 0.11967546 0.08045977]\n",
      " [0.         1.         0.10080896 0.11001083]\n",
      " [0.         0.         1.         0.        ]\n",
      " [0.         0.         0.         1.        ]] 0.09746999225326884 1 3\n",
      "[[1.         0.04969574 0.11967546 0.08045977]\n",
      " [0.         1.         0.10080896 0.        ]\n",
      " [0.         0.         1.         0.        ]\n",
      " [0.         0.         0.         1.        ]] 0.11001082547463883 0 3\n",
      "[[1.         0.04969574 0.11967546 0.        ]\n",
      " [0.         1.         0.10080896 0.        ]\n",
      " [0.         0.         1.         0.        ]\n",
      " [0.         0.         0.         1.        ]] 0.08045977011494251 1 2\n",
      "[[1.         0.04969574 0.11967546 0.        ]\n",
      " [0.         1.         0.         0.        ]\n",
      " [0.         0.         1.         0.        ]\n",
      " [0.         0.         0.         1.        ]] 0.10080895973967911 0 2\n",
      "[[1.         0.04969574 0.         0.        ]\n",
      " [0.         1.         0.         0.        ]\n",
      " [0.         0.         1.         0.        ]\n",
      " [0.         0.         0.         1.        ]] 0.11967545638945232 0 1\n",
      "[[1. 0. 0. 0.]\n",
      " [0. 1. 0. 0.]\n",
      " [0. 0. 1. 0.]\n",
      " [0. 0. 0. 1.]]\n"
     ]
    },
    {
     "data": {
      "text/plain": [
       "array([0.18519046, 0.34731112, 0.11429252, 0.04912745])"
      ]
     },
     "execution_count": 46,
     "metadata": {},
     "output_type": "execute_result"
    }
   ],
   "source": [
    "GaussJordan(a,b)"
   ]
  },
  {
   "cell_type": "markdown",
   "metadata": {},
   "source": [
    "# Метод Якоби"
   ]
  },
  {
   "cell_type": "code",
   "execution_count": 59,
   "metadata": {},
   "outputs": [],
   "source": [
    "def Jacobi(a,b,err_max=10**-3):\n",
    "    err=9999\n",
    "    x=np.zeros(len(b))\n",
    "    err_max=10**-3\n",
    "    iteration=0\n",
    "    D=np.diag(np.diag(a))\n",
    "    \n",
    "    D_REVERSE=D\n",
    "    L_U=(a-np.diagflat(np.diag(a)))*(-1)\n",
    "    error=[0]\n",
    "    iteration=0\n",
    "    while err>err_max:\n",
    "        iteration+=1\n",
    "        ram_x = x\n",
    "        x= np.dot(np.dot(D_REVERSE,L_U),x)+np.dot(D_REVERSE,b)\n",
    "        err=abs(np.linalg.norm(x)-np.linalg.norm(ram_x))\n",
    "        error.append(err)\n",
    "    plt.plot(range(0,len(error)),error)\n",
    "    plt.show()\n",
    "    return x\n"
   ]
  },
  {
   "cell_type": "code",
   "execution_count": 60,
   "metadata": {},
   "outputs": [
    {
     "data": {
      "image/png": "[encoded data removed]",
      "text/plain": [
       "<Figure size 432x288 with 1 Axes>"
      ]
     },
     "metadata": {
      "needs_background": "light"
     },
     "output_type": "display_data"
    },
    {
     "data": {
      "text/plain": [
       "array([0.18514637, 0.34726353, 0.11424666, 0.04908437])"
      ]
     },
     "execution_count": 60,
     "metadata": {},
     "output_type": "execute_result"
    }
   ],
   "source": [
    "Jacobi(a,b)"
   ]
  },
  {
   "cell_type": "markdown",
   "metadata": {},
   "source": [
    "# Метод Гаусса-Зейделя"
   ]
  },
  {
   "cell_type": "code",
   "execution_count": 51,
   "metadata": {},
   "outputs": [],
   "source": [
    "import numpy as np\n",
    "a=np.array([[2.958,0.147,0.354,0.238],\n",
    "            [0.127,2.395,0.256,0.273],\n",
    "            [0.403,0.184,3.815,0.416],\n",
    "            [0.259,0.361,0.281,3.736]])\n",
    "b=np.array([0.651,0.898,0.595,0.389])\n",
    "\n",
    "\n",
    "def Gauss_Seidel(a,b,err_max=10**-3):\n",
    "    err=999\n",
    "    error=[0]\n",
    "    x=np.zeros(len(b),float)\n",
    "    D=np.diag(np.diag(a))\n",
    "    L=np.tril(a,-1)*(-1)\n",
    "    print(L)\n",
    "    U=np.triu(a,1)*(-1)\n",
    "    print(U)\n",
    "    T=np.dot(np.linalg.inv(D-L),U)\n",
    "    C=np.dot(np.linalg.inv(D-L),b)\n",
    "    while err>err_max:\n",
    "        ram_x=x\n",
    "        x=np.dot(T,x)+C\n",
    "        err=abs(np.linalg.norm(x)-np.linalg.norm(ram_x))\n",
    "        error.append(err)\n",
    "    plt.plot(range(0,len(error)),error)\n",
    "    plt.show()\n",
    "    return x\n",
    "    "
   ]
  },
  {
   "cell_type": "code",
   "execution_count": 52,
   "metadata": {},
   "outputs": [
    {
     "name": "stdout",
     "output_type": "stream",
     "text": [
      "[[-0.    -0.    -0.    -0.   ]\n",
      " [-0.127 -0.    -0.    -0.   ]\n",
      " [-0.403 -0.184 -0.    -0.   ]\n",
      " [-0.259 -0.361 -0.281 -0.   ]]\n",
      "[[-0.    -0.147 -0.354 -0.238]\n",
      " [-0.    -0.    -0.256 -0.273]\n",
      " [-0.    -0.    -0.    -0.416]\n",
      " [-0.    -0.    -0.    -0.   ]]\n"
     ]
    },
    {
     "data": {
      "image/png": "[encoded data removed]",
      "text/plain": [
       "<Figure size 432x288 with 1 Axes>"
      ]
     },
     "metadata": {
      "needs_background": "light"
     },
     "output_type": "display_data"
    },
    {
     "data": {
      "text/plain": [
       "array([0.18511605, 0.34726751, 0.11430622, 0.04913579])"
      ]
     },
     "execution_count": 52,
     "metadata": {},
     "output_type": "execute_result"
    }
   ],
   "source": [
    "Gauss_Seidel(a,b)"
   ]
  },
  {
   "cell_type": "markdown",
   "metadata": {},
   "source": [
    "# Задание II"
   ]
  },
  {
   "cell_type": "markdown",
   "metadata": {},
   "source": [
    "Сформулируйте задачу, математическую модель которой можно представить в виде системы линейных уравнений. Задайте численные значения параметров системы. Сравнить на примере полученной системы сходимость метода сопряженных градиентов и  переобусловленого метода сопряженных градиентов."
   ]
  },
  {
   "cell_type": "markdown",
   "metadata": {},
   "source": [
    "Ударимся немного в скандинавскую мифологию и придумаем условие для задачи.\n",
    "\n",
    "Шёл 2015 год. Команда из выдуманной мультивселенной Marvel «Мстители» после успешной атаки на последнюю базу «Гидры» в Заковии, решила это отметить. Была организована вечеринка…\n",
    "\n",
    "Участники решили, что смогут поднять молот одного из участника этой команды. Однако у них ничего не получалось. Оказалось, что они «недостойны». \n",
    "\n",
    "Всё потому, что этот легендарный молот имеет встроенный механизм, который считывает 20 характеристик персонажа и составляет из них систему уравнений. Составив уравнение, молот подбирает к ней решение и если не один из корней системы не больше 1, то молот решает, что персонаж достоин.\n",
    "\n",
    "Помогите определить по заданным характеристикам достоин ли персонаж.\n",
    "\n",
    "\n"
   ]
  },
  {
   "cell_type": "markdown",
   "metadata": {},
   "source": [
    "Пусть характеристики персонажа будут такими же, как в варианте 10."
   ]
  },
  {
   "cell_type": "markdown",
   "metadata": {},
   "source": [
    "# Метод сопряженного градиента"
   ]
  },
  {
   "cell_type": "code",
   "execution_count": 294,
   "metadata": {},
   "outputs": [],
   "source": [
    "\n",
    "def conjugate_gradient(a,b,err_max=10**-3):\n",
    "    err=999\n",
    "    error=[0]\n",
    "    x=np.zeros(len(b))\n",
    "    x=x.reshape(-1,1)\n",
    "    b=b.reshape(-1,1)\n",
    "    r=b-np.dot(a,x)\n",
    "    p=r\n",
    "    \n",
    "    rt=r.reshape(1,-1)\n",
    "    pt=r.reshape(1,-1)\n",
    "    alpha_numerator=np.dot(rt,r)\n",
    "    alpha_determinator=np.dot(np.dot(pt,a),p)\n",
    "    alpha=alpha_numerator[0][0]/alpha_determinator[0][0]\n",
    "    \n",
    "    while(err>err_max):\n",
    "        ram_x=x\n",
    "        x=x+np.dot(alpha,p)\n",
    "        err=abs(np.linalg.norm(x)-np.linalg.norm(ram_x))\n",
    "        error.append(err)\n",
    "        new_r=r-np.dot(np.dot(alpha,a),p)\n",
    "        new_rt=new_r.reshape(1,-1)\n",
    "        beta_numerator=np.dot(new_rt,new_r)\n",
    "        beta_determinator=np.dot(rt,r)\n",
    "        beta=beta_numerator[0][0]/beta_determinator[0][0]\n",
    "        \n",
    "        r=new_r\n",
    "        rt=new_rt\n",
    "        p=r+np.dot(beta,p)\n",
    "        \n",
    "        pt=p.reshape(1,-1)\n",
    "        alpha_numerator=np.dot(rt,r)\n",
    "        alpha_determinator=np.dot(np.dot(pt,a),p)\n",
    "        alpha=alpha_numerator[0][0]/alpha_determinator[0][0]\n",
    "        \n",
    "    plt.plot(range(0,len(error)),error)\n",
    "    plt.show()\n",
    "        \n",
    "    return x\n",
    "        \n",
    "    \n",
    "    \n",
    "    "
   ]
  },
  {
   "cell_type": "code",
   "execution_count": 295,
   "metadata": {},
   "outputs": [
    {
     "data": {
      "image/png": "[encoded data removed]",
      "text/plain": [
       "<Figure size 432x288 with 1 Axes>"
      ]
     },
     "metadata": {
      "needs_background": "light"
     },
     "output_type": "display_data"
    },
    {
     "data": {
      "text/plain": [
       "array([[0.18517529],\n",
       "       [0.3474509 ],\n",
       "       [0.11406049],\n",
       "       [0.04867943]])"
      ]
     },
     "execution_count": 295,
     "metadata": {},
     "output_type": "execute_result"
    }
   ],
   "source": [
    "conjugate_gradient(a,b)"
   ]
  },
  {
   "cell_type": "code",
   "execution_count": 298,
   "metadata": {},
   "outputs": [],
   "source": [
    "def preconditioned_conjugate(a,b,err_max=10**-3):\n",
    "    err=999\n",
    "    error=[0]\n",
    "    b=b.reshape(-1,1)\n",
    "    x=np.zeros(len(b))\n",
    "    x=x.reshape(-1,1)\n",
    "    \n",
    "    r=b-np.dot(a,x)\n",
    "    M=np.linalg.inv(a)\n",
    "    z=np.dot(M,r)\n",
    "    p=z\n",
    "    while(err>err_max):\n",
    "        ram_x=x\n",
    "        rt=r.reshape(1,-1)\n",
    "        pt=p.reshape(1,-1)\n",
    "        alpha=np.dot(rt,z)/np.dot(np.dot(pt,a),p)\n",
    "        x=x+np.dot(alpha[0][0],p)\n",
    "        err=abs(np.linalg.norm(x)-np.linalg.norm(ram_x))\n",
    "        error.append(err)\n",
    "        new_r=r-np.dot(np.dot(alpha[0][0],a),p)\n",
    "        new_z=np.dot(M,r)\n",
    "        new_rt=new_r.reshape(1,-1)\n",
    "        new_zt=new_z.reshape(1,-1)\n",
    "        beta=np.dot(new_rt,new_z)/np.dot(rt,z)\n",
    "        z=new_z\n",
    "        p=z+np.dot(beta[0][0],p)\n",
    "        r=new_r\n",
    "    plt.plot(range(0,len(error)),error)\n",
    "    plt.show()\n",
    "    print(x)\n",
    "        \n",
    "        \n",
    "        "
   ]
  },
  {
   "cell_type": "code",
   "execution_count": 299,
   "metadata": {},
   "outputs": [
    {
     "data": {
      "image/png": "[encoded data removed]",
      "text/plain": [
       "<Figure size 432x288 with 1 Axes>"
      ]
     },
     "metadata": {
      "needs_background": "light"
     },
     "output_type": "display_data"
    },
    {
     "name": "stdout",
     "output_type": "stream",
     "text": [
      "[[0.18519046]\n",
      " [0.34731112]\n",
      " [0.11429252]\n",
      " [0.04912745]]\n"
     ]
    }
   ],
   "source": [
    "preconditioned_conjugate(a,b)"
   ]
  },
  {
   "cell_type": "markdown",
   "metadata": {},
   "source": [
    "# Задание III"
   ]
  },
  {
   "cell_type": "code",
   "execution_count": 34,
   "metadata": {},
   "outputs": [],
   "source": [
    "def init_matrix(n):\n",
    "    A=np.array([[.0 for j in range(n)] for i in range(n)])\n",
    "    for i in range(n):\n",
    "        for j in range(n):\n",
    "            A[i][j]=1/(i+1+j+1-1)\n",
    "    return A"
   ]
  },
  {
   "cell_type": "code",
   "execution_count": 35,
   "metadata": {},
   "outputs": [],
   "source": [
    "def round(a,n):\n",
    "    for i in range(n):\n",
    "        for j in range(n):\n",
    "            ram=float('{:.4f}'.format(a[i][j]))\n",
    "            a[i][j]=ram\n",
    "    return a"
   ]
  },
  {
   "cell_type": "code",
   "execution_count": 39,
   "metadata": {},
   "outputs": [
    {
     "name": "stdout",
     "output_type": "stream",
     "text": [
      "[[1.     0.5    0.3333]\n",
      " [0.5    0.3333 0.25  ]\n",
      " [0.3333 0.25   0.2   ]]\n",
      "[[   9.0617  -36.3232   30.3026]\n",
      " [ -36.3232  193.6753 -181.5616]\n",
      " [  30.3026 -181.5616  181.4526]]\n",
      "[[1.0001 0.5    0.3333]\n",
      " [0.5    0.3333 0.25  ]\n",
      " [0.3333 0.25   0.2   ]]\n",
      "9.999999999998899e-05\n",
      "530.6592501680501\n"
     ]
    }
   ],
   "source": [
    "n=3\n",
    "a=init_matrix(n)\n",
    "a=round(a,3)\n",
    "print(a)\n",
    "a_inv=np.linalg.inv(a)\n",
    "a_inv=round(a_inv,3)\n",
    "print(a_inv)\n",
    "a_inv_inv=np.linalg.inv(a_inv)\n",
    "a_inv_inv=round(a_inv_inv,3)\n",
    "print(a_inv_inv)\n",
    "print(np.linalg.norm(a-a_inv_inv,ord=np.inf))\n",
    "print(np.linalg.norm(np.linalg.inv(a))*np.linalg.norm(a))"
   ]
  },
  {
   "cell_type": "markdown",
   "metadata": {},
   "source": [
    "Как видим с учётом округледия до четвертого разряда, матрица приобретает дополнительную погрешность"
   ]
  },
  {
   "cell_type": "code",
   "execution_count": null,
   "metadata": {},
   "outputs": [],
   "source": []
  }
 ],
 "metadata": {
  "kernelspec": {
   "display_name": "Python 3",
   "language": "python",
   "name": "python3"
  },
  "language_info": {
   "codemirror_mode": {
    "name": "ipython",
    "version": 3
   },
   "file_extension": ".py",
   "mimetype": "text/x-python",
   "name": "python",
   "nbconvert_exporter": "python",
   "pygments_lexer": "ipython3",
   "version": "3.8.2"
  }
 },
 "nbformat": 4,
 "nbformat_minor": 4
}
