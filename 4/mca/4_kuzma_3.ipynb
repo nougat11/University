{
 "cells": [
  {
   "cell_type": "markdown",
   "metadata": {},
   "source": [
    "# Лабораторная работа 3"
   ]
  },
  {
   "cell_type": "markdown",
   "metadata": {},
   "source": [
    "# Task I"
   ]
  },
  {
   "cell_type": "markdown",
   "metadata": {},
   "source": [
    "## Task 1.1"
   ]
  },
  {
   "cell_type": "markdown",
   "metadata": {},
   "source": [
    "задайте матрицу   и, используя теорему Гершгорина, определите расположение собственных чисел матрицы   (графически);"
   ]
  },
  {
   "cell_type": "markdown",
   "metadata": {},
   "source": [
    "Зададим матрицу"
   ]
  },
  {
   "cell_type": "code",
   "execution_count": 2,
   "metadata": {},
   "outputs": [],
   "source": [
    "import numpy as np\n",
    "import string\n",
    "import random\n",
    "import matplotlib.pyplot as plt\n",
    "\n",
    "A=np.array([[42,-14,59,-45],[-14,67,86,59],[59,86,67,-14],[-45,59,-14,42]])"
   ]
  },
  {
   "cell_type": "code",
   "execution_count": 3,
   "metadata": {},
   "outputs": [],
   "source": [
    "def Circles_Gershgorin(A):\n",
    "    n=len(A)\n",
    "    \n",
    "    radiuses=[]\n",
    "    center=[]\n",
    "    circles=[]\n",
    "    \n",
    "    for i in range(n):\n",
    "        sum=0\n",
    "        for j in range(n):\n",
    "            if (i==j): center.append(A[i][j])\n",
    "            else: sum+=abs(A[i][j])\n",
    "        radiuses.append(sum)\n",
    "        circles.append(plt.Circle((center[i],0),radiuses[i],color='r',fill=False))\n",
    "    fig, ax=plt.subplots()\n",
    "    plt.xlim(-250,250)\n",
    "    plt.ylim(-250,250)\n",
    "    ax.set_aspect(1)\n",
    "    for i in range(n):\n",
    "        ax.add_artist(circles[i])\n",
    "    plt.show()\n",
    "    print(radiuses)\n",
    "    print(center)"
   ]
  },
  {
   "cell_type": "code",
   "execution_count": 4,
   "metadata": {},
   "outputs": [
    {
     "data": {
      "image/png": "[encoded data removed]",
      "text/plain": [
       "<Figure size 432x288 with 1 Axes>"
      ]
     },
     "metadata": {
      "needs_background": "light"
     },
     "output_type": "display_data"
    },
    {
     "name": "stdout",
     "output_type": "stream",
     "text": [
      "[118, 159, 159, 118]\n",
      "[42, 67, 67, 42]\n"
     ]
    }
   ],
   "source": [
    "Circles_Gershgorin(A)"
   ]
  },
  {
   "cell_type": "markdown",
   "metadata": {},
   "source": [
    "# Задание IB"
   ]
  },
  {
   "cell_type": "markdown",
   "metadata": {},
   "source": [
    "напишите функцию, позволяющую определить манимальное и максимальное собтсвенное значение персимметрической матрицы, и исследуйте сходимость предложенного решения;"
   ]
  },
  {
   "cell_type": "code",
   "execution_count": 5,
   "metadata": {},
   "outputs": [],
   "source": [
    "import numpy\n",
    "def find_max(A):\n",
    "    x = np.ones(len(A))\n",
    "    x_norm=9999\n",
    "    err=999\n",
    "    while(err>10**-5):\n",
    "        old_norm=x_norm\n",
    "        x = np.dot(A, x)\n",
    "        x_norm= np.linalg.norm(x)\n",
    "        x /=  x_norm\n",
    "        err=abs(x_norm-old_norm)\n",
    "    return x_norm\n",
    "def find_min(A):\n",
    "    A=np.linalg.inv(A)\n",
    "    x = np.ones(len(A))\n",
    "    x_norm=9999\n",
    "    err=999\n",
    "    while(err>10**-5):\n",
    "        old_norm=x_norm\n",
    "        x = np.dot(A, x)\n",
    "        x_norm= np.linalg.norm(x)\n",
    "        x /=  x_norm\n",
    "        err=abs(x_norm-old_norm)\n",
    "    return 1/x_norm\n",
    "def find_min_max(A):\n",
    "    return find_max(A), find_min(A)"
   ]
  },
  {
   "cell_type": "code",
   "execution_count": 6,
   "metadata": {},
   "outputs": [
    {
     "data": {
      "text/plain": [
       "(165.04998611773695, 15.049998977708167)"
      ]
     },
     "execution_count": 6,
     "metadata": {},
     "output_type": "execute_result"
    }
   ],
   "source": [
    "find_min_max(A)"
   ]
  },
  {
   "cell_type": "markdown",
   "metadata": {},
   "source": [
    "# Задание IC"
   ]
  },
  {
   "cell_type": "markdown",
   "metadata": {},
   "source": [
    "Инициализируем матрицы"
   ]
  },
  {
   "cell_type": "code",
   "execution_count": 7,
   "metadata": {},
   "outputs": [],
   "source": [
    "A=np.array([[2,-1,0,0],[-1,2,-1,0],[0,-1,2,-1],[0,0,-1,2]])"
   ]
  },
  {
   "cell_type": "code",
   "execution_count": 8,
   "metadata": {},
   "outputs": [
    {
     "data": {
      "text/plain": [
       "0.38196601338865854"
      ]
     },
     "execution_count": 8,
     "metadata": {},
     "output_type": "execute_result"
    }
   ],
   "source": [
    "find_min(A)"
   ]
  },
  {
   "cell_type": "code",
   "execution_count": 9,
   "metadata": {},
   "outputs": [
    {
     "data": {
      "text/plain": [
       "0.38196684171824735"
      ]
     },
     "execution_count": 9,
     "metadata": {},
     "output_type": "execute_result"
    }
   ],
   "source": [
    "abs(find_max(A-4*np.eye(4))-4)"
   ]
  },
  {
   "cell_type": "markdown",
   "metadata": {},
   "source": [
    "# Задание IIA"
   ]
  },
  {
   "cell_type": "code",
   "execution_count": 10,
   "metadata": {},
   "outputs": [
    {
     "name": "stdout",
     "output_type": "stream",
     "text": [
      "[[ 2.11  -0.555  0.     0.   ]\n",
      " [-0.555  2.11  -0.555  0.   ]\n",
      " [ 0.    -0.555  2.11  -0.555]\n",
      " [ 0.     0.    -0.555  2.11 ]]\n"
     ]
    }
   ],
   "source": [
    "m=5\n",
    "alpha=0.555\n",
    "def build(m,alpha):\n",
    "    aa=np.eye(m-1)\n",
    "    for i in range(m-1):\n",
    "        for j in range(m-1):\n",
    "            if (i==j): aa[i][j]=1+2*alpha\n",
    "            elif (i==j-1 or j==i-1): aa[i][j]=-alpha\n",
    "            else: aa[i][j]=0\n",
    "    return aa\n",
    "A=build(m,alpha)\n",
    "print(A)\n",
    "        "
   ]
  },
  {
   "cell_type": "code",
   "execution_count": 11,
   "metadata": {},
   "outputs": [],
   "source": [
    "def QR_decomposition(A):\n",
    "    \n",
    "    n=len(A)\n",
    "    hh=[]\n",
    "    ramm=A\n",
    "    for i in range(n-1):\n",
    "        q=[]\n",
    "        for j in range(n):\n",
    "            q.append(A[j][0])\n",
    "        q=np.array(q)\n",
    "        q=q.reshape(-1,1)\n",
    "        norm=np.linalg.norm(q)\n",
    "        e=[]\n",
    "        for j in range(n):\n",
    "            if (j==0):\n",
    "                e.append(1)\n",
    "            else:\n",
    "                e.append(0)\n",
    "        e=np.array(e)\n",
    "      \n",
    "        e=e.reshape(-1,1)\n",
    "       \n",
    "        k=np.sign(q[0])*norm\n",
    "      \n",
    "        v=q+np.dot(k[0],e)\n",
    "        vt=v.reshape(1,-1)\n",
    "       \n",
    "        h=np.eye(n)-2*(np.dot(v,vt)/np.dot(vt,v))\n",
    "        hh.append(h)\n",
    "        A=h.dot(A)\n",
    "        for i1 in range(n):\n",
    "            for j1 in range(n):\n",
    "                ram=float('{:.4f}'.format(A[i1][j1]))\n",
    "                A[i1][j1]=ram\n",
    "        A=np.delete(A,0,0)\n",
    "        A=np.delete(A,0,1)\n",
    "        n-=1\n",
    "    q=hh[0]\n",
    "    \n",
    "    for i in range(1,len(hh)):\n",
    "        ram2=np.eye(len(ramm))\n",
    "        for j in range(i):\n",
    "            ram2[j][j]=1\n",
    "            for k in range(j+1,n):\n",
    "                ram2[j][k]=0\n",
    "                ram2[k][j]=0\n",
    "        for i1 in range(len(hh[i])):\n",
    "            for j1 in range(len(hh[i])):\n",
    "                ram2[i+i1][i+j1]=hh[i][i1][j1]\n",
    "        hh[i]=ram2\n",
    "    q=hh[0]\n",
    "    r=hh[len(hh)-1]\n",
    "    \n",
    "    for i in range(len(hh)-2,-1,-1):\n",
    "        \n",
    "        r=r.dot(hh[i])\n",
    "    r=r.dot(ramm)\n",
    "    \n",
    "    for i1 in range(n):\n",
    "            for j1 in range(n):\n",
    "                ram=float('{:.4f}'.format(r[i1][j1]))\n",
    "                r[i1][j1]=ram\n",
    "    \n",
    "    for i in range(1,len(hh)):\n",
    "        q=q.dot(hh[i])\n",
    "    for i1 in range(n):\n",
    "            for j1 in range(n):\n",
    "                ram=float('{:.4f}'.format(q[i1][j1]))\n",
    "                q[i1][j1]=ram\n",
    "    gg=np.dot(r,q)\n",
    "    \n",
    "    return q,r\n",
    "    \n",
    "    \n",
    "   \n",
    "    \n",
    "            \n",
    "                            \n",
    "            \n",
    "        \n",
    "   \n",
    "        \n",
    "        \n",
    "        \n",
    "        "
   ]
  },
  {
   "cell_type": "code",
   "execution_count": 12,
   "metadata": {},
   "outputs": [],
   "source": [
    "def QR_factorization(A):\n",
    "    err=99999\n",
    "    x=0\n",
    "    x_norm=0\n",
    "    while(err>10**-6):\n",
    "        \n",
    "        old_norm=x_norm\n",
    "        q,r=QR_decomposition(A)\n",
    "        A=np.dot(r,q)\n",
    "        x=np.diag(A)\n",
    "        x_norm=np.linalg.norm(x)\n",
    "        err=abs(x_norm-old_norm)\n",
    "    return x\n",
    "        "
   ]
  },
  {
   "cell_type": "code",
   "execution_count": 13,
   "metadata": {},
   "outputs": [
    {
     "data": {
      "text/plain": [
       "array([3.00870103, 2.45302989, 1.76699909, 1.21199327])"
      ]
     },
     "execution_count": 13,
     "metadata": {},
     "output_type": "execute_result"
    }
   ],
   "source": [
    "QR_factorization(A)"
   ]
  },
  {
   "cell_type": "code",
   "execution_count": 14,
   "metadata": {},
   "outputs": [],
   "source": [
    "import math\n",
    "def tochno(n):\n",
    "    a=[]\n",
    "    for i in range(n-1):\n",
    "        g=1+4*alpha*(math.sin((math.pi*(i+1)/(2*n))))**2\n",
    "        a.append(g)\n",
    "    return a"
   ]
  },
  {
   "cell_type": "code",
   "execution_count": 15,
   "metadata": {},
   "outputs": [
    {
     "data": {
      "text/plain": [
       "[1.2119911362438083,\n",
       " 1.7669911362438084,\n",
       " 2.4530088637561915,\n",
       " 3.0080088637561917]"
      ]
     },
     "execution_count": 15,
     "metadata": {},
     "output_type": "execute_result"
    }
   ],
   "source": [
    "tochno(m)"
   ]
  },
  {
   "cell_type": "markdown",
   "metadata": {},
   "source": [
    "# Задание IIB"
   ]
  },
  {
   "cell_type": "code",
   "execution_count": 123,
   "metadata": {},
   "outputs": [
    {
     "name": "stdout",
     "output_type": "stream",
     "text": [
      "False\n",
      "False\n",
      "False\n",
      "False\n",
      "False\n",
      "False\n",
      "False\n",
      "False\n",
      "False\n",
      "False\n",
      "False\n",
      "False\n",
      "False\n",
      "False\n",
      "False\n",
      "False\n",
      "False\n",
      "False\n",
      "False\n",
      "False\n",
      "False\n",
      "False\n",
      "False\n",
      "False\n",
      "False\n",
      "False\n",
      "False\n",
      "False\n",
      "False\n",
      "False\n",
      "False\n",
      "False\n",
      "False\n",
      "False\n",
      "False\n",
      "False\n",
      "False\n",
      "False\n",
      "False\n",
      "False\n",
      "False\n",
      "False\n",
      "False\n",
      "False\n",
      "False\n",
      "False\n",
      "False\n",
      "False\n",
      "False\n",
      "False\n",
      "False\n",
      "False\n",
      "False\n",
      "False\n",
      "False\n",
      "False\n",
      "False\n",
      "False\n",
      "False\n",
      "False\n",
      "False\n",
      "False\n",
      "False\n",
      "False\n",
      "False\n",
      "False\n",
      "False\n",
      "False\n",
      "False\n",
      "False\n",
      "False\n",
      "False\n",
      "False\n",
      "False\n",
      "False\n",
      "False\n",
      "False\n",
      "False\n",
      "False\n",
      "False\n",
      "False\n",
      "False\n",
      "False\n",
      "False\n",
      "False\n",
      "False\n",
      "False\n",
      "False\n",
      "False\n",
      "False\n",
      "False\n",
      "False\n",
      "False\n",
      "False\n",
      "False\n",
      "False\n",
      "False\n",
      "False\n"
     ]
    }
   ],
   "source": [
    "alpha=0.0001\n",
    "flag=False\n",
    "for m in range(2,100):\n",
    "    while (alpha<1):\n",
    "        A=build(m,alpha)\n",
    "        A=np.linalg.inv(A)\n",
    "        c=abs(find_max(A))\n",
    "        if c>=1:\n",
    "            flag=True\n",
    "        alpha+=0.0001\n",
    "    print(flag)\n",
    "    \n",
    "\n",
    "    "
   ]
  },
  {
   "cell_type": "markdown",
   "metadata": {},
   "source": [
    "Значит промежуток (0,1) удовлетворяет условию для любого m"
   ]
  },
  {
   "cell_type": "markdown",
   "metadata": {},
   "source": [
    "# Задание III"
   ]
  },
  {
   "cell_type": "markdown",
   "metadata": {},
   "source": [
    "Можно было бы составить красивую легенду и т.д и т.п, но ожно просто найти определитель матрицы, перемножив все собственные"
   ]
  },
  {
   "cell_type": "code",
   "execution_count": 124,
   "metadata": {},
   "outputs": [
    {
     "name": "stdout",
     "output_type": "stream",
     "text": [
      "23.999540335737876 23.999999999999993\n"
     ]
    }
   ],
   "source": [
    "A=[[1,2,3],[4,5,10],[7,8,9]]\n",
    "eigen_values=QR_factorization(A)\n",
    "print(np.prod(eigen_values),np.linalg.det(A))"
   ]
  },
  {
   "cell_type": "markdown",
   "metadata": {},
   "source": [
    "# Задание IV"
   ]
  },
  {
   "cell_type": "code",
   "execution_count": 125,
   "metadata": {},
   "outputs": [
    {
     "name": "stdout",
     "output_type": "stream",
     "text": [
      "[[ -5.49760202 -11.84195885  -2.64595013 ... -11.08465864  -6.24854663\n",
      "   -5.6488809 ]\n",
      " [  3.60502056   0.42708926  -2.51439326 ...  -2.37248857  -4.32150509\n",
      "   -1.96606682]\n",
      " [  5.57963827   7.07368314   6.86753224 ... -15.74046673 -16.30260187\n",
      "  -17.66084958]\n",
      " ...\n",
      " [  0.77024715  -2.99096433  -6.49331234 ...   4.15045258   0.14813963\n",
      "   -0.76023859]\n",
      " [ -1.17165689  -0.54799331   1.6971336  ...   1.33653607  -3.77339849\n",
      "   -0.28678057]\n",
      " [ -1.72205612  -0.26981431  -0.9146237  ...  -0.48359368  -2.26559788\n",
      "    0.33338228]]\n",
      "(7, 642)\n"
     ]
    }
   ],
   "source": [
    "import pandas as pd\n",
    "import numpy as np\n",
    "from sklearn.preprocessing import StandardScaler\n",
    "from sklearn.decomposition import PCA\n",
    "data=pd.read_excel(\"forPCAanalysis.xls\")\n",
    "tests=data.drop(['LP'],axis=1)\n",
    "tests=tests.values.tolist()\n",
    "tests=np.array(tests)\n",
    "for people in tests:\n",
    "    if (people[0]=='французы'):\n",
    "        people[0]=0\n",
    "    else:\n",
    "        people[0]='1'\n",
    "    if (people[1]=='женщина'):\n",
    "        people[1]=0\n",
    "    else:\n",
    "        people[1]=1\n",
    "tests=np.array(tests).astype(np.float)\n",
    "\n",
    "\n",
    "\n",
    "\n",
    "means=[]\n",
    "for j in range(10):\n",
    "    zz=[]\n",
    "    for i in range(len(tests)):\n",
    "        zz.append(tests[i][j])\n",
    "    zz=np.array(zz)\n",
    "    means.append(zz.mean())\n",
    "    for i in range(len(tests)):\n",
    "        tests[i][j]-=means[-1]\n",
    "\n",
    "tests=tests.transpose()\n",
    "tests=np.array(tests)\n",
    "cov=np.cov(tests)\n",
    "eig_vals,eig_vecs=np.linalg.eig(cov)\n",
    "eig_pairs=[(np.abs(eig_vals[i]),eig_vecs[:,i])for i in range(len(eig_vals))]\n",
    "eig_pairs.sort(key=lambda x:x[0],reverse=True)\n",
    "\n",
    "matrix=[]\n",
    "for pair in eig_pairs:\n",
    "    if (pair[0]>1):\n",
    "        matrix.append(pair[1])\n",
    "    \n",
    "    \n",
    "\n",
    "\n",
    "matrix=np.array(matrix)\n",
    "c=np.dot(matrix,tests)\n",
    "print(np.dot(matrix,tests))\n",
    "print(c.shape)\n",
    "\n",
    "\n",
    "\n",
    "\n",
    "\n",
    "\n",
    "\n",
    "\n"
   ]
  },
  {
   "cell_type": "code",
   "execution_count": null,
   "metadata": {},
   "outputs": [],
   "source": []
  }
 ],
 "metadata": {
  "kernelspec": {
   "display_name": "Python 3",
   "language": "python",
   "name": "python3"
  },
  "language_info": {
   "codemirror_mode": {
    "name": "ipython",
    "version": 3
   },
   "file_extension": ".py",
   "mimetype": "text/x-python",
   "name": "python",
   "nbconvert_exporter": "python",
   "pygments_lexer": "ipython3",
   "version": "3.8.2"
  }
 },
 "nbformat": 4,
 "nbformat_minor": 4
}
