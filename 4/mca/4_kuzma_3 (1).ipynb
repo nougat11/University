{
 "cells": [
  {
   "cell_type": "markdown",
   "metadata": {},
   "source": [
    "# Лабораторная работа 3"
   ]
  },
  {
   "cell_type": "markdown",
   "metadata": {},
   "source": [
    "# Task I"
   ]
  },
  {
   "cell_type": "markdown",
   "metadata": {},
   "source": [
    "## Task 1.1"
   ]
  },
  {
   "cell_type": "markdown",
   "metadata": {},
   "source": [
    "задайте матрицу   и, используя теорему Гершгорина, определите расположение собственных чисел матрицы   (графически);"
   ]
  },
  {
   "cell_type": "markdown",
   "metadata": {},
   "source": [
    "Зададим матрицу"
   ]
  },
  {
   "cell_type": "code",
   "execution_count": 3,
   "metadata": {},
   "outputs": [],
   "source": [
    "import numpy as np\n",
    "import string\n",
    "import random\n",
    "import matplotlib.pyplot as plt\n",
    "\n",
    "A=np.array([[42,-14,59,-45],[-14,67,86,59],[59,86,67,-14],[-45,59,-14,42]])"
   ]
  },
  {
   "cell_type": "code",
   "execution_count": 4,
   "metadata": {},
   "outputs": [],
   "source": [
    "def Circles_Gershgorin(A):\n",
    "    n=len(A)\n",
    "    \n",
    "    radiuses=[]\n",
    "    center=[]\n",
    "    circles=[]\n",
    "    \n",
    "    for i in range(n):\n",
    "        sum=0\n",
    "        for j in range(n):\n",
    "            if (i==j): center.append(A[i][j])\n",
    "            else: sum+=abs(A[i][j])\n",
    "        radiuses.append(sum)\n",
    "        circles.append(plt.Circle((center[i],0),radiuses[i],color='r',fill=False))\n",
    "    fig, ax=plt.subplots()\n",
    "    plt.xlim(-250,250)\n",
    "    plt.ylim(-250,250)\n",
    "    ax.set_aspect(1)\n",
    "    for i in range(n):\n",
    "        ax.add_artist(circles[i])\n",
    "    plt.show()\n",
    "    print(radiuses)\n",
    "    print(center)"
   ]
  },
  {
   "cell_type": "code",
   "execution_count": 5,
   "metadata": {},
   "outputs": [
    {
     "data": {
      "image/png": "[encoded data removed]",
      "text/plain": [
       "<Figure size 432x288 with 1 Axes>"
      ]
     },
     "metadata": {
      "needs_background": "light"
     },
     "output_type": "display_data"
    },
    {
     "name": "stdout",
     "output_type": "stream",
     "text": [
      "[118, 159, 159, 118]\n",
      "[42, 67, 67, 42]\n"
     ]
    }
   ],
   "source": [
    "Circles_Gershgorin(A)"
   ]
  },
  {
   "cell_type": "markdown",
   "metadata": {},
   "source": [
    "# Задание IB"
   ]
  },
  {
   "cell_type": "markdown",
   "metadata": {},
   "source": [
    "напишите функцию, позволяющую определить манимальное и максимальное собтсвенное значение персимметрической матрицы, и исследуйте сходимость предложенного решения;"
   ]
  },
  {
   "cell_type": "code",
   "execution_count": 10,
   "metadata": {},
   "outputs": [],
   "source": [
    "import numpy\n",
    "def find_max(A):\n",
    "    x = np.ones(len(A))\n",
    "    x_norm=9999\n",
    "    err=999\n",
    "    while(err>10**-5):\n",
    "        old_norm=x_norm\n",
    "        x = np.dot(A, x)\n",
    "        x_norm= np.linalg.norm(x)\n",
    "        x /=  x_norm\n",
    "        err=abs(x_norm-old_norm)\n",
    "    return x_norm\n",
    "def find_min(A):\n",
    "    \n",
    "    A=np.linalg.inv(A)\n",
    "    x = np.ones(len(A))\n",
    "    x_norm=9999\n",
    "    err=999\n",
    "    while(err>10**-5):\n",
    "        old_norm=x_norm\n",
    "        x = np.dot(A, x)\n",
    "        print(x)\n",
    "        x_norm= np.linalg.norm(x)\n",
    "        x /=  x_norm\n",
    "        err=abs(x_norm-old_norm)\n",
    "    return 1/x_norm\n",
    "def find_min_max(A):\n",
    "    return find_max(A), find_min(A)"
   ]
  },
  {
   "cell_type": "code",
   "execution_count": 11,
   "metadata": {},
   "outputs": [
    {
     "name": "stdout",
     "output_type": "stream",
     "text": [
      "[-0.04347826  0.01932367  0.01932367 -0.04347826]\n",
      "[ 0.04500245 -0.011359   -0.011359    0.04500245]\n",
      "[-0.04536424  0.01221136  0.01221136 -0.04536424]\n",
      "[ 0.04538631 -0.01214761 -0.01214761  0.04538631]\n"
     ]
    },
    {
     "data": {
      "text/plain": [
       "(165.04998611773695, 15.049998977708167)"
      ]
     },
     "execution_count": 11,
     "metadata": {},
     "output_type": "execute_result"
    }
   ],
   "source": [
    "find_min_max(A)"
   ]
  },
  {
   "cell_type": "markdown",
   "metadata": {},
   "source": [
    "# Задание IC"
   ]
  },
  {
   "cell_type": "markdown",
   "metadata": {},
   "source": [
    "Инициализируем матрицы"
   ]
  },
  {
   "cell_type": "code",
   "execution_count": 7,
   "metadata": {},
   "outputs": [],
   "source": [
    "A=np.array([[2,-1,0,0],[-1,2,-1,0],[0,-1,2,-1],[0,0,-1,2]])"
   ]
  },
  {
   "cell_type": "code",
   "execution_count": 8,
   "metadata": {},
   "outputs": [
    {
     "data": {
      "text/plain": [
       "0.38196601338865854"
      ]
     },
     "execution_count": 8,
     "metadata": {},
     "output_type": "execute_result"
    }
   ],
   "source": [
    "find_min(A)"
   ]
  },
  {
   "cell_type": "code",
   "execution_count": 9,
   "metadata": {},
   "outputs": [
    {
     "data": {
      "text/plain": [
       "0.38196684171824735"
      ]
     },
     "execution_count": 9,
     "metadata": {},
     "output_type": "execute_result"
    }
   ],
   "source": [
    "abs(find_max(A-4*np.eye(4))-4)"
   ]
  },
  {
   "cell_type": "markdown",
   "metadata": {},
   "source": [
    "# Задание IIA"
   ]
  },
  {
   "cell_type": "code",
   "execution_count": 25,
   "metadata": {},
   "outputs": [
    {
     "name": "stdout",
     "output_type": "stream",
     "text": [
      "[[ 2.11  -0.555  0.     0.   ]\n",
      " [-0.555  2.11  -0.555  0.   ]\n",
      " [ 0.    -0.555  2.11  -0.555]\n",
      " [ 0.     0.    -0.555  2.11 ]]\n"
     ]
    }
   ],
   "source": [
    "m=5\n",
    "alpha=0.555\n",
    "def build(m,alpha):\n",
    "    aa=np.eye(m-1)\n",
    "    for i in range(m-1):\n",
    "        for j in range(m-1):\n",
    "            if (i==j): aa[i][j]=1+2*alpha\n",
    "            elif (i==j-1 or j==i-1): aa[i][j]=-alpha\n",
    "            else: aa[i][j]=0\n",
    "    return aa\n",
    "A=build(m,alpha)\n",
    "print(A)\n",
    "        "
   ]
  },
  {
   "cell_type": "code",
   "execution_count": 26,
   "metadata": {},
   "outputs": [],
   "source": [
    "def QR_decomposition(A):\n",
    "    \n",
    "    n=len(A)\n",
    "    hh=[]\n",
    "    ramm=A\n",
    "    for i in range(n-1):\n",
    "        q=[]\n",
    "        for j in range(n):\n",
    "            q.append(A[j][0])\n",
    "        q=np.array(q)\n",
    "        q=q.reshape(-1,1)\n",
    "        norm=np.linalg.norm(q)\n",
    "        e=[]\n",
    "        for j in range(n):\n",
    "            if (j==0):\n",
    "                e.append(1)\n",
    "            else:\n",
    "                e.append(0)\n",
    "        e=np.array(e)\n",
    "      \n",
    "        e=e.reshape(-1,1)\n",
    "       \n",
    "        k=np.sign(q[0])*norm\n",
    "      \n",
    "        v=q+np.dot(k[0],e)\n",
    "        vt=v.reshape(1,-1)\n",
    "       \n",
    "        h=np.eye(n)-2*(np.dot(v,vt)/np.dot(vt,v))\n",
    "        hh.append(h)\n",
    "        A=h.dot(A)\n",
    "        for i1 in range(n):\n",
    "            for j1 in range(n):\n",
    "                ram=float('{:.4f}'.format(A[i1][j1]))\n",
    "                A[i1][j1]=ram\n",
    "        A=np.delete(A,0,0)\n",
    "        A=np.delete(A,0,1)\n",
    "        n-=1\n",
    "    q=hh[0]\n",
    "    \n",
    "    for i in range(1,len(hh)):\n",
    "        ram2=np.eye(len(ramm))\n",
    "        for j in range(i):\n",
    "            ram2[j][j]=1\n",
    "            for k in range(j+1,n):\n",
    "                ram2[j][k]=0\n",
    "                ram2[k][j]=0\n",
    "        for i1 in range(len(hh[i])):\n",
    "            for j1 in range(len(hh[i])):\n",
    "                ram2[i+i1][i+j1]=hh[i][i1][j1]\n",
    "        hh[i]=ram2\n",
    "    q=hh[0]\n",
    "    r=hh[len(hh)-1]\n",
    "    \n",
    "    for i in range(len(hh)-2,-1,-1):\n",
    "        \n",
    "        r=r.dot(hh[i])\n",
    "    r=r.dot(ramm)\n",
    "    \n",
    "    for i1 in range(n):\n",
    "            for j1 in range(n):\n",
    "                ram=float('{:.4f}'.format(r[i1][j1]))\n",
    "                r[i1][j1]=ram\n",
    "    \n",
    "    for i in range(1,len(hh)):\n",
    "        q=q.dot(hh[i])\n",
    "    for i1 in range(n):\n",
    "            for j1 in range(n):\n",
    "                ram=float('{:.4f}'.format(q[i1][j1]))\n",
    "                q[i1][j1]=ram\n",
    "    gg=np.dot(r,q)\n",
    "    \n",
    "    return q,r\n",
    "    \n",
    "    \n",
    "   \n",
    "    \n",
    "            \n",
    "                            \n",
    "            \n",
    "        \n",
    "   \n",
    "        \n",
    "        \n",
    "        \n",
    "        "
   ]
  },
  {
   "cell_type": "code",
   "execution_count": 27,
   "metadata": {},
   "outputs": [],
   "source": [
    "def QR_factorization(A):\n",
    "    err=99999\n",
    "    x=0\n",
    "    x_norm=0\n",
    "    while(err>10**-6):\n",
    "        \n",
    "        old_norm=x_norm\n",
    "        q,r=QR_decomposition(A)\n",
    "        A=np.dot(r,q)\n",
    "        x=np.diag(A)\n",
    "        x_norm=np.linalg.norm(x)\n",
    "        err=abs(x_norm-old_norm)\n",
    "    return x\n",
    "        "
   ]
  },
  {
   "cell_type": "code",
   "execution_count": 28,
   "metadata": {},
   "outputs": [
    {
     "data": {
      "text/plain": [
       "array([3.00870103, 2.45302989, 1.76699909, 1.21199327])"
      ]
     },
     "execution_count": 28,
     "metadata": {},
     "output_type": "execute_result"
    }
   ],
   "source": [
    "QR_factorization(A)"
   ]
  },
  {
   "cell_type": "code",
   "execution_count": 29,
   "metadata": {},
   "outputs": [],
   "source": [
    "import math\n",
    "def tochno(n):\n",
    "    a=[]\n",
    "    for i in range(n-1):\n",
    "        g=1+4*alpha*(math.sin((math.pi*(i+1)/(2*n))))**2\n",
    "        a.append(g)\n",
    "    return a"
   ]
  },
  {
   "cell_type": "code",
   "execution_count": 30,
   "metadata": {},
   "outputs": [
    {
     "data": {
      "text/plain": [
       "[1.2119911362438083,\n",
       " 1.7669911362438084,\n",
       " 2.4530088637561915,\n",
       " 3.0080088637561917]"
      ]
     },
     "execution_count": 30,
     "metadata": {},
     "output_type": "execute_result"
    }
   ],
   "source": [
    "tochno(m)"
   ]
  },
  {
   "cell_type": "markdown",
   "metadata": {},
   "source": [
    "# Задание IIB"
   ]
  },
  {
   "cell_type": "code",
   "execution_count": 19,
   "metadata": {},
   "outputs": [
    {
     "name": "stdout",
     "output_type": "stream",
     "text": [
      "False\n",
      "False\n",
      "False\n",
      "False\n",
      "False\n",
      "False\n",
      "False\n",
      "False\n",
      "False\n",
      "False\n",
      "False\n",
      "False\n",
      "False\n",
      "False\n",
      "False\n",
      "False\n",
      "False\n",
      "False\n",
      "False\n",
      "False\n",
      "False\n",
      "False\n",
      "False\n",
      "False\n",
      "False\n",
      "False\n",
      "False\n",
      "False\n",
      "False\n",
      "False\n",
      "False\n",
      "False\n",
      "False\n",
      "False\n",
      "False\n",
      "False\n",
      "False\n",
      "False\n",
      "False\n",
      "False\n",
      "False\n",
      "False\n",
      "False\n",
      "False\n",
      "False\n",
      "False\n",
      "False\n",
      "False\n",
      "False\n",
      "False\n",
      "False\n",
      "False\n",
      "False\n",
      "False\n",
      "False\n",
      "False\n",
      "False\n",
      "False\n",
      "False\n",
      "False\n",
      "False\n",
      "False\n",
      "False\n",
      "False\n",
      "False\n",
      "False\n",
      "False\n",
      "False\n",
      "False\n",
      "False\n",
      "False\n",
      "False\n",
      "False\n",
      "False\n",
      "False\n",
      "False\n",
      "False\n",
      "False\n",
      "False\n",
      "False\n",
      "False\n",
      "False\n",
      "False\n",
      "False\n",
      "False\n",
      "False\n",
      "False\n",
      "False\n",
      "False\n",
      "False\n",
      "False\n",
      "False\n",
      "False\n",
      "False\n",
      "False\n",
      "False\n",
      "False\n",
      "False\n"
     ]
    }
   ],
   "source": [
    "alpha=0.0001\n",
    "flag=False\n",
    "for m in range(2,100):\n",
    "    while (alpha<1):\n",
    "        A=build(m,alpha)\n",
    "        A=np.linalg.inv(A)\n",
    "        c=abs(find_max(A))\n",
    "        if c>=1:\n",
    "            flag=True\n",
    "        alpha+=0.0001\n",
    "    print(flag)\n",
    "    \n",
    "\n",
    "    "
   ]
  },
  {
   "cell_type": "markdown",
   "metadata": {},
   "source": [
    "Значит промежуток (0,1) удовлетворяет условию для любого m"
   ]
  },
  {
   "cell_type": "markdown",
   "metadata": {},
   "source": [
    "# Задание III"
   ]
  },
  {
   "cell_type": "markdown",
   "metadata": {},
   "source": [
    "Можно было бы составить красивую легенду и т.д и т.п, но ожно просто найти определитель матрицы, перемножив все собственные"
   ]
  },
  {
   "cell_type": "code",
   "execution_count": 32,
   "metadata": {},
   "outputs": [
    {
     "name": "stdout",
     "output_type": "stream",
     "text": [
      "23.999540335737876 23.999999999999993\n"
     ]
    }
   ],
   "source": [
    "A=[[1,2,3],[4,5,10],[7,8,9]]\n",
    "eigen_values=QR_factorization(A)\n",
    "print(np.prod(eigen_values),np.linalg.det(A))"
   ]
  },
  {
   "cell_type": "markdown",
   "metadata": {},
   "source": [
    "# Задание IV"
   ]
  },
  {
   "cell_type": "code",
   "execution_count": 14,
   "metadata": {},
   "outputs": [
    {
     "name": "stdout",
     "output_type": "stream",
     "text": [
      "      LP  National   gender  age      test1      test2      test3      test4  \\\n",
      "0      1  французы  женщина    6  77.140000  65.710000  82.860000  82.860000   \n",
      "1      2  французы  женщина    6  68.570000  62.860000  80.000000  91.430000   \n",
      "2      3  французы  мужчина    6  74.290000  62.860000  80.000000  85.710000   \n",
      "3      4  французы  женщина    6  71.430000  65.710000  82.860000  88.570000   \n",
      "4      5  французы  мужчина    6  74.290000  68.570000  85.710000  85.710000   \n",
      "..   ...       ...      ...  ...        ...        ...        ...        ...   \n",
      "637  638  французы  женщина   27  77.142857  60.000000  82.857143  82.857143   \n",
      "638  639  французы  мужчина   28  77.142857  60.000000  88.571429  88.571429   \n",
      "639  640  французы  женщина   28  77.142857  62.857143  88.571429  82.857143   \n",
      "640  641  французы  женщина   30  71.428571  62.857143  77.142857  88.571429   \n",
      "641  642  французы  мужчина   30  74.285714  65.714286  82.857143  82.857143   \n",
      "\n",
      "         test5      test6      test7  \n",
      "0    85.710000  20.000000  77.140000  \n",
      "1    88.570000  17.140000  74.290000  \n",
      "2    82.860000  22.860000  68.570000  \n",
      "3    91.430000  14.290000  77.140000  \n",
      "4    88.570000  17.140000  74.290000  \n",
      "..         ...        ...        ...  \n",
      "637  85.714286  20.000000  77.142857  \n",
      "638  91.428571  14.285714  71.428571  \n",
      "639  88.571429  17.142857  77.142857  \n",
      "640  85.714286  20.000000  77.142857  \n",
      "641  85.714286  20.000000  74.285714  \n",
      "\n",
      "[642 rows x 11 columns]\n",
      "[(1.145818594569652, array([-2.16285057e-02,  9.93513884e-01, -7.72671400e-02, -5.84258262e-04,\n",
      "        5.17942417e-03, -2.01911685e-02, -2.20018828e-02, -1.97358567e-02,\n",
      "        7.19659275e-02,  2.15111307e-03])), (0.5808634568554701, array([ 0.98917698,  0.01904872,  0.08391109, -0.01049382, -0.02817948,\n",
      "       -0.04547822, -0.02153814, -0.02731396,  0.09963153, -0.00401568])), (0.32887452141855217, array([ 1.09750005e-01,  8.37228657e-02,  1.70625049e-02, -2.22233917e-02,\n",
      "       -6.51619848e-04,  2.26789509e-01,  2.59006553e-01,  2.45449731e-01,\n",
      "       -8.95041484e-01,  1.72418475e-02])), (0.20629644837815597, array([-0.08696632,  0.07428663,  0.9932592 ,  0.00436731,  0.0017704 ,\n",
      "        0.00662443, -0.00352893, -0.00398879,  0.01453922, -0.00697687])), (0.008826477682183686, array([-0.02435299,  0.00574623, -0.00345901,  0.31457193, -0.85467767,\n",
      "       -0.13257546,  0.13793462,  0.0026141 , -0.00969464, -0.36500617])), (0.004155376515039574, array([ 0.02748284,  0.00138327, -0.00607302,  0.7892472 ,  0.24324629,\n",
      "        0.36866547, -0.3881828 ,  0.00979729, -0.03590983, -0.17070556])), (0.0019588888996572855, array([-0.00552178, -0.00080855,  0.00551432,  0.05033046, -0.39258695,\n",
      "        0.01675983, -0.46273473,  0.02966155, -0.10801317,  0.78506675])), (0.0008496542108928382, array([-0.00706576, -0.00189753,  0.0073771 ,  0.35091045,  0.23230435,\n",
      "       -0.87587038,  0.00951541,  0.05805227, -0.21137553,  0.0865993 ])), (0.000348005695293178, array([ 4.91144494e-03,  3.17577419e-04, -2.77929503e-04,  3.89664721e-01,\n",
      "        3.79873098e-02,  1.58512951e-01,  7.40289955e-01, -6.53276399e-02,\n",
      "        2.36297846e-01,  4.61989310e-01])), (2.2677855633249047e-09, array([ 4.45012818e-06, -1.05221471e-06,  5.26055340e-07, -2.18827129e-04,\n",
      "        9.18014498e-06, -1.65271699e-04, -3.80891564e-04, -9.64356038e-01,\n",
      "       -2.64607599e-01, -1.72799167e-04]))]\n",
      "[[-0.9422466  -0.95379815  1.18604585 -0.9631662   1.16575343  1.17698585\n",
      "  -0.9422466  -0.94183539  1.18915363  1.18750616  1.19959062 -0.9191674\n",
      "  -0.95330276 -0.93101127  1.16578553 -0.88843185  1.17680959  1.17514942\n",
      "  -0.85293001  1.16534304 -0.95330276 -0.99927226  1.19797442 -0.84321153\n",
      "   1.11978393  1.15416448  1.12027932  1.17514942 -0.95213536  1.13272437\n",
      "  -0.89755515  1.14254237  1.11978393  1.26627098  1.2641509  -0.90938573\n",
      "  -1.00024148 -0.98588845 -0.95213536 -0.94437585  1.11062178 -0.98783124\n",
      "   1.13225447  1.11978393  1.13135574 -1.00866854  1.28635972  1.25307397\n",
      "   1.13122495 -0.95371315  1.15588999 -0.9422466  -0.94390677 -0.9422466\n",
      "  -0.96511937 -0.8662916   1.13148539  1.29959892  1.16477761 -0.98783124\n",
      "   1.22137553  1.13099     1.12964708 -0.99927226  1.1978917   1.18620951\n",
      "  -0.9740268  -0.96470898 -0.97463545  1.1427765  -0.96446362 -0.98806619\n",
      "  -0.92006127  1.16626772 -0.97682848 -0.99927226  1.16429923 -0.86636289\n",
      "   1.15405971  1.17514942 -0.95537602  1.17615136 -0.99927226 -0.99927226\n",
      "   1.21966453 -0.98917498  1.33084967  1.1536954  -0.97651382 -0.98806619\n",
      "  -0.8757328  -0.90711403  1.2017864  -0.91473037  1.15939299 -0.96054996\n",
      "  -1.00542984 -0.86901811 -0.99435424 -0.9722224   1.18327254 -1.01482612\n",
      "   1.11362635 -0.97125884  1.20422134 -0.97131175 -0.98298607  1.10423007\n",
      "   1.2472768  -0.99422377  1.27062487  1.11546519  1.13638479  1.14670332\n",
      "  -0.95025123 -0.99556669  1.16063307 -0.95983863  1.16858166 -0.97127695\n",
      "   1.27307104 -0.99398882  1.14777194 -1.00542984 -1.00542984 -0.99422377\n",
      "   1.1138613   1.19116794  1.11362635  1.17021301 -0.99390382  1.14818963\n",
      "   1.16034508  1.23931586  1.13614984 -1.003591    1.11362635 -0.97158846\n",
      "   1.1253278  -1.00542984 -1.00519489  1.26941893 -0.89116818 -0.91460625\n",
      "  -0.99390382  1.11546519 -0.99398882  1.12667126 -0.98132598 -0.97182341\n",
      "  -0.99422377 -1.003591    1.11362635  1.12654108 -0.99398882 -0.95012104\n",
      "   1.10423007 -1.01482612  1.33560656  1.11546519  1.22535814  1.12483242\n",
      "   1.13630507  1.13661892 -0.97145996 -0.97162314  1.19303471 -0.9823732\n",
      "   1.16449442  1.20907398  1.16560572  1.16560572  1.16283425  1.20871498\n",
      "   1.15302787  1.18664989  1.15367321 -0.9547959  -0.95438551 -0.95598699\n",
      "   1.16467068 -0.95487562 -0.97668472 -0.9215289  -0.95622194 -0.9642164\n",
      "   1.25594251 -0.96561793  1.18646674  1.16283425 -0.93178074 -0.95449414\n",
      "   1.15339879  1.15343826  1.14237147  1.16449442  1.15483979 -0.96445053\n",
      "   1.14354174 -0.97548137  1.28749849  1.16581497  1.19928122 -0.95622194\n",
      "  -0.92051093  1.14316464  1.15294287 -0.9656574   1.23313235 -0.9446148\n",
      "   1.22245401 -0.95415056 -0.95663212  1.18649884  1.14337808  1.17860049\n",
      "   1.16913789  1.27241046  1.14690239  1.15833684  1.15944813  1.1361094\n",
      "   1.29322273  1.23451219  1.23372917 -0.9722709   1.3602551  -0.91594728\n",
      "   1.15858367  1.15667667 -0.99441944  1.13587446 -0.97177552  1.14146252\n",
      "  -0.95564161 -0.9779331   1.18405505 -0.98876494 -0.98899989 -0.97859125\n",
      "   1.13122657 -0.96670068 -0.9779331  -0.96900618  1.13125965 -0.98899989\n",
      "  -0.93294247 -0.98937412 -0.98903469 -0.99926579  1.12002453  1.16362564\n",
      "  -0.97824064 -0.96873385  1.1201641  -0.98820672  1.25354562 -0.97997156\n",
      "  -0.98937412  1.15051908  1.12927168  1.14112309 -0.97807471 -0.94608634\n",
      "   1.15253671  1.12944794  1.11847917  1.14115519  1.16341458  1.10796356\n",
      "  -1.00114416  1.09699244  1.12904288  1.11902251 -0.8887995  -1.01220114\n",
      "   1.09699244 -0.96683747  1.14098148 -1.01220114 -0.99892689 -0.98899989\n",
      "  -1.02206375 -0.95632851  1.09564898 -1.00035696  1.13980454 -0.95767986\n",
      "   1.12971687 -0.98779654  1.15235551 -1.00091003 -1.00114416 -1.02182963\n",
      "   1.26240853 -1.01269653  1.10866758 -0.93489449  1.09702982  1.16329025\n",
      "  -1.02182963  1.09699244  1.09699244 -1.02317226  1.09688796 -1.01051879\n",
      "  -1.02206375  1.10719448  1.10685505  1.19712319  1.13084947 -0.96646573\n",
      "   1.14112309 -1.02206375 -1.03329888  1.10819851  1.10635966  1.11791203\n",
      "   1.1349655   1.10020208 -1.02822134 -1.0300228   1.08899601 -1.00726436\n",
      "   1.07959973 -1.01719132  1.10227505  1.10191074 -1.02822134 -1.02822134\n",
      "  -1.02019703  1.10069747 -0.86177208 -1.02822134  1.10069747  1.23446385\n",
      "   1.08899601  1.10069747  1.13442384  1.08899601 -1.03006018 -1.02822134\n",
      "   1.13310682  1.17110057  1.22324127 -0.99606642 -0.99672338  1.10043703\n",
      "   1.10204092 -1.00730174  1.09083485 -1.01832662  1.11196727  1.23475682\n",
      "   1.08899601  1.14485389 -1.01861916  1.12399716 -1.03006018 -1.02822134\n",
      "   1.09083485 -0.95041607  1.12115355  1.12265034  1.33741154  1.07959973\n",
      "   1.21255717  1.14630241 -0.9160886  -1.02822134 -1.02019703  1.08949139\n",
      "   1.09106898 -1.00730174 -1.02822134  1.40353789  1.09106898  1.24783132\n",
      "   1.10069747 -1.02822134  1.10204092 -1.03006018 -0.98557719  1.38999726\n",
      "  -0.99749246 -1.02822134  1.11126344 -1.0295648  -1.03945646  1.21443079\n",
      "  -1.03006018  1.07959973  1.16965432  1.12452851 -1.00730174  1.15818543\n",
      "  -1.00730174 -0.98450107  1.07959973  1.14588599  1.14605905 -1.02463746\n",
      "  -0.8774088   1.14041715  1.1512389   1.08467727 -1.0233489  -0.94513534\n",
      "  -0.98126246 -0.97618472 -0.99687493 -0.99640586 -0.97370316  1.06728456\n",
      "  -0.9865771   1.20542556  1.12754891  1.11608236 -1.00297383  1.12547856\n",
      "   1.1939181  -1.00913141 -1.02016205 -0.99762748  1.22620822 -0.9670077\n",
      "  -1.04482163  1.09815658 -1.07316328 -1.07132443  1.04773176  1.06865136\n",
      "   1.05782932  1.23693085  1.09030373  1.03649663 -1.07316328  1.18063395\n",
      "   1.04589291  1.06865136  1.05778969 -1.07316328 -0.98450768  1.2255651\n",
      "   1.06963325 -1.07316328 -0.91490173  1.06857164  1.07965173 -0.96072394\n",
      "   1.06943855 -0.99477264 -0.93010418 -1.07316328 -1.07132443 -1.02956208\n",
      "  -0.92675918 -0.98382833 -1.08255956 -0.98573275 -1.06146182 -1.06163726\n",
      "  -1.07145461 -1.01651887 -1.01635769 -1.07132443 -1.03335137 -1.01272005\n",
      "  -1.02211843 -0.99155452  1.21048772 -1.05822352 -1.05656211 -1.0887215\n",
      "  -1.07933232 -1.07749502 -1.07749502 -1.04513965 -1.06761271 -1.06650326\n",
      "  -0.91048999 -1.05656211 -1.05656211  1.04156117  1.04132645  1.0305694\n",
      "  -1.0790976  -1.07749502 -1.07933232  1.07306393  1.07392182  1.04960619\n",
      "   1.08447761  1.03972387 -1.06945    -1.07726031 -1.00113087 -1.07746026\n",
      "  -1.06810584 -1.03468324 -1.05822352 -1.06660792 -1.07883918 -1.01493523\n",
      "  -1.07933232 -1.05656211  1.06388407 -1.0887215  -1.04557034 -0.99929623\n",
      "  -1.06761271 -1.04656636  1.07398677  1.05132449  1.03972387 -1.07726031\n",
      "   1.04960619  1.07350797 -1.07749502  1.1052327   1.05244827  1.03033469\n",
      "   1.04156117  1.08437295  1.07306393 -1.05656211 -1.06778858 -1.06778858\n",
      "  -1.02363133 -1.00096905 -1.02448526 -1.0677317  -1.07933232 -1.03551215\n",
      "  -1.01436113 -1.02079023 -0.98972045 -1.07722554 -1.06761271  1.06241154\n",
      "  -1.05504207  1.08894289 -1.04157449 -1.00789506 -1.00699495 -1.02841712\n",
      "  -1.04226753  1.03429414  1.18027328  1.04344861  1.0241771   1.10032894\n",
      "   1.07676327  1.0452859   1.03356629  1.04344861  1.14536163 -1.03939069\n",
      "  -1.0854899  -1.051752   -1.09487909 -1.06271969  1.03356629 -1.02785731\n",
      "   1.03356629  1.203312    1.03405942  1.0563365  -1.08365261  1.0241771\n",
      "  -1.07402871  1.05568924  1.03356629  1.06735038 -1.06271969 -1.07353558\n",
      "  -1.04080606 -1.07560758 -1.08545514 -1.09487909 -1.04081871 -1.07394617\n",
      "   1.12319151  1.03405942 -1.07377029 -1.06260433 -1.06271969 -1.03005839\n",
      "  -0.9180064  -0.99638223 -1.01655006 -1.06271969 -1.07377029 -1.01341263\n",
      "  -1.0460359  -1.04566007 -0.93395965 -1.04773208 -0.94449668  1.0274087\n",
      "   1.01801952 -1.09164749 -1.08176517  1.0274087   1.07120517 -1.04076706\n",
      "  -1.05181766  1.06687377 -0.95300186 -1.05231079  1.08765425 -1.04242847\n",
      "  -0.97500369 -0.95039169 -1.09780507 -1.07503486  1.01186193  1.07047013\n",
      "   1.04936134 -1.02545435  1.06276448 -0.9214881  -1.05304746 -1.0199515\n",
      "  -1.07025564 -1.07029041 -1.0817516  -1.07236242  1.08132144 -1.07029041\n",
      "   1.05815496  1.09440928  1.05939446 -0.88925062 -1.02228296 -1.06695415\n",
      "   1.03645061 -1.07202441  1.01825774 -1.08913899 -1.09028616  1.02896962]]\n",
      "(1, 642)\n"
     ]
    }
   ],
   "source": [
    "import pandas as pd\n",
    "import numpy as np\n",
    "from sklearn.preprocessing import StandardScaler\n",
    "from sklearn.decomposition import PCA\n",
    "data=pd.read_excel(\"forPCAanalysis.xls\")\n",
    "print(data)\n",
    "tests=data.drop(['LP'],axis=1)\n",
    "tests=tests.values.tolist()\n",
    "tests=np.array(tests)\n",
    "for people in tests:\n",
    "    if (people[0]=='французы'):\n",
    "        people[0]=0\n",
    "    else:\n",
    "        people[0]='1'\n",
    "    if (people[1]=='женщина'):\n",
    "        people[1]=0\n",
    "    else:\n",
    "        people[1]=1\n",
    "tests=np.array(tests).astype(np.float)\n",
    "\n",
    "\n",
    "\n",
    "\n",
    "means=[]\n",
    "for j in range(10):\n",
    "    zz=[]\n",
    "    for i in range(len(tests)):\n",
    "        zz.append(tests[i][j])\n",
    "    zz=np.array(zz)\n",
    "    means.append(zz.mean())\n",
    "    for i in range(len(tests)):\n",
    "        tests[i][j]-=means[-1]\n",
    "        tests[i][j]/=means[-1]\n",
    "\n",
    "tests=tests.transpose()\n",
    "tests=np.array(tests)\n",
    "cov=np.cov(tests)\n",
    "eig_vals,eig_vecs=np.linalg.eig(cov)\n",
    "eig_pairs=[(np.abs(eig_vals[i]),eig_vecs[:,i])for i in range(len(eig_vals))]\n",
    "eig_pairs.sort(key=lambda x:x[0],reverse=True)\n",
    "print(eig_pairs)\n",
    "\n",
    "matrix=[]\n",
    "for pair in eig_pairs:\n",
    "    if (pair[0]>1):\n",
    "        matrix.append(pair[1])\n",
    "    \n",
    "    \n",
    "\n",
    "\n",
    "matrix=np.array(matrix)\n",
    "c=np.dot(matrix,tests)\n",
    "print(np.dot(matrix,tests))\n",
    "print(c.shape)\n",
    "\n",
    "\n",
    "\n",
    "\n",
    "\n",
    "\n",
    "\n",
    "\n"
   ]
  },
  {
   "cell_type": "code",
   "execution_count": null,
   "metadata": {},
   "outputs": [],
   "source": []
  }
 ],
 "metadata": {
  "kernelspec": {
   "display_name": "Python 3",
   "language": "python",
   "name": "python3"
  },
  "language_info": {
   "codemirror_mode": {
    "name": "ipython",
    "version": 3
   },
   "file_extension": ".py",
   "mimetype": "text/x-python",
   "name": "python",
   "nbconvert_exporter": "python",
   "pygments_lexer": "ipython3",
   "version": "3.8.2"
  }
 },
 "nbformat": 4,
 "nbformat_minor": 4
}
