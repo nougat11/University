{
 "cells": [
  {
   "cell_type": "markdown",
   "metadata": {},
   "source": [
    "# Лабораторная работа 5"
   ]
  },
  {
   "cell_type": "markdown",
   "metadata": {},
   "source": [
    "# Задание 1"
   ]
  },
  {
   "cell_type": "markdown",
   "metadata": {},
   "source": [
    "1) левая производная"
   ]
  },
  {
   "cell_type": "code",
   "execution_count": 1,
   "metadata": {},
   "outputs": [],
   "source": [
    "def left_derivative(fun,x,h,n):\n",
    "    if n<2:\n",
    "        return(fun(x)-fun(x-h))/h\n",
    "    return(left_derivative(fun,x,h,n-1)-left_derivative(fun,x-h,h,n-1))/h"
   ]
  },
  {
   "cell_type": "markdown",
   "metadata": {},
   "source": [
    "2) правая производная"
   ]
  },
  {
   "cell_type": "code",
   "execution_count": 13,
   "metadata": {},
   "outputs": [],
   "source": [
    "def right_derivative(fun,x,h,n):\n",
    "    if n<2:\n",
    "        return(fun(x+h)-fun(x))/h\n",
    "    return(right_derivative(fun,x+h,h,n-1)-right_derivative(fun,x,h,n-1))/h"
   ]
  },
  {
   "cell_type": "markdown",
   "metadata": {},
   "source": [
    "3) двусторонняя"
   ]
  },
  {
   "cell_type": "code",
   "execution_count": 19,
   "metadata": {},
   "outputs": [],
   "source": [
    "def derivative(fun,x,h,n):\n",
    "    if n<2:\n",
    "        return(fun(x+h)-fun(x-h))/h/2\n",
    "    return(derivative(fun,x+h,h,n-1)-derivative(fun,x-h,h,n-1))/h/2"
   ]
  },
  {
   "cell_type": "markdown",
   "metadata": {},
   "source": [
    "Инициализируем функции"
   ]
  },
  {
   "cell_type": "code",
   "execution_count": 20,
   "metadata": {},
   "outputs": [],
   "source": [
    "import numpy as np\n",
    "fun1=lambda x: np.exp(2*x)*np.cos(3*x)\n",
    "fun2=lambda x: np.sin(np.log(x))\n",
    "fun3=lambda x: np.log(x)\n",
    "fun4=lambda x: np.cos(x)+np.sin(x)"
   ]
  },
  {
   "cell_type": "code",
   "execution_count": 22,
   "metadata": {},
   "outputs": [
    {
     "name": "stdout",
     "output_type": "stream",
     "text": [
      "func1\n",
      "left x: 0.25 n: 1 value: -0.958697376818307\n",
      "right x: 0.25 n: 1 value: -0.9588925542702852\n",
      "two-side x: 0.25 n: 1 value: -0.9587949655442961\n",
      "left x: 0.51 n: 1 value: -8.086283302834174\n",
      "right x: 0.51 n: 1 value: -8.086621464552245\n",
      "two-side x: 0.51 n: 1 value: -8.08645238369321\n",
      "left x: 0.99 n: 2 value: 20.838175629478428\n",
      "right x: 0.99 n: 2 value: 20.844499459826693\n",
      "two-side x: 0.99 n: 2 value: 20.841346426436758\n",
      "left x: 1.09 n: 2 value: 57.45700804027364\n",
      "right x: 1.09 n: 2 value: 57.46526809957685\n",
      "two-side x: 1.09 n: 2 value: 57.461115865464755\n",
      "left x: 1.89 n: 3 value: -1371.3474800169934\n",
      "right x: 1.89 n: 3 value: -1442.4017535930031\n",
      "two-side x: 1.89 n: 3 value: -1422.8618283596004\n",
      "left x: 2.39 n: 3 value: -4376.943252282217\n",
      "right x: 2.39 n: 3 value: -4177.991286269389\n",
      "two-side x: 2.39 n: 3 value: -4298.783551348606\n",
      "func2\n",
      "left x: 0.25 n: 1 value: 0.7337639303606202\n",
      "right x: 0.25 n: 1 value: 0.7338918616817124\n",
      "two-side x: 0.25 n: 1 value: 0.7338278960211663\n",
      "left x: 0.51 n: 1 value: 1.5328272851000688\n",
      "right x: 0.51 n: 1 value: 1.532821205274537\n",
      "two-side x: 0.51 n: 1 value: 1.5328242451873029\n",
      "left x: 0.99 n: 2 value: -1.010008309632049\n",
      "right x: 0.99 n: 2 value: -1.0099883255954012\n",
      "two-side x: 0.99 n: 2 value: -1.0099982916011996\n",
      "left x: 1.09 n: 2 value: -0.9110105725351757\n",
      "right x: 1.09 n: 2 value: -0.9109911436322448\n",
      "two-side x: 1.09 n: 2 value: -0.9110008580837102\n",
      "left x: 1.89 n: 3 value: 0.22204460492503128\n",
      "right x: 1.89 n: 3 value: 0.44408920985006256\n",
      "two-side x: 1.89 n: 3 value: 0.3747002708109903\n",
      "left x: 2.39 n: 3 value: 0.11102230246251564\n",
      "right x: 2.39 n: 3 value: 0.33306690738754696\n",
      "two-side x: 2.39 n: 3 value: 0.1804112415015879\n",
      "func3\n",
      "left x: 0.25 n: 1 value: 4.000080002142248\n",
      "right x: 0.25 n: 1 value: 3.999920002129009\n",
      "two-side x: 0.25 n: 1 value: 4.000000002135629\n",
      "left x: 0.51 n: 1 value: 1.9608035373375186\n",
      "right x: 0.51 n: 1 value: 1.9607650906028338\n",
      "two-side x: 0.51 n: 1 value: 1.9607843139701762\n",
      "left x: 0.99 n: 2 value: -1.0203246754381112\n",
      "right x: 0.99 n: 2 value: -1.020283458408322\n",
      "two-side x: 0.99 n: 2 value: -1.020304049581533\n",
      "left x: 1.09 n: 2 value: -0.8416953245493629\n",
      "right x: 1.09 n: 2 value: -0.8416643770825515\n",
      "two-side x: 1.09 n: 2 value: -0.8416800242883048\n",
      "left x: 1.89 n: 3 value: 0.22204460492503128\n",
      "right x: 1.89 n: 3 value: 0.33306690738754696\n",
      "two-side x: 1.89 n: 3 value: 0.3191891195797325\n",
      "left x: 2.39 n: 3 value: 0.0\n",
      "right x: 2.39 n: 3 value: 0.11102230246251564\n",
      "two-side x: 2.39 n: 3 value: 0.13877787807814457\n",
      "func4\n",
      "left x: 0.25 n: 1 value: 0.7215145440220282\n",
      "right x: 0.25 n: 1 value: 0.7215023808848641\n",
      "two-side x: 0.25 n: 1 value: 0.7215084624534461\n",
      "left x: 0.51 n: 1 value: 0.3845740653485307\n",
      "right x: 0.51 n: 1 value: 0.384560456145877\n",
      "two-side x: 0.51 n: 1 value: 0.3845672607472039\n",
      "left x: 0.99 n: 2 value: -1.3847190061255785\n",
      "right x: 0.99 n: 2 value: -1.3847101243413815\n",
      "two-side x: 0.99 n: 2 value: -1.3847156754565046\n",
      "left x: 1.09 n: 2 value: -1.3491163741718992\n",
      "right x: 1.09 n: 2 value: -1.3491074923877022\n",
      "two-side x: 1.09 n: 2 value: -1.3491119332798007\n",
      "left x: 1.89 n: 3 value: 0.9992007221626408\n",
      "right x: 1.89 n: 3 value: 1.554312234475219\n",
      "two-side x: 1.89 n: 3 value: 1.2351231148954867\n",
      "left x: 2.39 n: 3 value: 1.6653345369377346\n",
      "right x: 2.39 n: 3 value: 1.2212453270876722\n",
      "two-side x: 2.39 n: 3 value: 1.40165656858926\n"
     ]
    }
   ],
   "source": [
    "keys=[(0.25,1),(0.51,1),(0.99,2),(1.09,2),(1.89,3),(2.39,3)]\n",
    "print(\"func1\")\n",
    "for key in keys:\n",
    "    print('left','x:',key[0],'n:',key[1],'value:',left_derivative(fun1,key[0],0.00001,key[1]))\n",
    "    print('right','x:',key[0],'n:',key[1],'value:',right_derivative(fun1,key[0],0.00001,key[1]))\n",
    "    print('two-side','x:',key[0],'n:',key[1],'value:',derivative(fun1,key[0],0.00001,key[1]))\n",
    "print(\"func2\")\n",
    "for key in keys:\n",
    "    print('left','x:',key[0],'n:',key[1],'value:',left_derivative(fun2,key[0],0.00001,key[1]))\n",
    "    print('right','x:',key[0],'n:',key[1],'value:',right_derivative(fun2,key[0],0.00001,key[1]))\n",
    "    print('two-side','x:',key[0],'n:',key[1],'value:',derivative(fun2,key[0],0.00001,key[1]))\n",
    "print(\"func3\")\n",
    "for key in keys:\n",
    "    print('left','x:',key[0],'n:',key[1],'value:',left_derivative(fun3,key[0],0.00001,key[1]))\n",
    "    print('right','x:',key[0],'n:',key[1],'value:',right_derivative(fun3,key[0],0.00001,key[1]))\n",
    "    print('two-side','x:',key[0],'n:',key[1],'value:',derivative(fun3,key[0],0.00001,key[1]))\n",
    "print(\"func4\")\n",
    "for key in keys:\n",
    "    print('left','x:',key[0],'n:',key[1],'value:',left_derivative(fun4,key[0],0.00001,key[1]))\n",
    "    print('right','x:',key[0],'n:',key[1],'value:',right_derivative(fun4,key[0],0.00001,key[1]))\n",
    "    print('two-side','x:',key[0],'n:',key[1],'value:',derivative(fun4,key[0],0.00001,key[1]))"
   ]
  },
  {
   "cell_type": "markdown",
   "metadata": {},
   "source": [
    "# Задание 2"
   ]
  },
  {
   "cell_type": "code",
   "execution_count": 37,
   "metadata": {},
   "outputs": [],
   "source": [
    "def least_square(X,Y):\n",
    "    s1=s2=0\n",
    "    for i in range(len(X)):\n",
    "        s1+=X[i]*Y[i]\n",
    "        s2+=X[i]**2\n",
    "    a=(s1*len(X)-sum(X)*sum(Y))/(s2*len(X)-sum(X)**2)\n",
    "    b=(np.sum(Y)-a*sum(X))/len(X)\n",
    "    return a,b"
   ]
  },
  {
   "cell_type": "code",
   "execution_count": 40,
   "metadata": {},
   "outputs": [
    {
     "name": "stdout",
     "output_type": "stream",
     "text": [
      "      iso_code       location        date  total_cases  new_cases  \\\n",
      "0          ABW          Aruba  2020-03-13            2          2   \n",
      "1          ABW          Aruba  2020-03-20            4          2   \n",
      "2          ABW          Aruba  2020-03-24           12          8   \n",
      "3          ABW          Aruba  2020-03-25           17          5   \n",
      "4          ABW          Aruba  2020-03-26           19          2   \n",
      "...        ...            ...         ...          ...        ...   \n",
      "21601      NaN  International  2020-02-28          705          0   \n",
      "21602      NaN  International  2020-02-29          705          0   \n",
      "21603      NaN  International  2020-03-01          705          0   \n",
      "21604      NaN  International  2020-03-02          705          0   \n",
      "21605      NaN  International  2020-03-10          696         -9   \n",
      "\n",
      "       total_deaths  new_deaths  total_cases_per_million  \\\n",
      "0                 0           0                   18.733   \n",
      "1                 0           0                   37.465   \n",
      "2                 0           0                  112.395   \n",
      "3                 0           0                  159.227   \n",
      "4                 0           0                  177.959   \n",
      "...             ...         ...                      ...   \n",
      "21601             4           0                      NaN   \n",
      "21602             6           2                      NaN   \n",
      "21603             6           0                      NaN   \n",
      "21604             6           0                      NaN   \n",
      "21605             7           1                      NaN   \n",
      "\n",
      "       new_cases_per_million  total_deaths_per_million  ...  aged_65_older  \\\n",
      "0                     18.733                       0.0  ...         13.085   \n",
      "1                     18.733                       0.0  ...         13.085   \n",
      "2                     74.930                       0.0  ...         13.085   \n",
      "3                     46.831                       0.0  ...         13.085   \n",
      "4                     18.733                       0.0  ...         13.085   \n",
      "...                      ...                       ...  ...            ...   \n",
      "21601                    NaN                       NaN  ...            NaN   \n",
      "21602                    NaN                       NaN  ...            NaN   \n",
      "21603                    NaN                       NaN  ...            NaN   \n",
      "21604                    NaN                       NaN  ...            NaN   \n",
      "21605                    NaN                       NaN  ...            NaN   \n",
      "\n",
      "       aged_70_older  gdp_per_capita  extreme_poverty  cvd_death_rate  \\\n",
      "0              7.452       35973.781              NaN             NaN   \n",
      "1              7.452       35973.781              NaN             NaN   \n",
      "2              7.452       35973.781              NaN             NaN   \n",
      "3              7.452       35973.781              NaN             NaN   \n",
      "4              7.452       35973.781              NaN             NaN   \n",
      "...              ...             ...              ...             ...   \n",
      "21601            NaN             NaN              NaN             NaN   \n",
      "21602            NaN             NaN              NaN             NaN   \n",
      "21603            NaN             NaN              NaN             NaN   \n",
      "21604            NaN             NaN              NaN             NaN   \n",
      "21605            NaN             NaN              NaN             NaN   \n",
      "\n",
      "       diabetes_prevalence  female_smokers male_smokers  \\\n",
      "0                    11.62             NaN          NaN   \n",
      "1                    11.62             NaN          NaN   \n",
      "2                    11.62             NaN          NaN   \n",
      "3                    11.62             NaN          NaN   \n",
      "4                    11.62             NaN          NaN   \n",
      "...                    ...             ...          ...   \n",
      "21601                  NaN             NaN          NaN   \n",
      "21602                  NaN             NaN          NaN   \n",
      "21603                  NaN             NaN          NaN   \n",
      "21604                  NaN             NaN          NaN   \n",
      "21605                  NaN             NaN          NaN   \n",
      "\n",
      "       handwashing_facilities  hospital_beds_per_100k  \n",
      "0                         NaN                     NaN  \n",
      "1                         NaN                     NaN  \n",
      "2                         NaN                     NaN  \n",
      "3                         NaN                     NaN  \n",
      "4                         NaN                     NaN  \n",
      "...                       ...                     ...  \n",
      "21601                     NaN                     NaN  \n",
      "21602                     NaN                     NaN  \n",
      "21603                     NaN                     NaN  \n",
      "21604                     NaN                     NaN  \n",
      "21605                     NaN                     NaN  \n",
      "\n",
      "[21606 rows x 32 columns]\n"
     ]
    }
   ],
   "source": [
    "import pandas as pd\n",
    "data=pd.read_csv('owid-covid-data.csv')\n",
    "print(data)\n",
    "cc=data.iloc[21386:21542]\n",
    "Y=cc['new_cases']\n",
    "Y=Y.values.tolist()\n",
    "X=[i for i in range(len(Y))]"
   ]
  },
  {
   "cell_type": "code",
   "execution_count": 41,
   "metadata": {},
   "outputs": [
    {
     "data": {
      "image/png": "[encoded data removed]",
      "text/plain": [
       "<Figure size 432x288 with 1 Axes>"
      ]
     },
     "metadata": {
      "needs_background": "light"
     },
     "output_type": "display_data"
    }
   ],
   "source": [
    "import matplotlib.pyplot as plt\n",
    "k,b=least_square(X,Y)\n",
    "Y_new=[k*x+b for x in X]\n",
    "plt.step(X,Y)\n",
    "plt.plot(X,Y_new)\n",
    "plt.show()"
   ]
  },
  {
   "cell_type": "code",
   "execution_count": 42,
   "metadata": {},
   "outputs": [],
   "source": [
    "def cubic_spline(x, y):\n",
    "    x = np.array(x)\n",
    "    y = np.array(y)\n",
    "    n = len(x)\n",
    "    delta_x = np.diff(x)\n",
    "    delta_y = np.diff(y)\n",
    "    A = np.zeros(shape = (n,n))\n",
    "    b = np.zeros(shape=(n,1))\n",
    "    A[0][0] = 1\n",
    "    A[-1][-1] = 1\n",
    "    for i in range(1,n-1):\n",
    "        A[i][i-1] = delta_x[i-1]\n",
    "        A[i][i+1] = delta_x[i]\n",
    "        A[i][i] = 2*(delta_x[i-1]+delta_x[i])\n",
    "        b[i][0] = 3*(delta_y[i]/delta_x[i] - delta_y[i-1]/delta_x[i-1])\n",
    "    c = jacobi(A,b)\n",
    "    c=np.array(c)\n",
    "    d = np.zeros(shape = (n-1,1))\n",
    "    b = np.zeros(shape = (n-1,1))\n",
    "    for i in range(0,len(d)):\n",
    "        d[i] = (c[i+1] - c[i]) / (3*delta_x[i])\n",
    "        b[i] = (delta_y[i]/delta_x[i]) - (delta_x[i]/3)*(2*c[i] + c[i+1])    \n",
    "    \n",
    "    return b.squeeze(), c.squeeze(), d.squeeze()"
   ]
  },
  {
   "cell_type": "code",
   "execution_count": 43,
   "metadata": {},
   "outputs": [],
   "source": [
    "def jacobi(A, b):\n",
    "    n = A.shape[0]\n",
    "    x = np.zeros(n)\n",
    "    x_prev = x\n",
    "    counter = 0\n",
    "    error=999999\n",
    "    \n",
    "    while (error > 1e-5): \n",
    "        for i in range(0, n): \n",
    "            s = 0\n",
    "            for j in range(0,n): \n",
    "                if i != j:\n",
    "                    s += A[i][j] * x_prev[j] \n",
    "            x[i] = (b[i] - s) / A[i][i]\n",
    "        error = (np.sum((x-x_prev)**2))**0.5 \n",
    "        x_prev = x.copy() \n",
    "    return x"
   ]
  },
  {
   "cell_type": "code",
   "execution_count": 44,
   "metadata": {},
   "outputs": [
    {
     "data": {
      "image/png": "[encoded data removed]",
      "text/plain": [
       "<Figure size 432x288 with 1 Axes>"
      ]
     },
     "metadata": {
      "needs_background": "light"
     },
     "output_type": "display_data"
    }
   ],
   "source": [
    "b,c,d=cubic_spline(X,Y)\n",
    "new_y=[]\n",
    "new_x=[i for i in range(160)]\n",
    "for i in range(len(new_x)):\n",
    "    pos=min(i,154)\n",
    "    if (i>154):\n",
    "        pos1=pos+1\n",
    "    else:\n",
    "        pos1=pos\n",
    "    new_y.append(Y[pos]+b[pos]*(new_x[i]-X[pos1])+c[pos]*(new_x[i]-X[pos1])**2+d[pos]*(new_x[i]-X[pos1])**3)\n",
    "plt.plot(new_x,new_y)\n",
    "plt.plot(X,Y)\n",
    "plt.show()"
   ]
  },
  {
   "cell_type": "code",
   "execution_count": 48,
   "metadata": {},
   "outputs": [],
   "source": [
    "def integral_trapetsiya(x,y):\n",
    "    result=0\n",
    "    for i in range(1,len(x)):\n",
    "        result+=(x[i]-x[i-1])*(y[i-1]+y[i])/2\n",
    "    return result"
   ]
  },
  {
   "cell_type": "code",
   "execution_count": 49,
   "metadata": {},
   "outputs": [
    {
     "name": "stdout",
     "output_type": "stream",
     "text": [
      "Результат для метода наименьших квадратов: 6308201.923076929\n",
      "Результат для метода кубического сплайна: 6300296.5\n",
      "Всего по таблице: 6348900\n",
      "Точность первого метода: 99.35897435897445%\n",
      "Точность второго метода: 99.2344579375955%\n"
     ]
    }
   ],
   "source": [
    "k,b=least_square(X,Y)\n",
    "Y_new=[k*x+b for x in X]\n",
    "rez1=integral_trapetsiya(X,Y_new)\n",
    "print(\"Результат для метода наименьших квадратов:\",rez1)\n",
    "b,c,d=cubic_spline(X,Y)\n",
    "new_y=[]\n",
    "for i in range(len(X)):\n",
    "    pos=min(i,154)\n",
    "    if (i>154):\n",
    "        pos1=pos+1\n",
    "    else:\n",
    "        pos1=pos\n",
    "    new_y.append(Y[pos]+b[pos]*(X[i]-X[pos1])+c[pos]*(X[i]-X[pos1])**2+d[pos]*(X[i]-X[pos1])**3)\n",
    "rez2=integral_trapetsiya(X,new_y)\n",
    "print(\"Результат для метода кубического сплайна:\",rez2)\n",
    "print(\"Всего по таблице: 6348900\")\n",
    "print(\"Точность первого метода:\",str(rez1/6348900*100)+\"%\")\n",
    "print(\"Точность второго метода:\",str(rez2/6348900*100)+\"%\")"
   ]
  },
  {
   "cell_type": "code",
   "execution_count": null,
   "metadata": {},
   "outputs": [],
   "source": []
  },
  {
   "cell_type": "code",
   "execution_count": null,
   "metadata": {},
   "outputs": [],
   "source": []
  }
 ],
 "metadata": {
  "kernelspec": {
   "display_name": "Python 3",
   "language": "python",
   "name": "python3"
  },
  "language_info": {
   "codemirror_mode": {
    "name": "ipython",
    "version": 3
   },
   "file_extension": ".py",
   "mimetype": "text/x-python",
   "name": "python",
   "nbconvert_exporter": "python",
   "pygments_lexer": "ipython3",
   "version": "3.8.2"
  }
 },
 "nbformat": 4,
 "nbformat_minor": 4
}
