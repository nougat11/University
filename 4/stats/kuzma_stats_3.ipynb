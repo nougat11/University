{
 "cells": [
  {
   "cell_type": "markdown",
   "metadata": {},
   "source": [
    "# Задание 1.1"
   ]
  },
  {
   "cell_type": "code",
   "execution_count": 210,
   "metadata": {},
   "outputs": [],
   "source": [
    "import random\n",
    "import numpy as np\n",
    "def generate(N):\n",
    "    a=1\n",
    "    b=5\n",
    "    X=[random.random()*(b-a)+a for _ in range(N)]\n",
    "    X=sorted(X)\n",
    "    Y=[np.log(x) for x in X]\n",
    "    return Y\n",
    "\n"
   ]
  },
  {
   "cell_type": "markdown",
   "metadata": {},
   "source": [
    "Мат ожидание"
   ]
  },
  {
   "cell_type": "code",
   "execution_count": 211,
   "metadata": {},
   "outputs": [],
   "source": [
    "def sred(X,n):\n",
    "    ans=0\n",
    "    for x in X:\n",
    "        ans+=x/n\n",
    "    return ans"
   ]
  },
  {
   "cell_type": "code",
   "execution_count": 212,
   "metadata": {},
   "outputs": [
    {
     "name": "stdout",
     "output_type": "stream",
     "text": [
      "0.797911616603873\n",
      "0.7979116166038729\n"
     ]
    }
   ],
   "source": [
    "ozhidanie=sred(Y,N)\n",
    "print(np.mean(Y))\n",
    "print(ozhidanie)\n"
   ]
  },
  {
   "cell_type": "markdown",
   "metadata": {},
   "source": [
    "# Задание 1.2"
   ]
  },
  {
   "cell_type": "code",
   "execution_count": 213,
   "metadata": {},
   "outputs": [],
   "source": [
    "def disp(Y,sred,n):\n",
    "    ans=0\n",
    "    for x in Y:\n",
    "        ans+=(x-sred)**2\n",
    "    ans/=n-1\n",
    "    return ans"
   ]
  },
  {
   "cell_type": "code",
   "execution_count": 214,
   "metadata": {},
   "outputs": [
    {
     "name": "stdout",
     "output_type": "stream",
     "text": [
      "0.24322680570986335\n"
     ]
    }
   ],
   "source": [
    "dispers=disp(Y,ozhidanie,N)\n",
    "print(dispers)"
   ]
  },
  {
   "cell_type": "markdown",
   "metadata": {},
   "source": [
    "# "
   ]
  },
  {
   "cell_type": "markdown",
   "metadata": {},
   "source": [
    "# Задание 1.3"
   ]
  },
  {
   "cell_type": "code",
   "execution_count": 138,
   "metadata": {},
   "outputs": [],
   "source": [
    "from scipy.stats import t,sem"
   ]
  },
  {
   "cell_type": "code",
   "execution_count": 164,
   "metadata": {},
   "outputs": [],
   "source": [
    "def interval(n,disp,dover,mean):\n",
    "    otklon=np.sqrt(dispers)\n",
    "    lower_bound=mean-(t.pdf(dover,n-1)*otklon/np.sqrt(n))\n",
    "    upper_bound=mean+(t.pdf(dover,n-1)*otklon/np.sqrt(n))\n",
    "    return (lower_bound,upper_bound)"
   ]
  },
  {
   "cell_type": "code",
   "execution_count": 165,
   "metadata": {},
   "outputs": [
    {
     "data": {
      "text/plain": [
       "(1.041961411360356, 1.089205959783185)"
      ]
     },
     "execution_count": 165,
     "metadata": {},
     "output_type": "execute_result"
    }
   ],
   "source": [
    "interval(N,dispers,0.95,ozhidanie)"
   ]
  },
  {
   "cell_type": "markdown",
   "metadata": {},
   "source": [
    "# Задание 1.4"
   ]
  },
  {
   "cell_type": "code",
   "execution_count": 166,
   "metadata": {},
   "outputs": [
    {
     "data": {
      "text/plain": [
       "[<matplotlib.lines.Line2D at 0x1bc58bb0>]"
      ]
     },
     "execution_count": 166,
     "metadata": {},
     "output_type": "execute_result"
    },
    {
     "data": {
      "image/png": "[encoded data removed]",
      "text/plain": [
       "<Figure size 432x288 with 1 Axes>"
      ]
     },
     "metadata": {
      "needs_background": "light"
     },
     "output_type": "display_data"
    }
   ],
   "source": [
    "import matplotlib.pyplot as plt\n",
    "def interval_bound(n,disp,dover,mean):\n",
    "    l,r=interval(n,disp,dover,mean)\n",
    "    return r-l\n",
    "dover = np.arange(0, 1, 0.01)\n",
    "plt.plot(dover,interval_bound(N,dispers,dover,ozhidanie))\n",
    "    "
   ]
  },
  {
   "cell_type": "markdown",
   "metadata": {},
   "source": [
    "# Задание 1.5"
   ]
  },
  {
   "cell_type": "markdown",
   "metadata": {},
   "source": [
    "Для того чтобы найти плотность распределения, нужно найти функцию"
   ]
  },
  {
   "cell_type": "markdown",
   "metadata": {},
   "source": [
    "возьмём функцию из первой лабы"
   ]
  },
  {
   "cell_type": "markdown",
   "metadata": {},
   "source": [
    "0.252242*np.exp(u)-0.258739"
   ]
  },
  {
   "cell_type": "markdown",
   "metadata": {},
   "source": [
    "найдём производную"
   ]
  },
  {
   "cell_type": "markdown",
   "metadata": {},
   "source": [
    "0.252242*np.exp(u)"
   ]
  },
  {
   "cell_type": "markdown",
   "metadata": {},
   "source": [
    "значения принимает функция от 0 до 1.6 от exp(1) до exp(5)\n"
   ]
  },
  {
   "cell_type": "markdown",
   "metadata": {},
   "source": [
    "кнш можно прикрутить интервалы, делающие значения от 0 до 1, но лень менять"
   ]
  },
  {
   "cell_type": "markdown",
   "metadata": {},
   "source": [
    "M[x]=интеграл от 0 до 1,6 x* 0.252242 e^x = 1.0019"
   ]
  },
  {
   "cell_type": "markdown",
   "metadata": {},
   "source": [
    "d[x]=интеграл от 0 до 1,6 x^2 * 0.252242 и отнять квадрат ожидания ИМХО"
   ]
  },
  {
   "cell_type": "markdown",
   "metadata": {},
   "source": [
    "получается 0.1908"
   ]
  },
  {
   "cell_type": "markdown",
   "metadata": {},
   "source": [
    "# Задание 1.6 и 1.7"
   ]
  },
  {
   "cell_type": "code",
   "execution_count": 167,
   "metadata": {},
   "outputs": [
    {
     "data": {
      "text/plain": [
       "[<matplotlib.lines.Line2D at 0x1bc87fd0>]"
      ]
     },
     "execution_count": 167,
     "metadata": {},
     "output_type": "execute_result"
    },
    {
     "data": {
      "image/png": "[encoded data removed]",
      "text/plain": [
       "<Figure size 432x288 with 1 Axes>"
      ]
     },
     "metadata": {
      "needs_background": "light"
     },
     "output_type": "display_data"
    }
   ],
   "source": [
    "new_dispers=0.1908\n",
    "dover = np.arange(0, 1, 0.01)\n",
    "plt.plot(dover,interval_bound(N,new_dispers,dover,ozhidanie))"
   ]
  },
  {
   "cell_type": "markdown",
   "metadata": {},
   "source": [
    "# Задание 1.8"
   ]
  },
  {
   "cell_type": "code",
   "execution_count": 168,
   "metadata": {},
   "outputs": [
    {
     "data": {
      "text/plain": [
       "[<matplotlib.lines.Line2D at 0x1bcc2778>]"
      ]
     },
     "execution_count": 168,
     "metadata": {},
     "output_type": "execute_result"
    },
    {
     "data": {
      "image/png": "[encoded data removed]",
      "text/plain": [
       "<Figure size 432x288 with 1 Axes>"
      ]
     },
     "metadata": {
      "needs_background": "light"
     },
     "output_type": "display_data"
    }
   ],
   "source": [
    "plt.plot(dover,interval_bound(N,dispers,dover,ozhidanie))\n",
    "\n",
    "plt.plot(dover,interval_bound(N,new_dispers,dover,ozhidanie))"
   ]
  },
  {
   "cell_type": "markdown",
   "metadata": {},
   "source": [
    "Индентичные"
   ]
  },
  {
   "cell_type": "markdown",
   "metadata": {},
   "source": [
    "# Задание 1.9 и 1.10"
   ]
  },
  {
   "cell_type": "code",
   "execution_count": 169,
   "metadata": {},
   "outputs": [
    {
     "data": {
      "text/plain": [
       "[<matplotlib.lines.Line2D at 0x1bcf8fb8>]"
      ]
     },
     "execution_count": 169,
     "metadata": {},
     "output_type": "execute_result"
    },
    {
     "data": {
      "image/png": "[encoded data removed]",
      "text/plain": [
       "<Figure size 432x288 with 1 Axes>"
      ]
     },
     "metadata": {
      "needs_background": "light"
     },
     "output_type": "display_data"
    }
   ],
   "source": [
    "Y1=generate(30)\n",
    "Y2=generate(50)\n",
    "Y3=generate(70)\n",
    "Y4=generate(100)\n",
    "Y5=generate(150)\n",
    "disp1=disp(Y1,np.mean(Y1),30)\n",
    "disp2=disp(Y2,np.mean(Y2),50)\n",
    "disp3=disp(Y3,np.mean(Y3),70)\n",
    "disp4=disp(Y4,np.mean(Y4),100)\n",
    "disp5=disp(Y5,np.mean(Y5),150)\n",
    "plt.plot(dover,interval_bound(30,disp1,dover,np.mean(Y1)))\n",
    "plt.plot(dover,interval_bound(50,disp1,dover,np.mean(Y2)))\n",
    "plt.plot(dover,interval_bound(70,disp1,dover,np.mean(Y3)))\n",
    "plt.plot(dover,interval_bound(100,disp1,dover,np.mean(Y4)))\n",
    "plt.plot(dover,interval_bound(150,disp1,dover,np.mean(Y5)))\n",
    "\n"
   ]
  },
  {
   "cell_type": "markdown",
   "metadata": {},
   "source": [
    "Чем больше уровень значимости и выборка, тем меньше интервал"
   ]
  },
  {
   "cell_type": "markdown",
   "metadata": {},
   "source": [
    "# Задание 2.1"
   ]
  },
  {
   "cell_type": "code",
   "execution_count": 215,
   "metadata": {},
   "outputs": [
    {
     "name": "stdout",
     "output_type": "stream",
     "text": [
      "0.21429845398858016\n"
     ]
    }
   ],
   "source": [
    "Y=generate(20)\n",
    "disper=disp(Y,np.mean(Y),20)\n",
    "print(disper)\n",
    "\n"
   ]
  },
  {
   "cell_type": "markdown",
   "metadata": {},
   "source": [
    "# Задание 2.2"
   ]
  },
  {
   "cell_type": "code",
   "execution_count": 216,
   "metadata": {},
   "outputs": [],
   "source": [
    "sred=np.mean(Y)"
   ]
  },
  {
   "cell_type": "markdown",
   "metadata": {},
   "source": [
    "# Задание 2.3"
   ]
  },
  {
   "cell_type": "code",
   "execution_count": 221,
   "metadata": {},
   "outputs": [],
   "source": [
    "from scipy.stats import chi2\n",
    "def interval_disp(n,disp,dover,mean):\n",
    "    lower_bound=n*disp/(chi2.ppf((1+dover)/2,n))\n",
    "    upper_bound=n*disp/(chi2.ppf((1-dover)/2,n))\n",
    "    return lower_bound,upper_bound"
   ]
  },
  {
   "cell_type": "code",
   "execution_count": 223,
   "metadata": {},
   "outputs": [
    {
     "data": {
      "text/plain": [
       "(0.10715767553866185, 0.5765481395866473)"
      ]
     },
     "execution_count": 223,
     "metadata": {},
     "output_type": "execute_result"
    }
   ],
   "source": [
    "interval_disp(20,disper,0.99,np.mean(20))"
   ]
  },
  {
   "cell_type": "markdown",
   "metadata": {},
   "source": [
    "# Задание 2.4"
   ]
  },
  {
   "cell_type": "code",
   "execution_count": 224,
   "metadata": {},
   "outputs": [
    {
     "data": {
      "text/plain": [
       "[<matplotlib.lines.Line2D at 0x1bd58b68>]"
      ]
     },
     "execution_count": 224,
     "metadata": {},
     "output_type": "execute_result"
    },
    {
     "data": {
      "image/png": "[encoded data removed]",
      "text/plain": [
       "<Figure size 432x288 with 1 Axes>"
      ]
     },
     "metadata": {
      "needs_background": "light"
     },
     "output_type": "display_data"
    }
   ],
   "source": [
    "def interval_disp_bound(n,disp,dover,mean):\n",
    "    l,r=interval_disp(n,disp,dover,mean)\n",
    "    return r-l\n",
    "dover = np.arange(0, 1, 0.01)\n",
    "plt.plot(dover,interval_disp_bound(N,dispers,dover,ozhidanie))"
   ]
  },
  {
   "cell_type": "markdown",
   "metadata": {},
   "source": [
    "Чем выше коэфицент, тем больше интервал"
   ]
  },
  {
   "cell_type": "markdown",
   "metadata": {},
   "source": [
    "# Задание 2.5"
   ]
  },
  {
   "cell_type": "markdown",
   "metadata": {},
   "source": [
    "Чекать 1.5"
   ]
  },
  {
   "cell_type": "markdown",
   "metadata": {},
   "source": [
    "# Задание 2.6 2.7"
   ]
  },
  {
   "cell_type": "code",
   "execution_count": 227,
   "metadata": {},
   "outputs": [
    {
     "data": {
      "text/plain": [
       "[<matplotlib.lines.Line2D at 0x1bbc9298>]"
      ]
     },
     "execution_count": 227,
     "metadata": {},
     "output_type": "execute_result"
    },
    {
     "data": {
      "image/png": "[encoded data removed]",
      "text/plain": [
       "<Figure size 432x288 with 1 Axes>"
      ]
     },
     "metadata": {
      "needs_background": "light"
     },
     "output_type": "display_data"
    }
   ],
   "source": [
    "new_dispers=0.1908\n",
    "dover = np.arange(0, 1, 0.01)\n",
    "plt.plot(dover,interval_disp_bound(N,new_dispers,dover,ozhidanie))"
   ]
  },
  {
   "cell_type": "markdown",
   "metadata": {},
   "source": [
    "# Задание 2.8"
   ]
  },
  {
   "cell_type": "code",
   "execution_count": 231,
   "metadata": {},
   "outputs": [
    {
     "data": {
      "text/plain": [
       "[<matplotlib.lines.Line2D at 0x1be38328>]"
      ]
     },
     "execution_count": 231,
     "metadata": {},
     "output_type": "execute_result"
    },
    {
     "data": {
      "image/png": "[encoded data removed]",
      "text/plain": [
       "<Figure size 432x288 with 1 Axes>"
      ]
     },
     "metadata": {
      "needs_background": "light"
     },
     "output_type": "display_data"
    }
   ],
   "source": [
    "plt.plot(dover,interval_disp_bound(N,disper,dover,ozhidanie))\n",
    "\n",
    "plt.plot(dover,interval_disp_bound(N,new_dispers,dover,ozhidanie))"
   ]
  },
  {
   "cell_type": "markdown",
   "metadata": {},
   "source": [
    "# Задание 2.9 и 2.10"
   ]
  },
  {
   "cell_type": "code",
   "execution_count": 233,
   "metadata": {},
   "outputs": [
    {
     "data": {
      "text/plain": [
       "[<matplotlib.lines.Line2D at 0x1beab340>]"
      ]
     },
     "execution_count": 233,
     "metadata": {},
     "output_type": "execute_result"
    },
    {
     "data": {
      "image/png": "[encoded data removed]",
      "text/plain": [
       "<Figure size 432x288 with 1 Axes>"
      ]
     },
     "metadata": {
      "needs_background": "light"
     },
     "output_type": "display_data"
    }
   ],
   "source": [
    "Y1=generate(30)\n",
    "Y2=generate(50)\n",
    "Y3=generate(70)\n",
    "Y4=generate(100)\n",
    "Y5=generate(150)\n",
    "disp1=disp(Y1,np.mean(Y1),30)\n",
    "disp2=disp(Y2,np.mean(Y2),50)\n",
    "disp3=disp(Y3,np.mean(Y3),70)\n",
    "disp4=disp(Y4,np.mean(Y4),100)\n",
    "disp5=disp(Y5,np.mean(Y5),150)\n",
    "plt.plot(dover,interval_disp_bound(30,disp1,dover,np.mean(Y1)))\n",
    "plt.plot(dover,interval_disp_bound(50,disp1,dover,np.mean(Y2)))\n",
    "plt.plot(dover,interval_disp_bound(70,disp1,dover,np.mean(Y3)))\n",
    "plt.plot(dover,interval_disp_bound(100,disp1,dover,np.mean(Y4)))\n",
    "plt.plot(dover,interval_disp_bound(150,disp1,dover,np.mean(Y5)))"
   ]
  },
  {
   "cell_type": "markdown",
   "metadata": {},
   "source": [
    "Чем меньше выборка, тем больше интервал"
   ]
  },
  
  {
   "cell_type": "code",
   "execution_count": null,
   "metadata": {},
   "outputs": [],
   "source": []
  }
 ],
 "metadata": {
  "kernelspec": {
   "display_name": "Python 3",
   "language": "python",
   "name": "python3"
  },
  "language_info": {
   "codemirror_mode": {
    "name": "ipython",
    "version": 3
   },
   "file_extension": ".py",
   "mimetype": "text/x-python",
   "name": "python",
   "nbconvert_exporter": "python",
   "pygments_lexer": "ipython3",
   "version": "3.8.2"
  }
 },
 "nbformat": 4,
 "nbformat_minor": 4
}
