{
 "cells": [
  {
   "cell_type": "markdown",
   "metadata": {},
   "source": [
    "# Task 1"
   ]
  },
  {
   "cell_type": "markdown",
   "metadata": {},
   "source": [
    "Задана выборка. Построить график"
   ]
  },
  {
   "cell_type": "code",
   "execution_count": 100,
   "metadata": {},
   "outputs": [],
   "source": [
    "a=[0.56,0.79,0.29,0.56,0.14,1,0.98,1,0.19,0.08]"
   ]
  },
  {
   "cell_type": "markdown",
   "metadata": {},
   "source": [
    "Построим вариационный ряд"
   ]
  },
  {
   "cell_type": "code",
   "execution_count": 101,
   "metadata": {},
   "outputs": [
    {
     "name": "stdout",
     "output_type": "stream",
     "text": [
      "[0.08, 0.14, 0.19, 0.29, 0.56, 0.56, 0.79, 0.98, 1, 1]\n"
     ]
    }
   ],
   "source": [
    "a.sort()\n",
    "var=a\n",
    "print(var)"
   ]
  },
  {
   "cell_type": "markdown",
   "metadata": {},
   "source": [
    "Пройдёмся и разобъём на интервалы"
   ]
  },
  {
   "cell_type": "code",
   "execution_count": 102,
   "metadata": {},
   "outputs": [
    {
     "data": {
      "text/plain": [
       "[<matplotlib.lines.Line2D at 0x16a66450f88>]"
      ]
     },
     "execution_count": 102,
     "metadata": {},
     "output_type": "execute_result"
    },
    {
     "data": {
      "image/png": "[encoded data removed]",
      "text/plain": [
       "<Figure size 432x288 with 1 Axes>"
      ]
     },
     "metadata": {
      "needs_background": "light"
     },
     "output_type": "display_data"
    }
   ],
   "source": [
    "import matplotlib.pyplot as plt\n",
    "import numpy as np\n",
    "flag=0\n",
    "interval=[]\n",
    "p=[]\n",
    "for index in range(len(var)):\n",
    "    if (var[index]!=flag):\n",
    "        flag=var[index]\n",
    "        interval.append(a[index])\n",
    "        p.append(index/len(var))\n",
    "interval.append(interval[-1]+1)\n",
    "p.append(1)\n",
    "plt.step(interval,p)\n",
    "\n",
    "        "
   ]
  },
  {
   "cell_type": "markdown",
   "metadata": {},
   "source": [
    "# Task 2"
   ]
  },
  {
   "cell_type": "markdown",
   "metadata": {},
   "source": [
    "Зададим ряд"
   ]
  },
  {
   "cell_type": "code",
   "execution_count": 103,
   "metadata": {},
   "outputs": [],
   "source": [
    "a=[0.01, 0.02, 0.03, 0.05, 0.06, 0.08, 0.08, 0.09, 0.11, 0.12, 0.18, 0.19, \n",
    "0.21, 0.23, 0.24, 0.24, 0.25, 0.26, 0.29, 0.30, 0.30, 0.30, 0.31, 0.32, 0.34,\n",
    "0.35, 0.35, 0.36, 0.37, 0.41, 0.42, 0.44, 0.50, 0.53, 0.54, 0.54, 0.57, 0.58,\n",
    "0.58, 0.59, 0.59, 0.59, 0.61, 0.61, 0.62, 0.62, 0.64, 0.65, 0.65, 0.66, 0.66,\n",
    "0.66,0.70, 0.72, 0.72, 0.73, 0.73, 0.73, 0.73, 0.74, 0.76, 0.77, 0.78, 0.78,\n",
    "0.80, 0.81, 0.83, 0.84, 0.85, 0.86, 0.86, 0.87, 0.89, 0.90, 0.90, 0.90, 0.92,\n",
    "0.93, 0.94, 0.94, 0.94, 0.95, 0.96, 0.97, 0.97, 0.97, 0.98, 0.99, 0.99,0.99,\n",
    "0.99, 0.99, 0.99, 0.99,1.00,1.00,1.00,1.00,1.00,1.00]"
   ]
  },
  {
   "cell_type": "markdown",
   "metadata": {},
   "source": [
    "Инициализируем компоненты"
   ]
  },
  {
   "cell_type": "code",
   "execution_count": 104,
   "metadata": {},
   "outputs": [
    {
     "name": "stdout",
     "output_type": "stream",
     "text": [
      "A[i] B[i] v[i] h[i] f[i]\n",
      "0.01   0.109   8   0.099   0.808\n",
      "0.109   0.208   4   0.099   0.404\n",
      "0.208   0.307   10   0.099   1.01\n",
      "0.307   0.406   7   0.099   0.707\n",
      "0.406   0.505   4   0.099   0.404\n",
      "0.505   0.604   9   0.099   0.909\n",
      "0.604   0.703   11   0.099   1.111\n",
      "0.703   0.802   12   0.099   1.212\n",
      "0.802   0.901   11   0.099   1.111\n",
      "0.901   1.0   24   0.099   2.424\n"
     ]
    },
    {
     "data": {
      "text/plain": [
       "[<matplotlib.lines.Line2D at 0x16a663f46c8>]"
      ]
     },
     "execution_count": 104,
     "metadata": {},
     "output_type": "execute_result"
    },
    {
     "data": {
      "image/png": "[encoded data removed]",
      "text/plain": [
       "<Figure size 432x288 with 1 Axes>"
      ]
     },
     "metadata": {
      "needs_background": "light"
     },
     "output_type": "display_data"
    }
   ],
   "source": [
    "import math\n",
    "n=len(a)\n",
    "m=int(math.sqrt(n))\n",
    "h=round((a[-1]-a[0])/m,3)\n",
    "A=[a[0]]\n",
    "B=[]\n",
    "for i in range(1,m):\n",
    "    A.append(round(A[-1]+h,3))\n",
    "    B.append(A[-1])\n",
    "B.append(a[-1])\n",
    "j=0\n",
    "counter=0\n",
    "v=[]\n",
    "i=0\n",
    "while( i<n):\n",
    "    if (a[i]<=B[j]):\n",
    "        counter+=1\n",
    "        i+=1\n",
    "    else:\n",
    "        v.append(counter)\n",
    "        counter=0\n",
    "        j+=1\n",
    "v.append(counter)\n",
    "f=[]\n",
    "for i in range(m):\n",
    "    f.append(round(v[i]/(n*h),3))\n",
    "print(\"A[i] B[i] v[i] h[i] f[i]\")\n",
    "for i in range(m):\n",
    "    print(A[i],' ',B[i],' ',v[i],' ',h,' ',f[i])\n",
    "plt.step(B,f)\n",
    "\n",
    "\n",
    "    "
   ]
  },
  {
   "cell_type": "markdown",
   "metadata": {},
   "source": [
    "# Task 3"
   ]
  },
  {
   "cell_type": "markdown",
   "metadata": {},
   "source": [
    "Ряд инициализирован"
   ]
  },
  {
   "cell_type": "markdown",
   "metadata": {},
   "source": [
    "Инициализируем компоненты"
   ]
  },
  {
   "cell_type": "code",
   "execution_count": 105,
   "metadata": {},
   "outputs": [
    {
     "name": "stdout",
     "output_type": "stream",
     "text": [
      "A[i] B[i] v[i] h[i] f[i]\n",
      "0.01   0.15   10   0.14   0.5714285714285714\n",
      "0.15   0.3   10   0.15   0.6666666666666666\n",
      "0.3   0.415   10   0.115   0.8695652173913043\n",
      "0.415   0.59   10   0.175   0.5714285714285714\n",
      "0.59   0.66   10   0.07   1.4285714285714284\n",
      "0.66   0.75   10   0.09   1.1111111111111112\n",
      "0.75   0.86   10   0.11   0.9090909090909091\n",
      "0.86   0.94   10   0.08   1.25\n",
      "0.94   0.99   10   0.05   2.0\n",
      "0.99   1.0   10   0.01   10.0\n"
     ]
    },
    {
     "data": {
      "text/plain": [
       "[<matplotlib.lines.Line2D at 0x16a66549f88>]"
      ]
     },
     "execution_count": 105,
     "metadata": {},
     "output_type": "execute_result"
    },
    {
     "data": {
      "image/png": "[encoded data removed]",
      "text/plain": [
       "<Figure size 432x288 with 1 Axes>"
      ]
     },
     "metadata": {
      "needs_background": "light"
     },
     "output_type": "display_data"
    }
   ],
   "source": [
    "n=len(a)\n",
    "m=int(math.sqrt(n))\n",
    "V=[m]*m\n",
    "A=[a[0]] \n",
    "B=[(a[m]+a[m-1])/2]\n",
    "H=[round(B[0]-A[0],2)]\n",
    "F=[v[0]/(n*H[0])]\n",
    "for i in range(1,m):\n",
    "    A.append(B[i-1])\n",
    "    if (i!=m-1):\n",
    "        B.append((a[(m*(i+1))]+a[(m*(i+1))-1])/2)\n",
    "    else:\n",
    "        B.append(a[-1])\n",
    "    H.append(round(B[i]-A[i],3))\n",
    "    F.append(V[i]/(n*H[i]))\n",
    "print(\"A[i] B[i] v[i] h[i] f[i]\")\n",
    "for i in range(m):\n",
    "    print(A[i],' ',B[i],' ',V[i],' ',H[i],' ',F[i])\n",
    "plt.step(B,F)"
   ]
  },
  {
   "cell_type": "markdown",
   "metadata": {},
   "source": [
    "# Task 4  "
   ]
  },
  {
   "cell_type": "markdown",
   "metadata": {},
   "source": [
    "# 10-ый варик"
   ]
  },
  {
   "cell_type": "markdown",
   "metadata": {},
   "source": [
    "y=ln(x) a=1 b =5"
   ]
  },
  {
   "cell_type": "markdown",
   "metadata": {},
   "source": [
    "Пойдём шаагать по задаче"
   ]
  },
  {
   "cell_type": "markdown",
   "metadata": {},
   "source": [
    "1.1) Определить параметры равномерного распрееления"
   ]
  },
  {
   "cell_type": "code",
   "execution_count": 106,
   "metadata": {},
   "outputs": [],
   "source": [
    "a=1\n",
    "b=5\n",
    "fi = lambda x: math.log(x)\n",
    "n=100"
   ]
  },
  {
   "cell_type": "markdown",
   "metadata": {},
   "source": [
    "1.2) сформировать программными средставми равноперно распределенное число из интервала [0,1]"
   ]
  },
  {
   "cell_type": "code",
   "execution_count": 107,
   "metadata": {},
   "outputs": [],
   "source": [
    "import random\n",
    "e=[random.random() for i in range(n)]\n"
   ]
  },
  {
   "cell_type": "markdown",
   "metadata": {},
   "source": [
    "1.3) преобразовать число e в число x"
   ]
  },
  {
   "cell_type": "code",
   "execution_count": 108,
   "metadata": {},
   "outputs": [],
   "source": [
    "x=[e[i]*(b-a)+a for i in range(n)]\n",
    "x.sort()\n"
   ]
  },
  {
   "cell_type": "markdown",
   "metadata": {},
   "source": [
    "1.4) Получить случайное число"
   ]
  },
  {
   "cell_type": "code",
   "execution_count": 109,
   "metadata": {},
   "outputs": [],
   "source": [
    "Y=[fi(x[i]) for i in range(n)]\n"
   ]
  },
  {
   "cell_type": "markdown",
   "metadata": {},
   "source": [
    "2) Построить вариациооный ряд и эпирическую функцию распределения"
   ]
  },
  {
   "cell_type": "code",
   "execution_count": 110,
   "metadata": {},
   "outputs": [
    {
     "name": "stdout",
     "output_type": "stream",
     "text": [
      "100\n",
      "i : right corner of interval: value of function\n",
      "1   0.011666501826627627   0.0\n",
      "2   0.05777781347366599   0.01\n",
      "3   0.11612621248975084   0.02\n",
      "4   0.12009171586965668   0.03\n",
      "5   0.12819993546417896   0.04\n",
      "6   0.16333735501952668   0.05\n",
      "7   0.21324551560289712   0.06\n",
      "8   0.2359896967483046   0.07\n",
      "9   0.23727788964795551   0.08\n",
      "10   0.2774434633185954   0.09\n",
      "11   0.2864278688251291   0.1\n",
      "12   0.31554455496849165   0.11\n",
      "13   0.32294037750471344   0.12\n",
      "14   0.3417649459460788   0.13\n",
      "15   0.3763856592754277   0.14\n",
      "16   0.3983982694822417   0.15\n",
      "17   0.42847030922168894   0.16\n",
      "18   0.5319481486247766   0.17\n",
      "19   0.539658333016868   0.18\n",
      "20   0.5542041670922111   0.19\n",
      "21   0.5626088521804672   0.2\n",
      "22   0.5701297161138241   0.21\n",
      "23   0.6081423263391685   0.22\n",
      "24   0.6170735653233865   0.23\n",
      "25   0.716683652212855   0.24\n",
      "26   0.725258326564812   0.25\n",
      "27   0.7774526017608304   0.26\n",
      "28   0.7971444594150823   0.27\n",
      "29   0.8208729623869275   0.28\n",
      "30   0.8232442898935383   0.29\n",
      "31   0.8687007810364422   0.3\n",
      "32   0.8757940548691843   0.31\n",
      "33   0.8907532546195847   0.32\n",
      "34   0.9031618907498774   0.33\n",
      "35   0.9117406195441472   0.34\n",
      "36   0.9117797971145554   0.35\n",
      "37   0.9511132165369982   0.36\n",
      "38   0.9543994875649378   0.37\n",
      "39   0.9569952441658803   0.38\n",
      "40   0.9601201443872716   0.39\n",
      "41   0.977215973204066   0.4\n",
      "42   1.0252307105099208   0.41\n",
      "43   1.0260976063378724   0.42\n",
      "44   1.0280491927778297   0.43\n",
      "45   1.0318892057205957   0.44\n",
      "46   1.0617645505864057   0.45\n",
      "47   1.0669383933486023   0.46\n",
      "48   1.0812366604939057   0.47\n",
      "49   1.0976508337198811   0.48\n",
      "50   1.1101747417171042   0.49\n",
      "51   1.1125961293408042   0.5\n",
      "52   1.1152837982652735   0.51\n",
      "53   1.1202591949235488   0.52\n",
      "54   1.1412141044044275   0.53\n",
      "55   1.1421024601935417   0.54\n",
      "56   1.1566698152760548   0.55\n",
      "57   1.1592843690354218   0.56\n",
      "58   1.2089415613027117   0.57\n",
      "59   1.2094390603285432   0.58\n",
      "60   1.217244733905146   0.59\n",
      "61   1.2258353519734084   0.6\n",
      "62   1.2560239650992904   0.61\n",
      "63   1.2623297238601923   0.62\n",
      "64   1.2775338086965662   0.63\n",
      "65   1.2903058157865197   0.64\n",
      "66   1.3238659562324786   0.65\n",
      "67   1.3480657262708013   0.66\n",
      "68   1.356192078675422   0.67\n",
      "69   1.361668854770472   0.68\n",
      "70   1.3658383475143978   0.69\n",
      "71   1.3732877608620297   0.7\n",
      "72   1.3802501677072558   0.71\n",
      "73   1.3947330518047452   0.72\n",
      "74   1.3971190647311882   0.73\n",
      "75   1.411017510285768   0.74\n",
      "76   1.4264610193759795   0.75\n",
      "77   1.4288531339620423   0.76\n",
      "78   1.4298609772505595   0.77\n",
      "79   1.4342406278413589   0.78\n",
      "80   1.4486639163902553   0.79\n",
      "81   1.4634138879038345   0.8\n",
      "82   1.472900441261525   0.81\n",
      "83   1.4836687474627668   0.82\n",
      "84   1.4870581578943374   0.83\n",
      "85   1.491705133789235   0.84\n",
      "86   1.4963873401300576   0.85\n",
      "87   1.4986090242321208   0.86\n",
      "88   1.5031345825778326   0.87\n",
      "89   1.5058169811464035   0.88\n",
      "90   1.5187912702845063   0.89\n",
      "91   1.5217277456974871   0.9\n",
      "92   1.5275999521417603   0.91\n",
      "93   1.5375786147874597   0.92\n",
      "94   1.5435923318297515   0.93\n",
      "95   1.5530172930157538   0.94\n",
      "96   1.5663552910268232   0.95\n",
      "97   1.569366658044892   0.96\n",
      "98   1.592313422900743   0.97\n",
      "99   1.601780046995241   0.98\n",
      "100   1.6062921859712846   0.99\n"
     ]
    },
    {
     "data": {
      "text/plain": [
       "[<matplotlib.lines.Line2D at 0x16a66591f08>]"
      ]
     },
     "execution_count": 110,
     "metadata": {},
     "output_type": "execute_result"
    },
    {
     "data": {
      "image/png": "[encoded data removed]",
      "text/plain": [
       "<Figure size 432x288 with 1 Axes>"
      ]
     },
     "metadata": {
      "needs_background": "light"
     },
     "output_type": "display_data"
    }
   ],
   "source": [
    "var=Y\n",
    "var.sort()\n",
    "y=lambda x: np.ln(x)\n",
    "p=[]\n",
    "interval=[]\n",
    "flag=0\n",
    "\n",
    "for index in range(len(var)):\n",
    "    if (abs(var[index]-flag)>10**-6):\n",
    "        \n",
    "        flag=var[index]\n",
    "        interval.append(var[index])\n",
    "        p.append(index/len(var))\n",
    "        \n",
    "\n",
    "print(len(p))\n",
    "print(\"i : right corner of interval: value of function\")\n",
    "for i in range(len(var)):\n",
    "    print(i+1,' ',interval[i],' ',p[i])\n",
    "plt.step(interval,p)\n",
    "\n"
   ]
  },
  {
   "cell_type": "markdown",
   "metadata": {},
   "source": [
    "3) Найти теоретическую функцию"
   ]
  },
  {
   "cell_type": "markdown",
   "metadata": {},
   "source": [
    "График напоминает экспоненту"
   ]
  },
  {
   "cell_type": "markdown",
   "metadata": {},
   "source": [
    "Но т.к экспонента управляется видом a*exp(x)+b=y\n",
    "то, используя таблицу из пункта 2\n",
    "попробуем найти параметры a и b т.е решим систему уравнений\n",
    "a*exp(0.02543121069808559)+b=0\n",
    "b*exp(1.5994995766511069)+b=0.99\n",
    "a=0.255242\n",
    "b=-0.258739\n",
    "Таким образом мы нашли теоретически функцию распределения аналитическим способом, как и требовало условие"
   ]
  },
  {
   "cell_type": "code",
   "execution_count": 111,
   "metadata": {},
   "outputs": [
    {
     "data": {
      "text/plain": [
       "[<matplotlib.lines.Line2D at 0x16a66549c08>]"
      ]
     },
     "execution_count": 111,
     "metadata": {},
     "output_type": "execute_result"
    },
    {
     "data": {
      "image/png": "[encoded data removed]",
      "text/plain": [
       "<Figure size 432x288 with 1 Axes>"
      ]
     },
     "metadata": {
      "needs_background": "light"
     },
     "output_type": "display_data"
    }
   ],
   "source": [
    "x=np.array(x)\n",
    "plt.step(interval,p)\n",
    "u = np.arange(0, 1.6, 0.01)\n",
    "plt.plot(u,0.252242*np.exp(u)-0.258739)"
   ]
  },
  {
   "cell_type": "markdown",
   "metadata": {},
   "source": [
    "синяя линия - график эмперики\n",
    "оранжевая - график теоретики"
   ]
  },
  {
   "cell_type": "markdown",
   "metadata": {},
   "source": [
    "# Поставьте 60"
   ]
  },
  {
   "cell_type": "code",
   "execution_count": null,
   "metadata": {},
   "outputs": [],
   "source": []
  }
 ],
 "metadata": {
  "kernelspec": {
   "display_name": "Python 3",
   "language": "python",
   "name": "python3"
  },
  "language_info": {
   "codemirror_mode": {
    "name": "ipython",
    "version": 3
   },
   "file_extension": ".py",
   "mimetype": "text/x-python",
   "name": "python",
   "nbconvert_exporter": "python",
   "pygments_lexer": "ipython3",
   "version": "3.8.2"
  }
 },
 "nbformat": 4,
 "nbformat_minor": 4
}
