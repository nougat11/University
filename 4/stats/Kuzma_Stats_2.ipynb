{
 "cells": [
  {
   "cell_type": "markdown",
   "metadata": {},
   "source": [
    "# Задание 1"
   ]
  },
  {
   "cell_type": "markdown",
   "metadata": {},
   "source": [
    "# подберём интервал выборки"
   ]
  },
  {
   "cell_type": "markdown",
   "metadata": {},
   "source": [
    "ln(x)=0; x=1 || ln(x)=1; x=exp(1)"
   ]
  },
  {
   "cell_type": "markdown",
   "metadata": {},
   "source": [
    "Таким образом интервал [1,e]"
   ]
  },
  {
   "cell_type": "markdown",
   "metadata": {},
   "source": [
    "Делаем выборку из 200-от элементов, во избежании всяческих ошибок сделаем крайник элементы равными их границам(можно отключить, закомментировав препоследнюю строку, однако теоретическая сумма вероятности не будет равна 1)"
   ]
  },
  {
   "cell_type": "code",
   "execution_count": 157,
   "metadata": {},
   "outputs": [],
   "source": [
    "import random\n",
    "import numpy as np\n",
    "import matplotlib.pyplot as plt\n",
    "a=1\n",
    "b=np.exp(1)\n",
    "N=200\n",
    "X=[a+random.random()*(b-a) for _ in range(200)]\n",
    "X[0]=a; X[-1]=b\n",
    "X=sorted(X)"
   ]
  },
  {
   "cell_type": "markdown",
   "metadata": {},
   "source": [
    "Строим гистограмму равновероятностным способом"
   ]
  },
  {
   "cell_type": "code",
   "execution_count": 158,
   "metadata": {},
   "outputs": [],
   "source": [
    "def histogram(a):\n",
    "    n=len(a)\n",
    "    m=10\n",
    "    V=[n/m]*m\n",
    "    v=20\n",
    "    A=[a[0]] \n",
    "    B=[(a[m]+a[m-1])/2]\n",
    "    H=[round(B[0]-A[0],2)]\n",
    "    F=[V[0]/(n*H[0])]\n",
    "    for i in range(1,m):\n",
    "        A.append(B[i-1])\n",
    "        if (i!=m-1):\n",
    "            B.append((a[(v*(i+1))]+a[(v*(i+1))-1])/2)\n",
    "        else:\n",
    "            B.append(a[-1])\n",
    "        H.append(round(B[i]-A[i],3))\n",
    "        F.append(V[i]/(n*H[i]))\n",
    "    print(\"A[i] B[i] v[i] h[i] f[i]\")\n",
    "    for i in range(m):\n",
    "        print(A[i],' ',B[i],' ',V[i],' ',H[i],' ',F[i])\n",
    "    return A,B,V,H,F\n",
    "    B=[A[0]]+B\n",
    "    F=[0]+F\n",
    "def plot_hist(A,B,F):\n",
    "    B=[A[0]]+B+[B[-1]+0.001]\n",
    "    F=[0]+F+[0]\n",
    "    plt.step(B,F)\n",
    "    "
   ]
  },
  {
   "cell_type": "code",
   "execution_count": 159,
   "metadata": {},
   "outputs": [
    {
     "name": "stdout",
     "output_type": "stream",
     "text": [
      "A[i] B[i] v[i] h[i] f[i]\n",
      "1   1.0512822204450578   20.0   0.05   2.0\n",
      "1.0512822204450578   1.314807807938938   20.0   0.264   0.3787878787878788\n",
      "1.314807807938938   1.5174160600987603   20.0   0.203   0.49261083743842365\n",
      "1.5174160600987603   1.6601844648108859   20.0   0.143   0.6993006993006994\n",
      "1.6601844648108859   1.9118619396398686   20.0   0.252   0.39682539682539686\n",
      "1.9118619396398686   2.046438622386333   20.0   0.135   0.7407407407407407\n",
      "2.046438622386333   2.226180820890775   20.0   0.18   0.5555555555555556\n",
      "2.226180820890775   2.377442121382626   20.0   0.151   0.6622516556291391\n",
      "2.377442121382626   2.5481385810778434   20.0   0.171   0.5847953216374269\n",
      "2.5481385810778434   2.718281828459045   20.0   0.17   0.5882352941176471\n"
     ]
    },
    {
     "data": {
      "image/png": "[encoded data removed]",
      "text/plain": [
       "<Figure size 432x288 with 1 Axes>"
      ]
     },
     "metadata": {
      "needs_background": "light"
     },
     "output_type": "display_data"
    }
   ],
   "source": [
    "A,B,V,H,F = histogram(X)\n",
    "plot_hist(A,B,F)"
   ]
  },
  {
   "cell_type": "markdown",
   "metadata": {},
   "source": [
    "Рассчитаем теоретическую вероятность попадания случайной величины при условии, что гипотеза верна, и значение критерия"
   ]
  },
  {
   "cell_type": "code",
   "execution_count": 160,
   "metadata": {},
   "outputs": [],
   "source": [
    "f=lambda x: np.log(x)\n",
    "p,pp,cc,qq=[],[],[],[]\n",
    "for i in range(len(B)):\n",
    "    p.append(f(B[i])-f(A[i]))\n",
    "    c=(p[-1]-0.1)**2\n",
    "    pp.append(N*c/p[-1])"
   ]
  },
  {
   "cell_type": "markdown",
   "metadata": {},
   "source": [
    "# Промежуточные результаты"
   ]
  },
  {
   "cell_type": "code",
   "execution_count": 161,
   "metadata": {},
   "outputs": [
    {
     "name": "stdout",
     "output_type": "stream",
     "text": [
      "i F(A[i]) F(B[i]) p p* критерий для хи квадрата\n",
      "1   0.0   0.05001058148580098   0.05001058148580098   9.99365289962583\n",
      "2   0.05001058148580098   0.2736905012896389   0.22367991980383792   13.677331944770588\n",
      "3   0.2736905012896389   0.41700892782441495   0.14331842653477606   2.61862500561777\n",
      "4   0.41700892782441495   0.5069287195747582   0.0899197917503432   0.2260027439533327\n",
      "5   0.5069287195747582   0.6480776047208129   0.14114888514605473   2.3992123593624153\n",
      "6   0.6480776047208129   0.7161010249962092   0.06802342027539632   3.006322371748686\n",
      "7   0.7161010249962092   0.8002874808618949   0.08418645586568574   0.5940817332585503\n",
      "8   0.8002874808618949   0.8660251708225216   0.06573768996062668   3.571485064161057\n",
      "9   0.8660251708225216   0.9353631244090511   0.0693379535865295   2.7118224338379306\n",
      "10   0.9353631244090511   1.0   0.06463687559094888   3.869464780086438\n",
      "Хи - квадрат =  42.6680013364226\n"
     ]
    }
   ],
   "source": [
    "print(\"i F(A[i]) F(B[i]) p p* критерий для хи квадрата\")\n",
    "for i in range(len(B)):\n",
    "    print(i+1,' ',f(A[i]),' ',f(B[i]),' ',p[i],' ',pp[i])\n",
    "print(\"Хи - квадрат = \",sum(pp))"
   ]
  },
  {
   "cell_type": "markdown",
   "metadata": {},
   "source": [
    "M = 10, S=0 k=9, значение из таблицы => 21.07"
   ]
  },
  {
   "cell_type": "code",
   "execution_count": 134,
   "metadata": {},
   "outputs": [
    {
     "name": "stdout",
     "output_type": "stream",
     "text": [
      "Гипотеза отклоняется\n"
     ]
    }
   ],
   "source": [
    "if (sum(pp)<21.07):\n",
    "    print(\"Нет оснований отклонять выдвинутую гипотезу\")\n",
    "else:\n",
    "    print(\"Гипотеза отклоняется\")"
   ]
  },
  {
   "cell_type": "markdown",
   "metadata": {},
   "source": [
    "# Модифицированная версия для любого интервала"
   ]
  },
  {
   "cell_type": "code",
   "execution_count": 165,
   "metadata": {},
   "outputs": [],
   "source": [
    "a=1\n",
    "b=5\n",
    "N=200\n",
    "X=[a+random.random()*(b-a) for _ in range(200)]\n",
    "X[0]=a; X[-1]=b\n",
    "Y=[np.log(x) for x in X]\n",
    "Y=sorted(Y)"
   ]
  },
  {
   "cell_type": "code",
   "execution_count": 166,
   "metadata": {},
   "outputs": [
    {
     "name": "stdout",
     "output_type": "stream",
     "text": [
      "A[i] B[i] v[i] h[i] f[i]\n",
      "0.0   0.14547391104297486   20.0   0.15   0.6666666666666666\n",
      "0.14547391104297486   0.609039342806032   20.0   0.464   0.21551724137931033\n",
      "0.609039342806032   0.8044386348564734   20.0   0.195   0.5128205128205128\n",
      "0.8044386348564734   0.9263090308728454   20.0   0.122   0.819672131147541\n",
      "0.9263090308728454   1.0310233361264438   20.0   0.105   0.9523809523809523\n",
      "1.0310233361264438   1.1726837806957087   20.0   0.142   0.7042253521126761\n",
      "1.1726837806957087   1.3228354174000154   20.0   0.15   0.6666666666666666\n",
      "1.3228354174000154   1.429090058111159   20.0   0.106   0.9433962264150944\n",
      "1.429090058111159   1.523587026915937   20.0   0.094   1.0638297872340425\n",
      "1.523587026915937   1.6094379124341003   20.0   0.086   1.1627906976744187\n"
     ]
    },
    {
     "data": {
      "image/png": "[encoded data removed]",
      "text/plain": [
       "<Figure size 432x288 with 1 Axes>"
      ]
     },
     "metadata": {
      "needs_background": "light"
     },
     "output_type": "display_data"
    }
   ],
   "source": [
    "A,B,V,H,F = histogram(Y)\n",
    "plot_hist(A,B,F)"
   ]
  },
  {
   "cell_type": "markdown",
   "metadata": {},
   "source": [
    "Далее, чтобы работать нам требуется модификация из функции в функцию распределения = обратной функции - a/(b-a)"
   ]
  },
  {
   "cell_type": "markdown",
   "metadata": {},
   "source": [
    "Рассчитаем теоретическую вероятность попадания случайной величины при условии, что гипотеза верна, и значение критерия"
   ]
  },
  {
   "cell_type": "code",
   "execution_count": 170,
   "metadata": {},
   "outputs": [],
   "source": [
    "f=lambda x: (np.exp(x)-a)/(b-a)\n",
    "p,pp,cc,qq=[],[],[],[]\n",
    "for i in range(len(B)):\n",
    "    p.append(f(B[i])-f(A[i]))\n",
    "    c=(p[-1]-0.1)**2\n",
    "    pp.append(N*c/p[-1])"
   ]
  },
  {
   "cell_type": "markdown",
   "metadata": {},
   "source": [
    "Промежуточные значения"
   ]
  },
  {
   "cell_type": "code",
   "execution_count": 171,
   "metadata": {},
   "outputs": [
    {
     "name": "stdout",
     "output_type": "stream",
     "text": [
      "i F(A[i]) F(B[i]) p p* критерий для хи квадрата\n",
      "1   0.0   0.039146890006357515   0.039146890006357515   18.91900478069631\n",
      "2   0.039146890006357515   0.20966605601971094   0.17051916601335343   5.832720029641086\n",
      "3   0.20966605601971094   0.3088603119322424   0.09919425591253145   0.0013089942124532236\n",
      "4   0.3088603119322424   0.3812929063499769   0.07243259441773453   2.0983974318364362\n",
      "5   0.3812929063499769   0.4509834334305842   0.0696905270806073   2.6364103907230607\n",
      "6   0.4509834334305842   0.5576628435124863   0.10667941008190207   0.08364223050720396\n",
      "7   0.5576628435124863   0.6885126503479612   0.13084980683547487   1.4546610420032993\n",
      "8   0.6885126503479612   0.7937246369831195   0.1052119866351583   0.05163823163850621\n",
      "9   0.7937246369831195   0.8971638350129947   0.10343919802987522   0.022869634169594782\n",
      "10   0.8971638350129947   0.9999999999999998   0.1028361649870051   0.015643974733071865\n",
      "Хи - квадрат =  31.11629674016102\n"
     ]
    }
   ],
   "source": [
    "print(\"i F(A[i]) F(B[i]) p p* критерий для хи квадрата\")\n",
    "for i in range(len(B)):\n",
    "    print(i+1,' ',f(A[i]),' ',f(B[i]),' ',p[i],' ',pp[i])\n",
    "print(\"Хи - квадрат = \",sum(pp))"
   ]
  },
  {
   "cell_type": "code",
   "execution_count": 172,
   "metadata": {},
   "outputs": [
    {
     "name": "stdout",
     "output_type": "stream",
     "text": [
      "Гипотеза отклоняется\n"
     ]
    }
   ],
   "source": [
    "if (sum(pp)<21.07):\n",
    "    print(\"Нет оснований отклонять выдвинутую гипотезу\")\n",
    "else:\n",
    "    print(\"Гипотеза отклоняется\")"
   ]
  },
  {
   "cell_type": "markdown",
   "metadata": {},
   "source": [
    "# Задание 2"
   ]
  },
  {
   "cell_type": "markdown",
   "metadata": {},
   "source": [
    "Построим выборку из 30-и элементов"
   ]
  },
  {
   "cell_type": "code",
   "execution_count": 244,
   "metadata": {},
   "outputs": [],
   "source": [
    "a=1\n",
    "b=5\n",
    "N=30\n",
    "X=[a+random.random()*(b-a) for _ in range(N)]\n",
    "Y=[np.log(x) for x in X]\n",
    "var=sorted(Y)"
   ]
  },
  {
   "cell_type": "markdown",
   "metadata": {},
   "source": [
    "Построим эмпирическу функцию распределения"
   ]
  },
  {
   "cell_type": "code",
   "execution_count": 245,
   "metadata": {},
   "outputs": [
    {
     "data": {
      "text/plain": [
       "[<matplotlib.lines.Line2D at 0x1212c2e0>]"
      ]
     },
     "execution_count": 245,
     "metadata": {},
     "output_type": "execute_result"
    },
    {
     "data": {
      "image/png": "[encoded data removed]",
      "text/plain": [
       "<Figure size 432x288 with 1 Axes>"
      ]
     },
     "metadata": {
      "needs_background": "light"
     },
     "output_type": "display_data"
    }
   ],
   "source": [
    "flag=0\n",
    "interval=[]\n",
    "p=[]\n",
    "for index in range(len(var)):\n",
    "    if (var[index]!=flag):\n",
    "        flag=var[index]\n",
    "        interval.append(var[index])\n",
    "        p.append(index/len(var))\n",
    "interval.append(interval[-1]+0.01)\n",
    "p.append(1)\n",
    "plt.step(interval,p)\n",
    "u = np.arange(0, 1.6, 0.01)\n",
    "plt.plot(u,0.252242*np.exp(u)-0.258739)\n",
    "\n",
    "\n"
   ]
  },
  {
   "cell_type": "markdown",
   "metadata": {},
   "source": [
    "Теоретическая функция = теоретической из прошлой лабы"
   ]
  },
  {
   "cell_type": "markdown",
   "metadata": {},
   "source": [
    "выведем критерий"
   ]
  },
  {
   "cell_type": "code",
   "execution_count": 257,
   "metadata": {},
   "outputs": [
    {
     "name": "stdout",
     "output_type": "stream",
     "text": [
      "Нет оснований для отклонения\n"
     ]
    }
   ],
   "source": [
    "f=lambda x:0.252242*np.exp(x)-0.258739\n",
    "M=0\n",
    "for x in range(len(interval)):\n",
    "    M=max(abs(f(interval[x])-p[x]),M)\n",
    "M*=np.sqrt(N)\n",
    "if (M<1.43):\n",
    "    print(\"Нет оснований для отклонения\")\n",
    "else:\n",
    "    print(\"Отказ\")\n"
   ]
  },
  {
   "cell_type": "markdown",
   "metadata": {},
   "source": [
    "# Задание 3"
   ]
  },
  {
   "cell_type": "markdown",
   "metadata": {},
   "source": [
    "Генерим выборку из 50-и элементов"
   ]
  },
  {
   "cell_type": "code",
   "execution_count": 264,
   "metadata": {},
   "outputs": [],
   "source": [
    "a=1\n",
    "b=5\n",
    "N=50\n",
    "X=[a+random.random()*(b-a) for _ in range(N)]\n",
    "X=sorted(X)\n",
    "Y=[np.log(x) for x in X]\n",
    "\n"
   ]
  },
  {
   "cell_type": "markdown",
   "metadata": {},
   "source": [
    "посчитаем промежуточные значения"
   ]
  },
  {
   "cell_type": "code",
   "execution_count": 265,
   "metadata": {},
   "outputs": [
    {
     "name": "stdout",
     "output_type": "stream",
     "text": [
      "i x Fn F D\n",
      "1   1.0083131770931968   -0.01   0.008278812955259637   0.00033411500305336757\n",
      "2   1.1820719731298048   0.01   0.16726880810288855   0.024733478002103182\n",
      "3   1.2500668814669154   0.03   0.2231970550563913   0.0373251020824623\n",
      "4   1.3418826412061766   0.05   0.2940735840594193   0.059571914435610426\n",
      "5   1.347757467609732   0.07   0.29844207613171764   0.05218578214736947\n",
      "6   1.3593894644173834   0.09   0.30703567572925095   0.04710448453925257\n",
      "7   1.3950784257818776   0.11   0.33295063289156757   0.049706984706750536\n",
      "8   1.520897532922509   0.13   0.4193006427780375   0.08369486191178567\n",
      "9   1.5217299721942616   0.15   0.4198478272698118   0.0728178498822382\n",
      "10   1.6834555188550602   0.17   0.5208485374434134   0.12309469622618224\n",
      "11   1.780459405903771   0.19   0.576871424208038   0.14966949886875572\n",
      "12   1.7976676531624332   0.21   0.5864900764513947   0.14174477766637708\n",
      "13   2.0857439996900484   0.23   0.7351256259842336   0.25515189802596383\n",
      "14   2.1705721954793344   0.25   0.7749908173463953   0.2756153582980362\n",
      "15   2.170941238151338   0.27   0.7751608238100556   0.255187457912454\n",
      "16   2.1963288221142387   0.29   0.7867872492840341   0.24679757105119707\n",
      "17   2.2117370700555563   0.31   0.7937782113398806   0.23404135776721416\n",
      "18   2.2172563272236068   0.33   0.7962705429059859   0.2174082191818428\n",
      "19   2.3878208189091095   0.35   0.8703811587575081   0.2707965503898069\n",
      "20   2.40729166467739   0.37   0.8785023249861441   0.25857461451631414\n",
      "21   2.4701696322110807   0.39   0.9042868252902627   0.2644909386671372\n",
      "22   2.5430253511603005   0.41   0.9333544553876579   0.273899885974112\n",
      "23   2.72124358013652   0.43   1.0010889744040836   0.32614261668590816\n",
      "24   2.8108046605840844   0.45   1.033470798433323   0.3404381726244194\n",
      "25   3.010364072399031   0.47   1.1020610257317969   0.39950114024913125\n",
      "26   3.134774283113501   0.49   1.1425571724859733   0.42583086336288833\n",
      "27   3.139143443715424   0.51   1.143949974080916   0.4018925696371941\n",
      "28   3.1558542480712135   0.53   1.1492592194302427   0.3834819808493534\n",
      "29   3.2099531913719184   0.55   1.1662563549084761   0.3797718949650816\n",
      "30   3.3596105667852907   0.57   1.211825064515398   0.41193941344019497\n",
      "31   3.3901992747616627   0.59   1.220888702780234   0.39802055529572644\n",
      "32   3.438038809723816   0.61   1.2349011953564595   0.39050150395793193\n",
      "33   3.465858886044607   0.63   1.2429604766863422   0.3757205459795479\n",
      "34   3.5662656337827596   0.65   1.2715190073516693   0.3862858764994044\n",
      "35   3.6150871518870504   0.67   1.2851159637259482   0.37836764883050195\n",
      "36   3.731267493281335   0.69   1.3167479864643907   0.39281303853716815\n",
      "37   3.7880916423062816   0.71   1.3318623678258799   0.38671280451800993\n",
      "38   3.814006357408652   0.73   1.3386801740380474   0.3704915542669877\n",
      "39   3.89383205764653   0.75   1.359393777526504   0.37136077608802215\n",
      "40   3.9875486276155674   0.77   1.3831766630499127   0.37598562010902614\n",
      "41   4.024377076457238   0.79   1.3923701352802944   0.36284977987760014\n",
      "42   4.201311223796374   0.81   1.4353966727082415   0.3911209982345392\n",
      "43   4.311796331491868   0.83   1.4613545995347534   0.39860863035368893\n",
      "44   4.418067868504846   0.85   1.4857024666963317   0.4041176261638007\n",
      "45   4.547433397275517   0.87   1.5145629852942042   0.41546144201137647\n",
      "46   4.67359715849501   0.89   1.5419290446605285   0.42501147927198935\n",
      "47   4.721305037761655   0.91   1.5520852524320556   0.41227347139073656\n",
      "48   4.782937860147277   0.93   1.5650549727984358   0.4032948184760219\n",
      "49   4.793591233908699   0.95   1.567279866191739   0.38103443320569136\n",
      "50   4.983247688504685   0.97   1.6060818247676598   0.4046000877997559\n"
     ]
    }
   ],
   "source": [
    "Fn,D=[],[]\n",
    "for i in range(N):\n",
    "    Fn.append((i-0.5)/50)\n",
    "    D.append((Fn[i]-Y[i])**2)\n",
    "print(\"i x Fn F D\")\n",
    "for i in range(N):\n",
    "    print(i+1,\" \",X[i],\" \",Fn[i],\" \",Y[i],\" \",D[i])"
   ]
  },
  {
   "cell_type": "markdown",
   "metadata": {},
   "source": [
    "От входных параметров граница 0.744 чекаем на правдободобность"
   ]
  },
  {
   "cell_type": "code",
   "execution_count": 266,
   "metadata": {},
   "outputs": [
    {
     "name": "stdout",
     "output_type": "stream",
     "text": [
      "Гипотеза верна\n"
     ]
    }
   ],
   "source": [
    "if (sum(D))/(12*N)<:\n",
    "    print(\"Гипотеза верна\")\n",
    "else:\n",
    "    print(\"Отказ\")"
   ]
  },
  {
   "cell_type": "markdown",
   "metadata": {},
   "source": [
    "# Поставьте 65"
   ]
  },
  {
   "cell_type": "code",
   "execution_count": null,
   "metadata": {},
   "outputs": [],
   "source": []
  }
 ],
 "metadata": {
  "kernelspec": {
   "display_name": "Python 3",
   "language": "python",
   "name": "python3"
  },
  "language_info": {
   "codemirror_mode": {
    "name": "ipython",
    "version": 3
   },
   "file_extension": ".py",
   "mimetype": "text/x-python",
   "name": "python",
   "nbconvert_exporter": "python",
   "pygments_lexer": "ipython3",
   "version": "3.8.2"
  }
 },
 "nbformat": 4,
 "nbformat_minor": 4
}
