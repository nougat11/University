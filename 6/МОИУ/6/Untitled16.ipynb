{
  "nbformat": 4,
  "nbformat_minor": 0,
  "metadata": {
    "colab": {
      "name": "Untitled16.ipynb",
      "provenance": []
    },
    "kernelspec": {
      "name": "python3",
      "display_name": "Python 3"
    },
    "language_info": {
      "name": "python"
    }
  },
  "cells": [
    {
      "cell_type": "code",
      "metadata": {
        "colab": {
          "base_uri": "https://localhost:8080/"
        },
        "id": "7-xtFlMzHGoS",
        "outputId": "8b1febee-6330-4444-cceb-064760e2c4e6"
      },
      "source": [
        "import numpy as np\n",
        "A = np.array([[6, 6, 0],\n",
        "               [3, 0, 1]])\n",
        "D = np.array([[4,-2,0], [-2,4,0],[0,0,1]])\n",
        "b = np.array([[3,1]])\n",
        "c = np.array([-1, 0, 0])\n",
        "Jbz = [2, 3]\n",
        "Jb = [2,3]\n",
        "x = np.array([0, 0.5, 1])\n",
        "print(solve(D,c,a,Jb,x,Jbz))"
      ],
      "execution_count": null,
      "outputs": [
        {
          "output_type": "stream",
          "text": [
            "[-1.  0.  0.]\n",
            "Jbz [2, 3]\n",
            "[0. 0. 0.]\n",
            "Завершаем работу\n",
            "[0.2 0.7 0.8]\n"
          ],
          "name": "stdout"
        }
      ]
    },
    {
      "cell_type": "code",
      "metadata": {
        "colab": {
          "base_uri": "https://localhost:8080/",
          "height": 409
        },
        "id": "d3ODzNIW4sdH",
        "outputId": "09ec6dce-64b3-4558-f299-87bbf1684fa1"
      },
      "source": [
        "import numpy as np\n",
        "import math\n",
        "\n",
        "A = np.matrix([[6, 6, 0],\n",
        "               [3, 0, 1]])\n",
        "D = np.matrix([[4,-2,0], [-2,4,0],[0,0,1]])\n",
        "b = np.matrix([[3,1]])\n",
        "c = np.matrix([[-1], [0], [0]])\n",
        "J_on = [2, 3]\n",
        "J_ = [2,3]\n",
        "x = np.matrix([[0], [0.5], [1]])\n",
        "\n",
        "\n",
        "\n",
        "def end_method_for_quadratic_task(A, D, b, c, optimal_indexes, right_optimal_indexes, optimal_plan):\n",
        "    iteration = 0\n",
        "    while True:\n",
        "        print('\\n------- Итерация № {} -------'.format(iteration))\n",
        "\n",
        "        a_b_matrix = A[:, optimal_indexes]\n",
        "        inverse_a_b_matrix = np.linalg.inv(a_b_matrix)\n",
        "\n",
        "        print('\\nБазисная матрица А:\\n {}\\n'.format(a_b_matrix))\n",
        "        print('Обратная бащисная матрица А:\\n {}\\n'.format(inverse_a_b_matrix))\n",
        "\n",
        "        vector_c_x = c + D * optimal_plan\n",
        "        print(\"Вектор с: \\n{}\".format(vector_c_x))\n",
        "\n",
        "        c_b = np.matrix([[vector_c_x.item(i)] for i in optimal_indexes])\n",
        "        print(\"\\nБазисный вектор с: \\n{}\".format(c_b))\n",
        "\n",
        "        u = -c_b.transpose() * inverse_a_b_matrix\n",
        "        print(\"\\nВектор потенциалов u: {}\".format(u))\n",
        "\n",
        "        delta = u * A + vector_c_x.transpose()\n",
        "        print('\\nВектор оценок: {}'.format(delta))\n",
        "\n",
        "        negative_elements_indexes = get_negative_elements_in_list_indexes(delta.tolist()[0], optimal_indexes)\n",
        "        print(\"\\nИндексы негативных элементов: {}\".format(negative_elements_indexes))\n",
        "\n",
        "        if len(negative_elements_indexes) == 0:\n",
        "            break\n",
        "\n",
        "        j0 = negative_elements_indexes[0]\n",
        "        print('j0: {}\\n'.format(j0))\n",
        "\n",
        "        delta_j0 = delta.item(j0)\n",
        "        l = calculate_l(A, right_optimal_indexes, j0, delta_j0, D)\n",
        "        print(\"Вектор l: {}\".format(l))\n",
        "\n",
        "        min_theta_index, min_theta = calculate_thetas(l, D, optimal_plan, j0, delta_j0, right_optimal_indexes)\n",
        "        print(\"\\nj*: {}\\n\".format(min_theta_index))\n",
        "\n",
        "        optimal_plan = optimal_plan + min_theta * l.transpose()\n",
        "        print(\"\\nТекущий оптимальный план:\\n {}\".format(optimal_plan))\n",
        "\n",
        "        update_indexes(optimal_indexes, right_optimal_indexes, j0, min_theta_index, inverse_a_b_matrix, A)\n",
        "\n",
        "        print(\"\\nОпора ограничений: {}\".format(optimal_indexes))\n",
        "        print(\"\\nПравильные оптимальные индексы: {}\".format(right_optimal_indexes))\n",
        "\n",
        "        iteration += 1\n",
        "    return optimal_plan, optimal_indexes, right_optimal_indexes\n",
        "\n",
        "\n",
        "def get_negative_elements_in_list_indexes(elements_list, basis_indexes):\n",
        "    not_basis_indexes = [index for index in range(len(elements_list)) if index not in basis_indexes]\n",
        "    indexes = [not_basis_indexes[index] for index in range(len(not_basis_indexes))\n",
        "               if elements_list[not_basis_indexes[index]] < -0.33]\n",
        "    return indexes\n",
        "\n",
        "\n",
        "def calculate_l(a_matrix, right_optimal_indexes, j0, delta_j0, d_matrix):\n",
        "    sign = lambda x: (1, -1)[x < 0]\n",
        "\n",
        "    elements_count = len(a_matrix.tolist()[0])\n",
        "    l = [0] * elements_count\n",
        "    l[j0] = -sign(delta_j0)\n",
        "\n",
        "    a_b = a_matrix[:, right_optimal_indexes].tolist()\n",
        "\n",
        "    indexes_count = len(right_optimal_indexes)\n",
        "\n",
        "    d_b = [[0] * indexes_count for _ in range(indexes_count)]\n",
        "    d_matrix = d_matrix.tolist()\n",
        "    i = 0\n",
        "    j = 0\n",
        "    for first_index in right_optimal_indexes:\n",
        "        for second_index in right_optimal_indexes:\n",
        "            d_b[i][j] = d_matrix[first_index][second_index]\n",
        "            j += 1\n",
        "\n",
        "        i += 1\n",
        "        j = 0\n",
        "\n",
        "    print(\"d*: {}\".format(d_b))\n",
        "\n",
        "    h = [[0] * (len(a_b) + indexes_count) for _ in range(len(a_b) + indexes_count)]\n",
        "\n",
        "    for i in range(len(h)):\n",
        "        for j in range(len(h[i])):\n",
        "            if i < indexes_count and j < indexes_count:\n",
        "                h[i][j] = d_b[i][j]\n",
        "\n",
        "            if i >= indexes_count > j:\n",
        "                h[i][j] = a_b[i - indexes_count][j]\n",
        "\n",
        "            if i < indexes_count <= j:\n",
        "                h[i][j] = a_b[j - indexes_count][i]\n",
        "\n",
        "    h = np.matrix(h)\n",
        "    print(\"Матрица h:\\n {}\".format(h))\n",
        "\n",
        "    b = [0] * indexes_count\n",
        "    for index in range(indexes_count):\n",
        "        b[index] = d_matrix[right_optimal_indexes[index]][j0]\n",
        "\n",
        "    for element in a_matrix[:, j0].tolist():\n",
        "        b.append(element[0])\n",
        "\n",
        "    b = np.matrix(b)\n",
        "\n",
        "    print(\"\\nВектор b: {}\".format(b))\n",
        "\n",
        "    x = -np.linalg.inv(h) * b.transpose()\n",
        "    print(\"Вектор x:\\n {}\".format(x))\n",
        "\n",
        "    i = 0\n",
        "    for optimal_index in right_optimal_indexes:\n",
        "        l[optimal_index] = x.item(i)\n",
        "        i += 1\n",
        "\n",
        "    return np.matrix(l)\n",
        "\n",
        "\n",
        "def calculate_thetas(l, d_matrix, optimal_plan, j0, delta_j0, right_optimal_indexes):\n",
        "    delta = (l * d_matrix * l.transpose()).item(0)\n",
        "    print(\"\\ndelta: {}\".format(delta))\n",
        "\n",
        "    thetas = {j0: math.inf if delta == 0 else math.fabs(delta_j0) / delta}\n",
        "\n",
        "    for optimal_index in right_optimal_indexes:\n",
        "        thetas[optimal_index] = (-optimal_plan.item(optimal_index) / l.item(optimal_index)\n",
        "                                 if l.item(optimal_index) < 0 else math.inf)\n",
        "\n",
        "    min_theta_index = min(thetas, key=thetas.get)\n",
        "    min_theta = thetas[min_theta_index]\n",
        "\n",
        "    if min_theta == math.inf:\n",
        "        raise Exception\n",
        "\n",
        "    return min_theta_index, min_theta\n",
        "\n",
        "\n",
        "def update_indexes(optimal_indexes, right_optimal_indexes, j0, min_theta_index, inverse_a_b, a_matrix):\n",
        "    if j0 == min_theta_index:\n",
        "        right_optimal_indexes.append(min_theta_index)\n",
        "        return\n",
        "\n",
        "    right_optimal_indexes_not_in_optimal_indexes = [index for index in right_optimal_indexes\n",
        "                                                    if index not in optimal_indexes]\n",
        "\n",
        "    if min_theta_index in right_optimal_indexes_not_in_optimal_indexes:\n",
        "        right_optimal_indexes.remove(min_theta_index)\n",
        "\n",
        "    if min_theta_index in optimal_indexes:\n",
        "        s = optimal_indexes.index(min_theta_index)\n",
        "\n",
        "        exists = False\n",
        "        j_plus = -1\n",
        "        for index_not_in_optimal_indexes in right_optimal_indexes_not_in_optimal_indexes:\n",
        "            value = inverse_a_b * a_matrix[:, index_not_in_optimal_indexes]\n",
        "\n",
        "            if value.item(s) != 0:\n",
        "                exists = True\n",
        "                j_plus = index_not_in_optimal_indexes\n",
        "                break\n",
        "\n",
        "        if exists:\n",
        "            right_optimal_indexes.remove(min_theta_index)\n",
        "            optimal_indexes[s] = j_plus\n",
        "\n",
        "            return\n",
        "\n",
        "        optimal_indexes[s] = j0\n",
        "        min_theta_index_in_right_optimal_indexes = right_optimal_indexes.index(min_theta_index)\n",
        "        right_optimal_indexes[min_theta_index_in_right_optimal_indexes] = j0\n",
        "\n",
        "\n",
        "x, J_on, J_ = end_method_for_quadratic_task(A, D,\n",
        "                                            b, c, J_on,\n",
        "                                            J_,\n",
        "                                            x)\n",
        "\n",
        "print(\"\\nКонечный метод:\")\n",
        "print(\"Оптимальный план:\\n {}\\nОпорные индексы {}\\nПравильные оптимальные индексы: {}\".format(x.transpose(),\n",
        "                                                                                  J_on,\n",
        "                                                                                  J_))"
      ],
      "execution_count": null,
      "outputs": [
        {
          "output_type": "stream",
          "text": [
            "\n",
            "------- Итерация № 0 -------\n"
          ],
          "name": "stdout"
        },
        {
          "output_type": "error",
          "ename": "IndexError",
          "evalue": "ignored",
          "traceback": [
            "\u001b[0;31m---------------------------------------------------------------------------\u001b[0m",
            "\u001b[0;31mIndexError\u001b[0m                                Traceback (most recent call last)",
            "\u001b[0;32m<ipython-input-24-1d8a3a2dd10c>\u001b[0m in \u001b[0;36m<module>\u001b[0;34m()\u001b[0m\n\u001b[1;32m    191\u001b[0m                                             \u001b[0mb\u001b[0m\u001b[0;34m,\u001b[0m \u001b[0mc\u001b[0m\u001b[0;34m,\u001b[0m \u001b[0mJ_on\u001b[0m\u001b[0;34m,\u001b[0m\u001b[0;34m\u001b[0m\u001b[0;34m\u001b[0m\u001b[0m\n\u001b[1;32m    192\u001b[0m                                             \u001b[0mJ_\u001b[0m\u001b[0;34m,\u001b[0m\u001b[0;34m\u001b[0m\u001b[0;34m\u001b[0m\u001b[0m\n\u001b[0;32m--> 193\u001b[0;31m                                             x)\n\u001b[0m\u001b[1;32m    194\u001b[0m \u001b[0;34m\u001b[0m\u001b[0m\n\u001b[1;32m    195\u001b[0m \u001b[0mprint\u001b[0m\u001b[0;34m(\u001b[0m\u001b[0;34m\"\\nКонечный метод:\"\u001b[0m\u001b[0;34m)\u001b[0m\u001b[0;34m\u001b[0m\u001b[0;34m\u001b[0m\u001b[0m\n",
            "\u001b[0;32m<ipython-input-24-1d8a3a2dd10c>\u001b[0m in \u001b[0;36mend_method_for_quadratic_task\u001b[0;34m(A, D, b, c, optimal_indexes, right_optimal_indexes, optimal_plan)\u001b[0m\n\u001b[1;32m     18\u001b[0m         \u001b[0mprint\u001b[0m\u001b[0;34m(\u001b[0m\u001b[0;34m'\\n------- Итерация № {} -------'\u001b[0m\u001b[0;34m.\u001b[0m\u001b[0mformat\u001b[0m\u001b[0;34m(\u001b[0m\u001b[0miteration\u001b[0m\u001b[0;34m)\u001b[0m\u001b[0;34m)\u001b[0m\u001b[0;34m\u001b[0m\u001b[0;34m\u001b[0m\u001b[0m\n\u001b[1;32m     19\u001b[0m \u001b[0;34m\u001b[0m\u001b[0m\n\u001b[0;32m---> 20\u001b[0;31m         \u001b[0ma_b_matrix\u001b[0m \u001b[0;34m=\u001b[0m \u001b[0mA\u001b[0m\u001b[0;34m[\u001b[0m\u001b[0;34m:\u001b[0m\u001b[0;34m,\u001b[0m \u001b[0moptimal_indexes\u001b[0m\u001b[0;34m]\u001b[0m\u001b[0;34m\u001b[0m\u001b[0;34m\u001b[0m\u001b[0m\n\u001b[0m\u001b[1;32m     21\u001b[0m         \u001b[0minverse_a_b_matrix\u001b[0m \u001b[0;34m=\u001b[0m \u001b[0mnp\u001b[0m\u001b[0;34m.\u001b[0m\u001b[0mlinalg\u001b[0m\u001b[0;34m.\u001b[0m\u001b[0minv\u001b[0m\u001b[0;34m(\u001b[0m\u001b[0ma_b_matrix\u001b[0m\u001b[0;34m)\u001b[0m\u001b[0;34m\u001b[0m\u001b[0;34m\u001b[0m\u001b[0m\n\u001b[1;32m     22\u001b[0m \u001b[0;34m\u001b[0m\u001b[0m\n",
            "\u001b[0;32m/usr/local/lib/python3.7/dist-packages/numpy/matrixlib/defmatrix.py\u001b[0m in \u001b[0;36m__getitem__\u001b[0;34m(self, index)\u001b[0m\n\u001b[1;32m    191\u001b[0m \u001b[0;34m\u001b[0m\u001b[0m\n\u001b[1;32m    192\u001b[0m         \u001b[0;32mtry\u001b[0m\u001b[0;34m:\u001b[0m\u001b[0;34m\u001b[0m\u001b[0;34m\u001b[0m\u001b[0m\n\u001b[0;32m--> 193\u001b[0;31m             \u001b[0mout\u001b[0m \u001b[0;34m=\u001b[0m \u001b[0mN\u001b[0m\u001b[0;34m.\u001b[0m\u001b[0mndarray\u001b[0m\u001b[0;34m.\u001b[0m\u001b[0m__getitem__\u001b[0m\u001b[0;34m(\u001b[0m\u001b[0mself\u001b[0m\u001b[0;34m,\u001b[0m \u001b[0mindex\u001b[0m\u001b[0;34m)\u001b[0m\u001b[0;34m\u001b[0m\u001b[0;34m\u001b[0m\u001b[0m\n\u001b[0m\u001b[1;32m    194\u001b[0m         \u001b[0;32mfinally\u001b[0m\u001b[0;34m:\u001b[0m\u001b[0;34m\u001b[0m\u001b[0;34m\u001b[0m\u001b[0m\n\u001b[1;32m    195\u001b[0m             \u001b[0mself\u001b[0m\u001b[0;34m.\u001b[0m\u001b[0m_getitem\u001b[0m \u001b[0;34m=\u001b[0m \u001b[0;32mFalse\u001b[0m\u001b[0;34m\u001b[0m\u001b[0;34m\u001b[0m\u001b[0m\n",
            "\u001b[0;31mIndexError\u001b[0m: index 3 is out of bounds for axis 1 with size 3"
          ]
        }
      ]
    },
    {
      "cell_type": "code",
      "metadata": {
        "colab": {
          "base_uri": "https://localhost:8080/"
        },
        "id": "HlI7ExpzHW0p",
        "outputId": "cba9e6b2-b1f5-479d-cf48-83fcaf410bf6"
      },
      "source": [
        "print(np.linalg.matrix_rank(a))"
      ],
      "execution_count": null,
      "outputs": [
        {
          "output_type": "stream",
          "text": [
            "2\n"
          ],
          "name": "stdout"
        }
      ]
    },
    {
      "cell_type": "code",
      "metadata": {
        "id": "WVR-8mwY93L8"
      },
      "source": [
        "def solve(D,c,a,Jb,x,Jbz):\n",
        "  while True:\n",
        "    cx = c + np.dot(D, x)\n",
        "    for i in range(len(cx)):\n",
        "      if abs(cx[i]) < 10 ** -6:\n",
        "        cx[i] = 0\n",
        "    cbx = [cx[i - 1] for i in Jb]\n",
        "    Ab = np.zeros((len(a), len(Jb)))\n",
        "    for i in range(len(Jb)):\n",
        "      Ab[:, i] = a[:, Jbz[i] - 1]\n",
        "    Ab_inv = np.linalg.inv(Ab)\n",
        "    ux = np.dot(np.negative(cbx), Ab_inv)\n",
        "    deltax = np.dot(ux, a) + cx\n",
        "    for i in range(len(deltax)):\n",
        "      if abs(deltax[i]) < 10**-6:\n",
        "        deltax[i] = 0\n",
        "    print(deltax)\n",
        "    if np.min(deltax) >= 0:\n",
        "      print('Завершаем работу')\n",
        "      return x\n",
        "    for i in range(len(deltax)):\n",
        "      if deltax[i] < 0:\n",
        "        j0 = i\n",
        "        break\n",
        "    Jnb = []\n",
        "    for i in range(1, len(a[0]) + 1):\n",
        "      if i not in Jbz:\n",
        "        Jnb.append(i)\n",
        "    Jnb = np.array(Jnb)\n",
        "    l = [0 for _ in range(len(a[0]))]\n",
        "    for i in range(len(Jnb)):\n",
        "      if Jnb[i] - 1 == j0:\n",
        "        l[Jnb[i] - 1] = 1\n",
        "    d = []\n",
        "    print('Jbz', Jbz)\n",
        "    for i in range(len(D)):\n",
        "      d.append([])\n",
        "      for j in range(len(D)):\n",
        "        if (i + 1) in Jbz and (j + 1) in Jbz:\n",
        "          d[-1].append(D[i][j])\n",
        "    i = 0\n",
        "    while i < len(d):\n",
        "      if len(d[i]) == 0:\n",
        "        d.pop(i)\n",
        "      else:\n",
        "        i += 1\n",
        "    d = np.array(d)\n",
        "    Abz = np.zeros((len(a), len(Jbz)))\n",
        "    for i in range(len(Jbz)):\n",
        "      Abz[:, i] = a[:, Jbz[i] - 1]\n",
        "    H = np.block([[d, np.transpose(Abz)], [Abz, np.zeros((2, 2))]])\n",
        "    H_inv = np.linalg.inv(H)\n",
        "    bz = []\n",
        "    for i in Jbz:\n",
        "      bz.append(D[j0][i - 1])\n",
        "    for i in range(len(a)):\n",
        "      bz.append(a[i][j0])\n",
        "    xx = np.dot(np.negative(H_inv), bz)\n",
        "    for i in range(len(Jbz)):\n",
        "      l[Jbz[i] - 1] = xx[i]\n",
        "    sigma = np.dot(np.dot(l, D), l)\n",
        "    tetta = [99999999 for _ in range(len(a[0]))]\n",
        "    tetta[j0] = 99999999 if sigma == 0 else abs(deltax[j0]) / sigma\n",
        "    for i in range(len(a[0])):\n",
        "      if i + 1 in Jbz:\n",
        "        if l[i] < 0:\n",
        "          tetta[i] = -(x[i] / l[i])\n",
        "    min, pi = 99999999, 99\n",
        "    for i in range(len(tetta)):\n",
        "      if tetta[i] < min:\n",
        "        min, pi = tetta[i], i\n",
        "    if min == 99999999:\n",
        "      print('Целевая функция не ограничена снизу на множестве допустимых планов')\n",
        "      return\n",
        "    x = x + np.dot(min, l)\n",
        "    f1 = np.setdiff1d(Jbz, Jb)\n",
        "    fl = 0\n",
        "    if pi == j0:\n",
        "      Jbz = np.append(Jbz, j0 + 1)\n",
        "    elif pi + 1 in f1:\n",
        "      Jbz = Jbz[Jbz != pi + 1]\n",
        "    else:\n",
        "      if pi + 1 in Jb:\n",
        "        for i in range(len(Jb)):\n",
        "          if Jb[i] == pi + 1:\n",
        "            s = i\n",
        "            break\n",
        "        for i in f1:\n",
        "          q = np.dot(Ab_inv, a[:, i-1])\n",
        "          if q[s] != 0:\n",
        "            for ii in range(len(Jb)):\n",
        "              if Jb[ii] == pi + 1:\n",
        "                Jb[ii] = i\n",
        "            Jbz = Jbz[Jbz != pi + 1]\n",
        "            fl = 1\n",
        "            break\n",
        "      if fl == 0:\n",
        "        if pi + 1 in Jb:\n",
        "          for i in range(len(Jb)):\n",
        "            if Jb[i] == pi + 1:\n",
        "              s = i\n",
        "              break\n",
        "          for i in f1:\n",
        "            q = np.dot(Ab_inv, a[:, i - 1])\n",
        "          if q[s] == 0:\n",
        "            for ii in range(len(Jb)):\n",
        "              if Jb[ii] == pi + 1:\n",
        "                Jb[ii] = j0 + 1\n",
        "            for ii in range(len(Jbz)):\n",
        "              if Jbz[ii] == pi + 1:\n",
        "                Jbz[ii] = j0 + 1\n",
        "          if np.array_equal(Jb, Jbz):\n",
        "            for ii in range(len(Jb)):\n",
        "              if Jb[ii] == pi + 1:\n",
        "                Jb[ii] = j0 + 1\n",
        "            for ii in range(len(Jbz)):\n",
        "              if Jbz[ii] == pi + 1:\n",
        "                Jbz[ii] = j0 + 1\n",
        "\n",
        "\n"
      ],
      "execution_count": null,
      "outputs": []
    },
    {
      "cell_type": "code",
      "metadata": {
        "id": "PAgkgq7wQd3K"
      },
      "source": [
        "def solve(D,c,a,Jb,x,Jbz):\n",
        "  while True:\n",
        "    cx = c + np.dot(D, x) # одиночный вектор даблов\n",
        "    for i in range(len(cx)): # инт\n",
        "      if abs(cx[i]) < 10 ** -6: # присвоение даблу с обоссаной точностью нулю\n",
        "        cx[i] = 0\n",
        "    cbx = [cx[i - 1] for i in Jb] # вектор даблов  базисный cx\n",
        "    Ab = np.zeros((len(a), len(Jb))) # инициализация базисной матрицы\n",
        "    for i in range(len(Jb)):\n",
        "      Ab[:, i] = a[:, Jbz[i] - 1] # присвоение столбцу базисного индекса\n",
        "    Ab_inv = np.linalg.inv(Ab) # обратная матрица от базисной\n",
        "    ux = np.dot(np.negative(cbx), Ab_inv) # вектор даблов ux\n",
        "    deltax = np.dot(ux, a) + cx # вектор даблов delta x\n",
        "    for i in range(len(deltax)):\n",
        "      if abs(deltax[i]) < 10**-6:\n",
        "        deltax[i] = 0 # если кастрированная точность то ставишь 0 10 ^ -16 например\n",
        "    print(deltax)\n",
        "    if np.min(deltax) >= 0: # если все положительные в делта икс то завершаешь работу возвращаешь x\n",
        "      print('Завершаем работу')\n",
        "      return x\n",
        "    for i in range(len(deltax)):\n",
        "      if deltax[i] < 0:\n",
        "        j0 = i # запоминмаешь индекс отрицательной компоненты deltax\n",
        "        break\n",
        "    print('asdasd')\n",
        "    Jnb = [] # вектор интов небазисные индексы\n",
        "    for i in range(1, len(a[0]) + 1):\n",
        "      if i not in Jbz:\n",
        "        Jnb.append(i)\n",
        "    Jnb = np.array(Jnb) # ну небазисные индексы\n",
        "    print('Jnb', Jnb)\n",
        "    l = [0 for _ in range(len(a[0]))] # вектор даблов состоит из нулей стольки сколько столбцов в матрице а \n",
        "    for i in range(len(Jnb)):\n",
        "      if Jnb[i] - 1 == j0: # в ту позицию где стоит j0 ставишь 1\n",
        "        l[Jnb[i] - 1] = 1\n",
        "    d = [] # матрица даблов d*\n",
        "    for i in range(len(D)):\n",
        "      d.append([])\n",
        "      for j in range(len(D)):\n",
        "        if (i + 1) in Jbz and (j + 1) in Jbz:\n",
        "          d[-1].append(D[i][j]) # добавляешь все элементы у которых i и j принадлежит Jb*\n",
        "    print('d', d)\n",
        "    i = 0\n",
        "    while i < len(d):\n",
        "      if len(d[i]) == 0:\n",
        "        d.pop(i)\n",
        "      else:\n",
        "        i += 1\n",
        "    # сносишь пустые кастраты в виде пустых массивов\n",
        "    d = np.array(d)\n",
        "    print('jbz', Jbz)\n",
        "    Abz = np.zeros((len(a), len(Jbz)))\n",
        "    for i in range(len(Jbz)):\n",
        "      Abz[:, i] = a[:, Jbz[i] - 1]\n",
        "    print('abz', Abz)\n",
        "    # базисная матрица из столбцов Jb*\n",
        "    print(d, Abz)\n",
        "    H = np.block([[d, np.transpose(Abz)], [Abz, np.zeros((2, 2))]])\n",
        "    print('H', H)\n",
        "    # делаешь матрицу H\n",
        "    H_inv = np.linalg.inv(H)\n",
        "    print('H_inv', H_inv)\n",
        "    # обратная матрица H\n",
        "    bz = []\n",
        "    for i in Jbz:\n",
        "      bz.append(D[j0][i - 1])\n",
        "    for i in range(len(a)):\n",
        "      bz.append(a[i][j0])\n",
        "    # вектор b со звездой\n",
        "    xx = np.dot(np.negative(H_inv), bz) # битый вектор x\n",
        "    for i in range(len(Jbz)):\n",
        "      l[i] = xx[i] # вектор l'\n",
        "    print('l', l)\n",
        "    sigma = np.dot(np.dot(l, D), l) # ну сигма и сигрма\n",
        "    tetta = [99999999 for _ in range(len(a[0]))] # инициализируешь бесконечностями вектор tetta\n",
        "    tetta[j0] = 99999999 if sigma == 0 else abs(deltax[j0]) / sigma # tettaj0 по формуле\n",
        "    for i in range(len(a[0])):\n",
        "      if i + 1 in Jbz:\n",
        "        if l[i] < 0:\n",
        "          tetta[i] = -(x[i] / l[i])\n",
        "    # по формулам дальше tetta\n",
        "    min, pi = 99999999, 99\n",
        "    for i in range(len(tetta)):\n",
        "      if tetta[i] < min:\n",
        "        min, pi = tetta[i], i\n",
        "    # минималки из tett\n",
        "    if min == 99999999:\n",
        "      print('Целевая функция не ограничена снизу на множестве допустимых планов')\n",
        "      return\n",
        "    x = x + np.dot(min, l)\n",
        "    # увеличиваешь x\n",
        "    #\n",
        "    fl=0 \n",
        "    f1 = np.setdiff1d(Jbz, Jb)\n",
        "#вервый случай ифа\n",
        "    \n",
        "    if pi == j0:\n",
        "      Jbz = np.append(Jbz, j0)\n",
        "      print(\"первый случай\")\n",
        "    elif pi + 1 in f1:\n",
        "      Jbz = Jbz[Jbz != pi + 1] # второй случай\n",
        "      print(\"второй случай\")\n",
        "    else: # третий\n",
        "      if pi + 1 in Jb:\n",
        "        for i in range(len(Jb)):\n",
        "          if Jb[i] == pi + 1:\n",
        "            s = i\n",
        "            break\n",
        "        for i in f1:\n",
        "          q = np.dot(Ab_inv, a[:, i-1])\n",
        "          if q[s] != 0:\n",
        "            for ii in range(len(Jb)):\n",
        "              if Jb[ii] == pi + 1:\n",
        "                Jb[ii] = i\n",
        "            Jbz = Jbz[Jbz != pi + 1]\n",
        "            fl = 1\n",
        "            break\n",
        "      if fl == 0: # четвертый\n",
        "        if pi + 1 in Jb:\n",
        "          for i in range(len(Jb)):\n",
        "            if Jb[i] == pi + 1:\n",
        "              s = i\n",
        "              break\n",
        "          for i in f1:\n",
        "            q = np.dot(Ab_inv, a[:, i - 1])\n",
        "          if q[s] == 0:\n",
        "            for ii in range(len(Jb)):\n",
        "              if Jb[ii] == pi + 1:\n",
        "                Jb[ii] = j0 + 1\n",
        "            for ii in range(len(Jbz)):\n",
        "              if Jbz[ii] == pi + 1:\n",
        "                Jbz[ii] = j0 + 1\n",
        "          if np.array_equal(Jb, Jbz):\n",
        "            for ii in range(len(Jb)):\n",
        "              if Jb[ii] == pi + 1:\n",
        "                Jb[ii] = j0 + 1\n",
        "            for ii in range(len(Jbz)):\n",
        "              if Jbz[ii] == pi + 1:\n",
        "                Jbz[ii] = j0 + 1"
      ],
      "execution_count": null,
      "outputs": []
    },
    {
      "cell_type": "code",
      "metadata": {
        "colab": {
          "base_uri": "https://localhost:8080/"
        },
        "id": "qd3HzfWWISUH",
        "outputId": "79a2fb70-196d-407b-fa0a-15d3010d5365"
      },
      "source": [
        "cx = c + np.dot(D, x)\n",
        "for i in range(len(cx)):\n",
        "  if abs(cx[i]) < 10 ** -6:\n",
        "    cx[i] = 0\n",
        "print(cx)"
      ],
      "execution_count": null,
      "outputs": [
        {
          "output_type": "stream",
          "text": [
            "[[ 2]\n",
            " [ 4]\n",
            " [-6]]\n"
          ],
          "name": "stdout"
        }
      ]
    },
    {
      "cell_type": "code",
      "metadata": {
        "colab": {
          "base_uri": "https://localhost:8080/",
          "height": 300
        },
        "id": "-FazHahDI2zl",
        "outputId": "a6b24395-c7cb-4b6c-e4d2-e42a40c9c155"
      },
      "source": [
        "cbx = [cx[i - 1] for i in Jb]\n",
        "Ab = np.zeros((len(a), len(Jb)))\n",
        "for i in range(len(Jb)):\n",
        "  Ab[:, i] = a[:, Jbz[i] - 1]\n",
        "print(Ab)\n",
        "Ab_inv = np.linalg.inv(Ab)\n",
        "ux = np.dot(np.negative(cbx), Ab_inv)\n",
        "\n",
        "print(ux)"
      ],
      "execution_count": null,
      "outputs": [
        {
          "output_type": "stream",
          "text": [
            "[[0. 1.]\n",
            " [1. 0.]]\n"
          ],
          "name": "stdout"
        },
        {
          "output_type": "error",
          "ename": "ValueError",
          "evalue": "ignored",
          "traceback": [
            "\u001b[0;31m---------------------------------------------------------------------------\u001b[0m",
            "\u001b[0;31mValueError\u001b[0m                                Traceback (most recent call last)",
            "\u001b[0;32m<ipython-input-22-22710a1d8325>\u001b[0m in \u001b[0;36m<module>\u001b[0;34m()\u001b[0m\n\u001b[1;32m      5\u001b[0m \u001b[0mprint\u001b[0m\u001b[0;34m(\u001b[0m\u001b[0mAb\u001b[0m\u001b[0;34m)\u001b[0m\u001b[0;34m\u001b[0m\u001b[0;34m\u001b[0m\u001b[0m\n\u001b[1;32m      6\u001b[0m \u001b[0mAb_inv\u001b[0m \u001b[0;34m=\u001b[0m \u001b[0mnp\u001b[0m\u001b[0;34m.\u001b[0m\u001b[0mlinalg\u001b[0m\u001b[0;34m.\u001b[0m\u001b[0minv\u001b[0m\u001b[0;34m(\u001b[0m\u001b[0mAb\u001b[0m\u001b[0;34m)\u001b[0m\u001b[0;34m\u001b[0m\u001b[0;34m\u001b[0m\u001b[0m\n\u001b[0;32m----> 7\u001b[0;31m \u001b[0mux\u001b[0m \u001b[0;34m=\u001b[0m \u001b[0mnp\u001b[0m\u001b[0;34m.\u001b[0m\u001b[0mdot\u001b[0m\u001b[0;34m(\u001b[0m\u001b[0mnp\u001b[0m\u001b[0;34m.\u001b[0m\u001b[0mnegative\u001b[0m\u001b[0;34m(\u001b[0m\u001b[0mcbx\u001b[0m\u001b[0;34m)\u001b[0m\u001b[0;34m,\u001b[0m \u001b[0mAb_inv\u001b[0m\u001b[0;34m)\u001b[0m\u001b[0;34m\u001b[0m\u001b[0;34m\u001b[0m\u001b[0m\n\u001b[0m\u001b[1;32m      8\u001b[0m \u001b[0;34m\u001b[0m\u001b[0m\n\u001b[1;32m      9\u001b[0m \u001b[0mprint\u001b[0m\u001b[0;34m(\u001b[0m\u001b[0mux\u001b[0m\u001b[0;34m)\u001b[0m\u001b[0;34m\u001b[0m\u001b[0;34m\u001b[0m\u001b[0m\n",
            "\u001b[0;32m<__array_function__ internals>\u001b[0m in \u001b[0;36mdot\u001b[0;34m(*args, **kwargs)\u001b[0m\n",
            "\u001b[0;31mValueError\u001b[0m: shapes (2,1,1) and (2,2) not aligned: 1 (dim 2) != 2 (dim 0)"
          ]
        }
      ]
    },
    {
      "cell_type": "code",
      "metadata": {
        "colab": {
          "base_uri": "https://localhost:8080/"
        },
        "id": "sVf_M0iXJpVL",
        "outputId": "e62da153-7244-43f8-9233-ca20c8e7af8a"
      },
      "source": [
        "deltax = np.dot(ux, a) + cx\n",
        "for i in range(len(deltax)):\n",
        "  if abs(deltax[i]) < 10**-6:\n",
        "    deltax[i] = 0\n",
        "print(Jbz, deltax)"
      ],
      "execution_count": null,
      "outputs": [
        {
          "output_type": "stream",
          "text": [
            "[1 2 4] [0.  0.  0.2 0. ]\n"
          ],
          "name": "stdout"
        }
      ]
    },
    {
      "cell_type": "code",
      "metadata": {
        "colab": {
          "base_uri": "https://localhost:8080/"
        },
        "id": "9V0U5cKyK8-9",
        "outputId": "d336af8d-18a9-418e-bba3-214b0f171058"
      },
      "source": [
        "if np.min(deltax) >= 0:\n",
        "  print('Завершаем работу')"
      ],
      "execution_count": null,
      "outputs": [
        {
          "output_type": "stream",
          "text": [
            "Завершаем работу\n"
          ],
          "name": "stdout"
        }
      ]
    },
    {
      "cell_type": "code",
      "metadata": {
        "colab": {
          "base_uri": "https://localhost:8080/"
        },
        "id": "_-0GcXEyLcvk",
        "outputId": "d89f81e3-d02c-447d-d73a-9413127f4c93"
      },
      "source": [
        "for i in range(len(deltax)):\n",
        "  if deltax[i] < 0:\n",
        "    j0 = i\n",
        "    break\n",
        "print(j0)"
      ],
      "execution_count": null,
      "outputs": [
        {
          "output_type": "stream",
          "text": [
            "3\n"
          ],
          "name": "stdout"
        }
      ]
    },
    {
      "cell_type": "code",
      "metadata": {
        "colab": {
          "base_uri": "https://localhost:8080/"
        },
        "id": "jigFBPfLLov6",
        "outputId": "f932db04-f048-40a2-c72c-d8fced00ac72"
      },
      "source": [
        "Jnb = []\n",
        "for i in range(1, len(a[0]) + 1):\n",
        "  if i not in Jbz:\n",
        "    Jnb.append(i)\n",
        "Jnb = np.array(Jnb)\n",
        "l = [0 for _ in range(len(a[0]))]\n",
        "for i in range(len(Jnb)):\n",
        "  if Jnb[i] - 1 == j0:\n",
        "    l[Jnb[i] - 1] = 1\n",
        "print(l)"
      ],
      "execution_count": null,
      "outputs": [
        {
          "output_type": "stream",
          "text": [
            "[0, 0, 0, 1]\n"
          ],
          "name": "stdout"
        }
      ]
    },
    {
      "cell_type": "code",
      "metadata": {
        "colab": {
          "base_uri": "https://localhost:8080/"
        },
        "id": "lSUuU7XLT54T",
        "outputId": "5e514b88-db29-42b2-980f-5c04ae81b250"
      },
      "source": [
        "d = []\n",
        "print(Jbz)\n",
        "for i in range(len(D)):\n",
        "  d.append([])\n",
        "  for j in range(len(D)):\n",
        "    if (i + 1) in Jbz and (j + 1) in Jbz:\n",
        "      print(i, j)\n",
        "      d[-1].append(D[i][j])\n",
        "\n",
        "i = 0\n",
        "while i < len(d):\n",
        "  if len(d[i]) == 0:\n",
        "    d.pop(i)\n",
        "  else:\n",
        "    i += 1\n",
        "print(d)\n",
        "d = np.array(d)\n",
        "Abz = np.zeros((len(a), len(Jbz)))\n",
        "print(len(Jbz))\n",
        "print(Abz)\n",
        "for i in range(len(Jbz)):\n",
        "  Abz[:, i] = a[:, Jbz[i] - 1]\n",
        "print(Abz)\n",
        "print('asd')\n",
        "print(d)\n",
        "H = np.block([[d, np.transpose(Abz)], [Abz, np.zeros((2, 2))]])\n",
        "print(H)\n",
        "H_inv = np.linalg.inv(H)\n",
        "print(H_inv)\n"
      ],
      "execution_count": null,
      "outputs": [
        {
          "output_type": "stream",
          "text": [
            "[1 2]\n",
            "0 0\n",
            "0 1\n",
            "1 0\n",
            "1 1\n",
            "[[2, 1], [1, 1]]\n",
            "2\n",
            "[[0. 0.]\n",
            " [0. 0.]]\n",
            "[[1. 0.]\n",
            " [0. 1.]]\n",
            "asd\n",
            "[[2 1]\n",
            " [1 1]]\n",
            "[[2. 1. 1. 0.]\n",
            " [1. 1. 0. 1.]\n",
            " [1. 0. 0. 0.]\n",
            " [0. 1. 0. 0.]]\n",
            "[[ 0.  0.  1.  0.]\n",
            " [ 0.  0.  0.  1.]\n",
            " [ 1. -0. -2. -1.]\n",
            " [ 0.  1. -1. -1.]]\n"
          ],
          "name": "stdout"
        }
      ]
    },
    {
      "cell_type": "code",
      "metadata": {
        "colab": {
          "base_uri": "https://localhost:8080/"
        },
        "id": "15vaoTQhMItX",
        "outputId": "24508d5a-5bb9-4f53-bb28-623300bd7411"
      },
      "source": [
        "bz = []\n",
        "for i in Jbz:\n",
        "  bz.append(D[j0][i - 1])\n",
        "print(len(a))\n",
        "for i in range(len(a)):\n",
        "  bz.append(a[i][j0])\n",
        "print(bz)"
      ],
      "execution_count": null,
      "outputs": [
        {
          "output_type": "stream",
          "text": [
            "2\n",
            "[0, 0, 1, 2]\n"
          ],
          "name": "stdout"
        }
      ]
    },
    {
      "cell_type": "code",
      "metadata": {
        "colab": {
          "base_uri": "https://localhost:8080/"
        },
        "id": "X-c9f-b2WbGn",
        "outputId": "c421c2c3-c09a-4b42-d836-e0e4cbdec507"
      },
      "source": [
        "xx = np.dot(np.negative(H_inv), bz)\n",
        "print(xx)"
      ],
      "execution_count": null,
      "outputs": [
        {
          "output_type": "stream",
          "text": [
            "[-1. -2.  4.  3.]\n"
          ],
          "name": "stdout"
        }
      ]
    },
    {
      "cell_type": "code",
      "metadata": {
        "colab": {
          "base_uri": "https://localhost:8080/"
        },
        "id": "3hmHMX7zW8Tz",
        "outputId": "24ea2c3d-a255-4821-d31f-d417c5c4c772"
      },
      "source": [
        "\n",
        "for i in range(len(Jbz)):\n",
        "  l[Jbz[i] - 1] = xx[i]\n",
        "\n",
        "print(l)"
      ],
      "execution_count": null,
      "outputs": [
        {
          "output_type": "stream",
          "text": [
            "[-1.0, -2.0, 0, 1]\n"
          ],
          "name": "stdout"
        }
      ]
    },
    {
      "cell_type": "code",
      "metadata": {
        "colab": {
          "base_uri": "https://localhost:8080/"
        },
        "id": "PMkEb7oRZUwI",
        "outputId": "759368b3-51e7-4f63-97df-b0562695def6"
      },
      "source": [
        "sigma = np.dot(np.dot(l, D), l)\n",
        "print(sigma)"
      ],
      "execution_count": null,
      "outputs": [
        {
          "output_type": "stream",
          "text": [
            "10.0\n"
          ],
          "name": "stdout"
        }
      ]
    },
    {
      "cell_type": "code",
      "metadata": {
        "colab": {
          "base_uri": "https://localhost:8080/"
        },
        "id": "6apoe88cYdKe",
        "outputId": "e9d0a076-233a-4aa1-fbb5-7682156258de"
      },
      "source": [
        "tetta = [99999999 for _ in range(len(a[0]))]\n",
        "tetta[j0] = 99999999 if sigma == 0 else abs(deltax[j0]) / sigma\n",
        "for i in range(len(a[0])):\n",
        "  if i + 1 in Jbz:\n",
        "    if l[i] < 0:\n",
        "      tetta[i] = -(x[i] / l[i])\n",
        "\n",
        "print(tetta)"
      ],
      "execution_count": null,
      "outputs": [
        {
          "output_type": "stream",
          "text": [
            "[1.75, 1.25, 99999999, 0.05]\n"
          ],
          "name": "stdout"
        }
      ]
    },
    {
      "cell_type": "code",
      "metadata": {
        "colab": {
          "base_uri": "https://localhost:8080/"
        },
        "id": "UuxWBDdMbOF1",
        "outputId": "79d9e352-c623-4f3c-aad2-a04fa04e985e"
      },
      "source": [
        "min, pi = 99999999, 99\n",
        "for i in range(len(tetta)):\n",
        "  if tetta[i] < min:\n",
        "    min, pi = tetta[i], i\n",
        "if min == 99999999:\n",
        "  print('Целевая функция не ограничена снизу на множестве допустимых планов')\n",
        "print(min, pi)"
      ],
      "execution_count": null,
      "outputs": [
        {
          "output_type": "stream",
          "text": [
            "0.05 3\n"
          ],
          "name": "stdout"
        }
      ]
    },
    {
      "cell_type": "code",
      "metadata": {
        "id": "Tki7EhSbaMJR"
      },
      "source": [
        "x = x + np.dot(min, l)"
      ],
      "execution_count": null,
      "outputs": []
    },
    {
      "cell_type": "code",
      "metadata": {
        "colab": {
          "base_uri": "https://localhost:8080/"
        },
        "id": "VsMdKacmci38",
        "outputId": "3c12c2bf-bcdb-41f8-b6e7-641021fa2ac2"
      },
      "source": [
        "print(x)"
      ],
      "execution_count": null,
      "outputs": [
        {
          "output_type": "stream",
          "text": [
            "[1.7 2.4 0.  0.3]\n"
          ],
          "name": "stdout"
        }
      ]
    },
    {
      "cell_type": "code",
      "metadata": {
        "colab": {
          "base_uri": "https://localhost:8080/"
        },
        "id": "Dy44SPUncj4j",
        "outputId": "28219b35-4b5a-420b-df6c-c6f0af44bf9e"
      },
      "source": [
        "if pi == j0:\n",
        "  print('1ый исход')\n",
        "  Jbz = np.append(Jbz, j0 + 1)"
      ],
      "execution_count": null,
      "outputs": [
        {
          "output_type": "stream",
          "text": [
            "1ый исход\n"
          ],
          "name": "stdout"
        }
      ]
    },
    {
      "cell_type": "code",
      "metadata": {
        "colab": {
          "base_uri": "https://localhost:8080/"
        },
        "id": "ao4OFn3rcqer",
        "outputId": "5f2541f4-caf5-466d-b63b-5d0fee7998a0"
      },
      "source": [
        "print(Jbz, Jb)"
      ],
      "execution_count": null,
      "outputs": [
        {
          "output_type": "stream",
          "text": [
            "[1 2 3] [1 2]\n"
          ],
          "name": "stdout"
        }
      ]
    },
    {
      "cell_type": "code",
      "metadata": {
        "colab": {
          "base_uri": "https://localhost:8080/"
        },
        "id": "Kb2-WnGYdTE7",
        "outputId": "160ad30e-a705-4613-d6fb-0588835b7dee"
      },
      "source": [
        "f1 = np.setdiff1d(Jbz, Jb)\n",
        "print(f1)"
      ],
      "execution_count": null,
      "outputs": [
        {
          "output_type": "stream",
          "text": [
            "[3]\n"
          ],
          "name": "stdout"
        }
      ]
    },
    {
      "cell_type": "code",
      "metadata": {
        "colab": {
          "base_uri": "https://localhost:8080/"
        },
        "id": "Vji1QZqgeNiR",
        "outputId": "c273d206-8c38-49f4-8e33-95901a302b7f"
      },
      "source": [
        "if pi + 1 in f1:\n",
        "  print('2-ой исход')\n",
        "  Jbz = Jbz[Jbz != pi + 1]\n",
        "  print(Jbz)"
      ],
      "execution_count": null,
      "outputs": [
        {
          "output_type": "stream",
          "text": [
            "2-ой исход\n",
            "[1 2]\n"
          ],
          "name": "stdout"
        }
      ]
    },
    {
      "cell_type": "code",
      "metadata": {
        "colab": {
          "base_uri": "https://localhost:8080/"
        },
        "id": "LRoWMyBUfBXW",
        "outputId": "f5fd0673-97b3-4e6b-f061-44f343cd4865"
      },
      "source": [
        "if pi + 1 in Jb:\n",
        "  for i in range(len(Jb)):\n",
        "    if Jb[i] == pi + 1:\n",
        "      s = i\n",
        "      break\n",
        "  for i in f1:\n",
        "    q = np.dot(Ab_inv, a[:, i - 1])\n",
        "    if q[s] == 0:\n",
        "      print('4-ый исход')\n",
        "      for ii in range(len(Jb)):\n",
        "        if Jb[ii] == pi + 1:\n",
        "          Jb[ii] = j0 + 1\n",
        "      for ii in range(len(Jbz)):\n",
        "        if Jbz[ii] == pi + 1:\n",
        "          Jbz[ii] = j0 + 1\n",
        "  if np.array_equal(Jb, Jbz):\n",
        "    print('4-ый исход')\n",
        "    print('sad')\n",
        "    print(pi)\n",
        "    for ii in range(len(Jb)):\n",
        "        if Jb[ii] == pi + 1:\n",
        "          Jb[ii] = j0 + 1\n",
        "    for ii in range(len(Jbz)):\n",
        "      if Jbz[ii] == pi + 1:\n",
        "        Jbz[ii] = j0 + 1\n",
        "print(Jb, Jbz)\n",
        "\n",
        "  \n",
        "    \n",
        "  "
      ],
      "execution_count": null,
      "outputs": [
        {
          "output_type": "stream",
          "text": [
            "[1 2] [1 2 3]\n"
          ],
          "name": "stdout"
        }
      ]
    },
    {
      "cell_type": "code",
      "metadata": {
        "id": "3BzPxuhuhQrT"
      },
      "source": [
        "if pi + 1 in Jb:\n",
        "  for i in range(len(Jb)):\n",
        "    if Jb[i] == pi + 1:\n",
        "      s = i\n",
        "      break\n",
        "  for i in f1:\n",
        "    q = np.dot(Ab_inv, a[:, i-1])\n",
        "    if q[s] != 0:\n",
        "      for ii in range(len(Jb)):\n",
        "        if Jb[ii] == pi + 1:\n",
        "          Jb[ii] = i\n",
        "      Jbz = Jbz[Jbz != pi + 1]\n",
        "      break"
      ],
      "execution_count": null,
      "outputs": []
    },
    {
      "cell_type": "code",
      "metadata": {
        "colab": {
          "base_uri": "https://localhost:8080/"
        },
        "id": "9hpuMxLcxsi8",
        "outputId": "f5fd0673-97b3-4e6b-f061-44f343cd4865"
      },
      "source": [
        "if pi + 1 in Jb:\n",
        "  for i in range(len(Jb)):\n",
        "    if Jb[i] == pi + 1:\n",
        "      s = i\n",
        "      break\n",
        "  for i in f1:\n",
        "    q = np.dot(Ab_inv, a[:, i - 1])\n",
        "    if q[s] == 0:\n",
        "      print('4-ый исход')\n",
        "      for ii in range(len(Jb)):\n",
        "        if Jb[ii] == pi + 1:\n",
        "          Jb[ii] = j0 + 1\n",
        "      for ii in range(len(Jbz)):\n",
        "        if Jbz[ii] == pi + 1:\n",
        "          Jbz[ii] = j0 + 1\n",
        "  if np.array_equal(Jb, Jbz):\n",
        "    print('4-ый исход')\n",
        "    print('sad')\n",
        "    print(pi)\n",
        "    for ii in range(len(Jb)):\n",
        "        if Jb[ii] == pi + 1:\n",
        "          Jb[ii] = j0 + 1\n",
        "    for ii in range(len(Jbz)):\n",
        "      if Jbz[ii] == pi + 1:\n",
        "        Jbz[ii] = j0 + 1\n",
        "print(Jb, Jbz)\n",
        "\n",
        "  \n",
        "    \n",
        "  "
      ],
      "execution_count": null,
      "outputs": [
        {
          "output_type": "stream",
          "text": [
            "[1 2] [1 2 3]\n"
          ],
          "name": "stdout"
        }
      ]
    },
    {
      "cell_type": "code",
      "metadata": {
        "id": "uGKYfdCbxa5c"
      },
      "source": [
        ""
      ],
      "execution_count": null,
      "outputs": []
    }
  ]
}