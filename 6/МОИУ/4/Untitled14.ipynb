{
  "nbformat": 4,
  "nbformat_minor": 0,
  "metadata": {
    "colab": {
      "name": "Untitled14.ipynb",
      "provenance": []
    },
    "kernelspec": {
      "name": "python3",
      "display_name": "Python 3"
    },
    "language_info": {
      "name": "python"
    }
  },
  "cells": [
    {
      "cell_type": "code",
      "metadata": {
        "id": "VXlFUuThcy7I"
      },
      "source": [
        "def generate_bazis(A, Jb):\n",
        "  z = np.eye(len(Jb))\n",
        "  j = 0\n",
        "  for i in Jb:\n",
        "    z[:, j] = A[:, i - 1]\n",
        "    j += 1\n",
        "  return z"
      ],
      "execution_count": null,
      "outputs": []
    },
    {
      "cell_type": "code",
      "metadata": {
        "colab": {
          "base_uri": "https://localhost:8080/"
        },
        "id": "lVpe561QfO3Z",
        "outputId": "c1f69238-a683-4176-fe53-77c5fd83851b"
      },
      "source": [
        "import math\n",
        "\n",
        "t = int(input())\n",
        "while t > 0:\n",
        "  t -= 1\n",
        "  n, m = [int(x) for x in input().split()]\n",
        "  f = [int(x) for x in input().split()]\n",
        "  f += [9999999999]\n",
        "  c = [int(x) for x in input().split()]\n",
        "  c += [9999999999]\n",
        "  i, j = 0, 0\n",
        "  k = 1\n",
        "  ans = 0\n",
        "  while i < n or j < m:\n",
        "    if k == 1:\n",
        "      if f[i] < c[j]:\n",
        "        i += 1\n",
        "      else:\n",
        "        j += 1\n",
        "        ans += 1\n",
        "        k = 2\n",
        "    else:\n",
        "      if c[j] < f[i]:\n",
        "        j += 1\n",
        "      else:\n",
        "        i += 1\n",
        "        ans += 1\n",
        "        k = 1\n",
        "  print(ans)\n",
        "\n",
        "      \n"
      ],
      "execution_count": null,
      "outputs": [
        {
          "output_type": "stream",
          "text": [
            "3\n",
            "2 2\n",
            "1 3\n",
            "2 4\n",
            "3\n",
            "3 1\n",
            "100 200 300\n",
            "1\n",
            "2\n",
            "1 2\n",
            "1\n",
            "100 200\n",
            "1\n"
          ],
          "name": "stdout"
        }
      ]
    },
    {
      "cell_type": "markdown",
      "metadata": {
        "id": "VIlaqshzeC56"
      },
      "source": [
        "# Препроцессинг"
      ]
    },
    {
      "cell_type": "code",
      "metadata": {
        "colab": {
          "base_uri": "https://localhost:8080/"
        },
        "id": "cOghlf2XcDTf",
        "outputId": "d3db9144-849a-4242-b961-e72774dfdb7c"
      },
      "source": [
        "import numpy as np\n",
        "c = np.array([-6, 3, 0, 1])\n",
        "A = np.array([[-2, 1, 1, 1], [3, 4, 0, 1]])\n",
        "b = np.array([-9, -6.])\n",
        "Jb = np.array([3, 4])\n",
        "iteration = 0\n",
        "print(solve(c, A, b, Jb))\n"
      ],
      "execution_count": null,
      "outputs": [
        {
          "output_type": "stream",
          "text": [
            "sadasdasd [ 0.  0. -3. -6.]\n",
            "[ 1. -1.]\n",
            "[-2  3] 1\n",
            "[ 1. -1.]\n",
            "[1 4] 2\n",
            "[ 1. -1.] [-5. -3.]\n",
            "sadasdasd [  0.   0.   0. -10.]\n",
            "[ 1.33333333 -0.33333333]\n",
            "[-2  3] 1\n",
            "[ 1.33333333 -0.33333333]\n",
            "[1 0] 3\n",
            "[ 1.33333333 -0.33333333] [-3.66666667  1.33333333]\n",
            "sadasdasd [ 2. -3.  0.  0.]\n",
            "[0.27272727 0.18181818]\n",
            "[1 0] 3\n",
            "[0.27272727 0.18181818]\n",
            "[1 1] 4\n",
            "[0.27272727 0.18181818] [0.27272727 0.45454545]\n",
            "Задача несовместна\n"
          ],
          "name": "stdout"
        }
      ]
    },
    {
      "cell_type": "code",
      "metadata": {
        "id": "xlqqVh8X9FLI"
      },
      "source": [
        "def solve(c, A, b, Jb):\n",
        "  global iteration\n",
        "  while True:\n",
        "    iteration += 1\n",
        "    Ab = generate_bazis(A, Jb)\n",
        "    Ab_inv = np.linalg.inv(Ab)\n",
        "    cb = np.array([c[i - 1] for i in Jb])\n",
        "    if iteration == 1:\n",
        "      y = np.dot(cb, Ab_inv)\n",
        "    xb = np.dot(Ab_inv, b)\n",
        "    x = np.array([0 for i in range(len(A[0]))])\n",
        "    for i in range(len(Jb)):\n",
        "      x[Jb[i] - 1] = xb[i]\n",
        "    x = x.astype(float)\n",
        "    if np.min(x) >= 0:\n",
        "      return x\n",
        "    print('sadasdasd', x)\n",
        "    for i in range(len(x)):\n",
        "      if x[i] < 0:\n",
        "        k = i + 1\n",
        "        break\n",
        "    for i in range(len(Jb)):\n",
        "      if Jb[i] == k:\n",
        "        jk = i\n",
        "        ram = Jb[i]\n",
        "    deltay = Ab_inv[jk]\n",
        "    Jn = []\n",
        "    for i in range(1, len(x) + 1):\n",
        "      if i not in Jb:\n",
        "        Jn += [i]\n",
        "    Jn = np.array(Jn)\n",
        "    u = np.copy(Jn)\n",
        "    u = u.astype(float)\n",
        "    for i in range(len(u)):\n",
        "      print(deltay)\n",
        "      print(A[:, Jn[i] - 1], Jn[i])\n",
        "      u[i] = np.dot(deltay, A[:, Jn[i] - 1])\n",
        "    print(deltay, u)\n",
        "    if np.min(u) >= 0:\n",
        "      return 'Задача несовместна'\n",
        "    sigma = np.copy(u)\n",
        "    sigma = sigma.astype(float)\n",
        "    for i in range(len(sigma)):\n",
        "      if u[i] >= 0:\n",
        "        sigma[i] = 999999\n",
        "      else:\n",
        "        sigma[i] = (c[Jn[i] - 1] - np.dot(A[:, Jn[i] - 1], y)) / u[i]\n",
        "    sigma0 = np.min(sigma)\n",
        "    j0 = Jn[np.argmin(sigma)]\n",
        "    Jb[jk] = j0\n",
        "    y += np.dot(sigma0, deltay)\n"
      ],
      "execution_count": null,
      "outputs": []
    },
    {
      "cell_type": "code",
      "metadata": {
        "colab": {
          "base_uri": "https://localhost:8080/"
        },
        "id": "jrsThAOpeMYk",
        "outputId": "c6b1ba6e-5fe6-468a-939e-b4de0bb36d6b"
      },
      "source": [
        "xb = np.dot(Ab_inv, b)\n",
        "print(xb)\n",
        "x = np.array([0 for i in range(len(A[0]))])\n",
        "x = x.astype(float)\n",
        "print(x)\n",
        "for i in range(len(Jb)):\n",
        "  x[Jb[i] - 1] = xb[i]\n",
        "print(xb)\n",
        "print(x)"
      ],
      "execution_count": null,
      "outputs": [
        {
          "output_type": "stream",
          "text": [
            "[3. 5.]\n",
            "[0. 0. 0. 0.]\n",
            "[3. 5.]\n",
            "[5. 3. 0. 0.]\n"
          ],
          "name": "stdout"
        }
      ]
    },
    {
      "cell_type": "code",
      "metadata": {
        "id": "XczDxBAxfT87"
      },
      "source": [
        "if np.min(x) >= 0:\n",
        "  print('Задача совместна')\n",
        "  print(x)"
      ],
      "execution_count": null,
      "outputs": []
    },
    {
      "cell_type": "code",
      "metadata": {
        "colab": {
          "base_uri": "https://localhost:8080/"
        },
        "id": "waCoz4hgfj_U",
        "outputId": "36f40704-294d-4122-f96d-59d34cab23c3"
      },
      "source": [
        "for i in range(len(x)):\n",
        "  if x[i] < 0:\n",
        "    k = i + 1\n",
        "    \n",
        "for i in range(len(Jb)):\n",
        "  if Jb[i] == k:\n",
        "    jk = i\n",
        "    ram = Jb[i]\n",
        "print(jk, ram)\n",
        "    \n",
        "print(jk)\n",
        "deltay = Ab_inv[jk]\n",
        "print(deltay)"
      ],
      "execution_count": null,
      "outputs": [
        {
          "output_type": "stream",
          "text": [
            "0 3\n",
            "0\n",
            "[0.33333333 0.33333333]\n"
          ],
          "name": "stdout"
        }
      ]
    },
    {
      "cell_type": "code",
      "metadata": {
        "colab": {
          "base_uri": "https://localhost:8080/"
        },
        "id": "aAoiw-tEim20",
        "outputId": "1c8ebd8d-304d-47fb-a6ac-be11e5e37460"
      },
      "source": [
        "Jn = []\n",
        "\n",
        "for i in range(1, len(x) + 1):\n",
        "  if i not in Jb:\n",
        "    Jn += [i]\n",
        "\n",
        "Jn = np.array(Jn)\n",
        "\n",
        "u = np.copy(Jn)\n",
        "\n",
        "u = u.astype(float)\n",
        "\n",
        "for i in range(len(u)):\n",
        "  u[i] = np.dot(deltay, A[:, Jn[i] - 1])\n",
        "\n",
        "if np.min(u) >= 0:\n",
        "  print('Задача несовместна')\n",
        "print(u)\n",
        "    "
      ],
      "execution_count": null,
      "outputs": [
        {
          "output_type": "stream",
          "text": [
            "[-3.66666667  0.66666667]\n"
          ],
          "name": "stdout"
        }
      ]
    },
    {
      "cell_type": "code",
      "metadata": {
        "colab": {
          "base_uri": "https://localhost:8080/"
        },
        "id": "AKW09OzGkzy6",
        "outputId": "174a6cd2-2780-45cd-9a87-92f5e9a58415"
      },
      "source": [
        "sigma = np.copy(u)\n",
        "sigma = sigma.astype(float)\n",
        "for i in range(len(sigma)):\n",
        "  if u[i] >= 0:\n",
        "    sigma[i] = 999999\n",
        "  else:\n",
        "    sigma[i] = (c[Jn[i] - 1] - np.dot(A[:, Jn[i] - 1], y)) / u[i]\n",
        "print(sigma)"
      ],
      "execution_count": null,
      "outputs": [
        {
          "output_type": "stream",
          "text": [
            "[4.54545455e-01 9.99999000e+05]\n"
          ],
          "name": "stdout"
        }
      ]
    },
    {
      "cell_type": "code",
      "metadata": {
        "colab": {
          "base_uri": "https://localhost:8080/"
        },
        "id": "pOLCKoIroGZw",
        "outputId": "ccc083d3-0be7-4be6-b86d-e3d330864dd0"
      },
      "source": [
        "sigma0 = np.min(sigma)\n",
        "j0 = Jn[np.argmin(sigma)]\n",
        "Jb[jk] = j0\n",
        "print(Jb)\n",
        "print(ram)\n",
        "print(sigma0, j0)"
      ],
      "execution_count": null,
      "outputs": [
        {
          "output_type": "stream",
          "text": [
            "[2 1]\n",
            "3\n",
            "0.45454545454545436 2\n"
          ],
          "name": "stdout"
        }
      ]
    },
    {
      "cell_type": "code",
      "metadata": {
        "colab": {
          "base_uri": "https://localhost:8080/"
        },
        "id": "d4wnsu8muW0I",
        "outputId": "9230d0d9-70b1-4798-fca6-861aeec9c873"
      },
      "source": [
        "y += np.dot(sigma0, deltay)\n",
        "print(y)"
      ],
      "execution_count": null,
      "outputs": [
        {
          "output_type": "stream",
          "text": [
            "[ 0.81818182 -0.18181818]\n"
          ],
          "name": "stdout"
        }
      ]
    }
  ]
}